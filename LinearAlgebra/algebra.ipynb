{
 "cells": [
  {
   "cell_type": "markdown",
   "id": "f7522897",
   "metadata": {},
   "source": [
    "# Linear Algebra\n",
    "`The branch of mathematics that deals with the theory of systems of linear equations, matrices, vector spaces, and linear transformations.`\n"
   ]
  },
  {
   "cell_type": "code",
   "execution_count": 1,
   "id": "77edebcb",
   "metadata": {},
   "outputs": [],
   "source": [
    "# ! pip install numpy\n",
    "import numpy as np"
   ]
  },
  {
   "cell_type": "markdown",
   "id": "308db898",
   "metadata": {},
   "source": [
    "## Vector - \n",
    "**_*`A vector is a quantity which has both magnitude and direction.`*_**\n",
    "****\n",
    "\n",
    "$$ Row Vector = \\begin{bmatrix} 3 & 2 & -1 \\end{bmatrix}$$\n",
    "\n",
    "$$ Column Vector = \\begin{bmatrix} 3 \\\\ 2 \\\\ -1 \\end{bmatrix}$$"
   ]
  },
  {
   "cell_type": "code",
   "execution_count": 2,
   "id": "54cc66f9",
   "metadata": {},
   "outputs": [
    {
     "data": {
      "text/plain": [
       "array([1, 2, 3, 4, 5, 6, 7])"
      ]
     },
     "execution_count": 2,
     "metadata": {},
     "output_type": "execute_result"
    }
   ],
   "source": [
    "# row vector - target\n",
    "np.arange(1, 8)"
   ]
  },
  {
   "cell_type": "code",
   "execution_count": 3,
   "id": "426204d8",
   "metadata": {},
   "outputs": [
    {
     "data": {
      "text/plain": [
       "array([[1],\n",
       "       [2],\n",
       "       [3],\n",
       "       [4],\n",
       "       [5],\n",
       "       [6],\n",
       "       [7]])"
      ]
     },
     "execution_count": 3,
     "metadata": {},
     "output_type": "execute_result"
    }
   ],
   "source": [
    "# column vector - features\n",
    "np.arange(1, 8).reshape(-1, 1)"
   ]
  },
  {
   "cell_type": "code",
   "execution_count": null,
   "id": "ccf1c886",
   "metadata": {},
   "outputs": [],
   "source": []
  },
  {
   "cell_type": "markdown",
   "id": "cc30b7b3",
   "metadata": {},
   "source": [
    "## Vector Ops - \n",
    "**_*`A vector is a quantity which has both magnitude and direction.`*_**\n",
    "****\n",
    "| Operation | X | Y | Output |\n",
    "| :-------- | ---: | ::--- | ----::|\n",
    "| Vector Adition | $$ x = \\begin{bmatrix} 3 \\\\ 2 \\\\ 1 \\end{bmatrix} $$ | $$ y = \\begin{bmatrix} 5 \\\\ 3 \\\\ 0 \\end{bmatrix}$$ | $$ output = \\begin{bmatrix} 3 + 5 \\\\ 2 + 3 \\\\ 1 + 0 \\end{bmatrix}= \\begin{bmatrix} 8 \\\\ 5 \\\\ 1 \\end{bmatrix} $$ |\n",
    "| Vector Subtraction | $$ x = \\begin{bmatrix} 3 \\\\ 2 \\\\ 1 \\end{bmatrix} $$ | $$ y = \\begin{bmatrix} 5 \\\\ 3 \\\\ 0 \\end{bmatrix}$$ | $$ output = \\begin{bmatrix} 3 - 5 \\\\ 2 - 3 \\\\ 1 - 0 \\end{bmatrix}= \\begin{bmatrix} -2 \\\\ -1 \\\\ 1 \\end{bmatrix} $$ |\n",
    "| Vector Multiplication | $$ x = \\begin{bmatrix} 3 \\\\ 2 \\\\ 1 \\end{bmatrix} $$ | $$ y = \\begin{bmatrix} 5 \\\\ 3 \\\\ 1 \\end{bmatrix}$$ | $$ output = \\begin{bmatrix} 3 \\times 5 \\\\ 2\\times3 \\\\ 1\\times0 \\end{bmatrix}= \\begin{bmatrix} 15 \\\\ 6 \\\\ 0 \\end{bmatrix} $$ |\n",
    "| Vector Division | $$ x = \\begin{bmatrix} 3 \\\\ 2 \\\\ 1 \\end{bmatrix} $$ | $$ y = \\begin{bmatrix} 3 \\\\ 2 \\\\ 1 \\end{bmatrix}$$ | $$ output = \\begin{bmatrix} \\frac33 \\\\ \\frac22 \\\\ \\frac11 \\end{bmatrix}= \\begin{bmatrix} 1 \\\\ 1 \\\\ 1 \\end{bmatrix} $$ |\n",
    "| Scaler-Vector Operations | $$ x = 2 $$ | $$ y = \\begin{bmatrix} 5 \\\\ 3 \\\\ 1 \\end{bmatrix}$$ | $$ output = \\begin{bmatrix} 2 \\times 5 \\\\ 2\\times3 \\\\ 2\\times0 \\end{bmatrix}= \\begin{bmatrix} 10 \\\\ 6 \\\\ 0 \\end{bmatrix} $$ |"
   ]
  },
  {
   "cell_type": "code",
   "execution_count": 4,
   "id": "01fa4d1b",
   "metadata": {},
   "outputs": [],
   "source": [
    "# create vectors or arrays\n",
    "x = np.array([3, 2, 1])\n",
    "y = np.array([5, 3, 0])"
   ]
  },
  {
   "cell_type": "code",
   "execution_count": 5,
   "id": "845ac728",
   "metadata": {},
   "outputs": [
    {
     "data": {
      "text/plain": [
       "array([8, 5, 1])"
      ]
     },
     "execution_count": 5,
     "metadata": {},
     "output_type": "execute_result"
    }
   ],
   "source": [
    "# vector addition\n",
    "x + y\n",
    "np.add(x, y)"
   ]
  },
  {
   "cell_type": "code",
   "execution_count": 6,
   "id": "3dfa1175",
   "metadata": {},
   "outputs": [
    {
     "data": {
      "text/plain": [
       "array([-2, -1,  1])"
      ]
     },
     "execution_count": 6,
     "metadata": {},
     "output_type": "execute_result"
    }
   ],
   "source": [
    "# vector subtraction\n",
    "x - y\n",
    "np.subtract(x, y)"
   ]
  },
  {
   "cell_type": "code",
   "execution_count": 7,
   "id": "b5684be7",
   "metadata": {},
   "outputs": [
    {
     "data": {
      "text/plain": [
       "array([15,  6,  0])"
      ]
     },
     "execution_count": 7,
     "metadata": {},
     "output_type": "execute_result"
    }
   ],
   "source": [
    "# multiplication\n",
    "x * y\n",
    "np.multiply(x, y)"
   ]
  },
  {
   "cell_type": "code",
   "execution_count": 8,
   "id": "f713b4f2",
   "metadata": {},
   "outputs": [
    {
     "data": {
      "text/plain": [
       "array([0.6       , 0.66666667, 1.        ])"
      ]
     },
     "execution_count": 8,
     "metadata": {},
     "output_type": "execute_result"
    }
   ],
   "source": [
    "# division\n",
    "y = np.array([5, 3, 1])\n",
    "x / y\n",
    "x // y\n",
    "np.divide(x, y)"
   ]
  },
  {
   "cell_type": "code",
   "execution_count": 9,
   "id": "531b8d0f",
   "metadata": {},
   "outputs": [
    {
     "data": {
      "text/plain": [
       "(array([0, 0, 1]), array([3, 2, 0]))"
      ]
     },
     "execution_count": 9,
     "metadata": {},
     "output_type": "execute_result"
    }
   ],
   "source": [
    "# divmod\n",
    "np.divmod(x, y)"
   ]
  },
  {
   "cell_type": "code",
   "execution_count": 10,
   "id": "98137163",
   "metadata": {},
   "outputs": [
    {
     "data": {
      "text/plain": [
       "array([1.5, 1. , 0.5])"
      ]
     },
     "execution_count": 10,
     "metadata": {},
     "output_type": "execute_result"
    }
   ],
   "source": [
    "# scaler-vector ops\n",
    "m = 0.5\n",
    "m*x"
   ]
  },
  {
   "cell_type": "markdown",
   "id": "cc655012",
   "metadata": {},
   "source": [
    "## Matrices -\n",
    "**_*`A matrix is an m × n array of scalars from a given field F. The individual values in the matrix are called entries`*_**\n",
    "****\n",
    "\n",
    "| Type | Example |\n",
    "| :---- | ---------: |\n",
    "| Square Matrix | $$  A =\\begin{bmatrix}1 & 2 & 3 \\\\4 & 5 & 6 \\\\7 & 8 & 9\\end{bmatrix}$$ |\n",
    "| Lower Triangle Matrix | $$  B =\\begin{bmatrix}1 & 0 & 0 \\\\4 & 5 & 0 \\\\7 & 8 & 9\\end{bmatrix}$$ |\n",
    "| Upper Triangle Matrix | $$  C =\\begin{bmatrix}1 & 6 & 7 \\\\0 & 5 & 8 \\\\0 & 0 & 9\\end{bmatrix}$$ |\n",
    "| Diagonal Matrix | $$  D =\\begin{bmatrix}1 & 0 & 0 \\\\0 & 5 & 0 \\\\0 & 0 & 9\\end{bmatrix}$$ |\n",
    "| Unit/Identity Matrix | $$  I =\\begin{bmatrix}1 & 0 & 0 \\\\0 & 1 & 0 \\\\0 & 0 & 1\\end{bmatrix}$$ |\n",
    "| Null or ZeroMatrix | $$  I =\\begin{bmatrix}0 & 0 & 0 \\\\0 & 0 & 0 \\\\0 & 0 & 0\\end{bmatrix}$$ |"
   ]
  },
  {
   "cell_type": "code",
   "execution_count": 11,
   "id": "59646326",
   "metadata": {},
   "outputs": [
    {
     "data": {
      "text/plain": [
       "array([[2.12199579e-314, 1.41324920e-311],\n",
       "       [4.94065646e-321, 8.28942550e-317]])"
      ]
     },
     "execution_count": 11,
     "metadata": {},
     "output_type": "execute_result"
    }
   ],
   "source": [
    "# square matrix\n",
    "np.empty(shape=(3,3))\n",
    "np.empty(shape=(2,2))"
   ]
  },
  {
   "cell_type": "code",
   "execution_count": 12,
   "id": "09c5dfb0",
   "metadata": {},
   "outputs": [
    {
     "data": {
      "text/plain": [
       "array([[0., 0., 0.],\n",
       "       [0., 0., 0.]])"
      ]
     },
     "execution_count": 12,
     "metadata": {},
     "output_type": "execute_result"
    }
   ],
   "source": [
    "np.empty(shape=(2,3)) # not a square matrix"
   ]
  },
  {
   "cell_type": "code",
   "execution_count": 13,
   "id": "17377bc7",
   "metadata": {},
   "outputs": [
    {
     "data": {
      "text/plain": [
       "array([[ 1,  0,  0,  0,  0,  0],\n",
       "       [ 7,  8,  0,  0,  0,  0],\n",
       "       [13, 14, 15,  0,  0,  0],\n",
       "       [19, 20, 21, 22,  0,  0],\n",
       "       [25, 26, 27, 28, 29,  0],\n",
       "       [31, 32, 33, 34, 35, 36]])"
      ]
     },
     "execution_count": 13,
     "metadata": {},
     "output_type": "execute_result"
    }
   ],
   "source": [
    "# lower triangular matrix\n",
    "np.tril(np.arange(1, 37).reshape(6,6), k=0)"
   ]
  },
  {
   "cell_type": "code",
   "execution_count": 14,
   "id": "8eb77ecb",
   "metadata": {},
   "outputs": [
    {
     "data": {
      "text/plain": [
       "array([[ 1,  2,  3,  4,  5,  6],\n",
       "       [ 0,  8,  9, 10, 11, 12],\n",
       "       [ 0,  0, 15, 16, 17, 18],\n",
       "       [ 0,  0,  0, 22, 23, 24],\n",
       "       [ 0,  0,  0,  0, 29, 30],\n",
       "       [ 0,  0,  0,  0,  0, 36]])"
      ]
     },
     "execution_count": 14,
     "metadata": {},
     "output_type": "execute_result"
    }
   ],
   "source": [
    "# upper triangular matrix\n",
    "np.triu(np.arange(1, 37).reshape(6,6), k=0)"
   ]
  },
  {
   "cell_type": "code",
   "execution_count": 15,
   "id": "0bdd672a",
   "metadata": {},
   "outputs": [
    {
     "data": {
      "text/plain": [
       "array([[ 1,  0,  0,  0,  0,  0],\n",
       "       [ 0,  8,  0,  0,  0,  0],\n",
       "       [ 0,  0, 15,  0,  0,  0],\n",
       "       [ 0,  0,  0, 22,  0,  0],\n",
       "       [ 0,  0,  0,  0, 29,  0],\n",
       "       [ 0,  0,  0,  0,  0, 36]])"
      ]
     },
     "execution_count": 15,
     "metadata": {},
     "output_type": "execute_result"
    }
   ],
   "source": [
    "# make this as diagonal matrix\n",
    "mat = np.arange(1, 37).reshape(6,6)\n",
    "mat = np.tril(mat, k=0)\n",
    "mat = np.triu(mat, k=0)\n",
    "mat"
   ]
  },
  {
   "cell_type": "code",
   "execution_count": 16,
   "id": "3e8155d7",
   "metadata": {},
   "outputs": [
    {
     "data": {
      "text/plain": [
       "array([ 1,  8, 15, 22, 29, 36])"
      ]
     },
     "execution_count": 16,
     "metadata": {},
     "output_type": "execute_result"
    }
   ],
   "source": [
    "# extract only diagonal values\n",
    "mat.diagonal()\n",
    "np.diag(mat)"
   ]
  },
  {
   "cell_type": "code",
   "execution_count": 17,
   "id": "66a169cd",
   "metadata": {},
   "outputs": [
    {
     "data": {
      "text/plain": [
       "array([[ 0,  2,  0,  0,  0,  0],\n",
       "       [ 0,  0,  9,  0,  0,  0],\n",
       "       [ 0,  0,  0, 16,  0,  0],\n",
       "       [ 0,  0,  0,  0, 23,  0],\n",
       "       [ 0,  0,  0,  0,  0, 30],\n",
       "       [ 0,  0,  0,  0,  0,  0]])"
      ]
     },
     "execution_count": 17,
     "metadata": {},
     "output_type": "execute_result"
    }
   ],
   "source": [
    "mat = np.arange(1, 37).reshape(6,6)\n",
    "mat = np.tril(mat, k=1)\n",
    "mat = np.triu(mat, k=1)\n",
    "mat"
   ]
  },
  {
   "cell_type": "code",
   "execution_count": 18,
   "id": "5438670e",
   "metadata": {},
   "outputs": [
    {
     "data": {
      "text/plain": [
       "array([ 2,  9, 16, 23, 30])"
      ]
     },
     "execution_count": 18,
     "metadata": {},
     "output_type": "execute_result"
    }
   ],
   "source": [
    "# when diagonal is in different place\n",
    "mat.diagonal(1)"
   ]
  },
  {
   "cell_type": "code",
   "execution_count": 19,
   "id": "9120157b",
   "metadata": {},
   "outputs": [
    {
     "data": {
      "text/plain": [
       "array([[1., 0., 0., 0.],\n",
       "       [0., 1., 0., 0.],\n",
       "       [0., 0., 1., 0.],\n",
       "       [0., 0., 0., 1.]])"
      ]
     },
     "execution_count": 19,
     "metadata": {},
     "output_type": "execute_result"
    }
   ],
   "source": [
    "# identity Matrix\n",
    "I = np.eye(4,4)\n",
    "I"
   ]
  },
  {
   "cell_type": "code",
   "execution_count": 20,
   "id": "67a7e935",
   "metadata": {},
   "outputs": [
    {
     "data": {
      "text/plain": [
       "array([[0., 0., 0.],\n",
       "       [0., 0., 0.],\n",
       "       [0., 0., 0.]])"
      ]
     },
     "execution_count": 20,
     "metadata": {},
     "output_type": "execute_result"
    }
   ],
   "source": [
    "# zeros-matrix\n",
    "np.zeros((3,3))"
   ]
  },
  {
   "cell_type": "code",
   "execution_count": 21,
   "id": "bca39cc3",
   "metadata": {},
   "outputs": [
    {
     "data": {
      "text/plain": [
       "array([[1., 1., 1.],\n",
       "       [1., 1., 1.],\n",
       "       [1., 1., 1.]])"
      ]
     },
     "execution_count": 21,
     "metadata": {},
     "output_type": "execute_result"
    }
   ],
   "source": [
    "np.ones((3,3))"
   ]
  },
  {
   "cell_type": "code",
   "execution_count": 22,
   "id": "299d1d64",
   "metadata": {},
   "outputs": [
    {
     "data": {
      "text/plain": [
       "1"
      ]
     },
     "execution_count": 22,
     "metadata": {},
     "output_type": "execute_result"
    }
   ],
   "source": [
    "1 + 0"
   ]
  },
  {
   "cell_type": "code",
   "execution_count": 23,
   "id": "59dc6f0a",
   "metadata": {},
   "outputs": [
    {
     "data": {
      "text/plain": [
       "4"
      ]
     },
     "execution_count": 23,
     "metadata": {},
     "output_type": "execute_result"
    }
   ],
   "source": [
    "4 * 1"
   ]
  },
  {
   "cell_type": "markdown",
   "id": "7325f80d",
   "metadata": {},
   "source": [
    "## Dot vs Cross Product\n",
    "****\n",
    "| Dot Product | Cross Product |\n",
    "| :---------- | :------------ |\n",
    "| <img src=\"matrix-multiply-a.svg\" style=\"height:160px, width:160px\" /> | <img src=\"matrix-cross.png\" style=\"height:160px, width:160px\" /> |\n"
   ]
  },
  {
   "cell_type": "code",
   "execution_count": 24,
   "id": "ee5dbb4e",
   "metadata": {},
   "outputs": [],
   "source": [
    "x = np.array(\n",
    "    [\n",
    "        [1, 2, 3], \n",
    "        [4, 5, 6]\n",
    "    ]\n",
    ")\n",
    "y = np.array(\n",
    "    [\n",
    "        [7, 8],\n",
    "        [9, 10],\n",
    "        [11, 12]\n",
    "    ]\n",
    ")"
   ]
  },
  {
   "cell_type": "code",
   "execution_count": 25,
   "id": "af379e12",
   "metadata": {},
   "outputs": [
    {
     "data": {
      "text/plain": [
       "array([[ 58,  64],\n",
       "       [139, 154]])"
      ]
     },
     "execution_count": 25,
     "metadata": {},
     "output_type": "execute_result"
    }
   ],
   "source": [
    "# dot\n",
    "np.dot(x, y)"
   ]
  },
  {
   "cell_type": "code",
   "execution_count": 26,
   "id": "8516fad6",
   "metadata": {},
   "outputs": [],
   "source": [
    "a = np.array([1,2,3])\n",
    "b = np.array([4,5,6])"
   ]
  },
  {
   "cell_type": "code",
   "execution_count": null,
   "id": "5bbebec2",
   "metadata": {},
   "outputs": [],
   "source": []
  },
  {
   "cell_type": "code",
   "execution_count": 27,
   "id": "b93b4da2",
   "metadata": {},
   "outputs": [
    {
     "data": {
      "text/plain": [
       "array([-3,  6, -3])"
      ]
     },
     "execution_count": 27,
     "metadata": {},
     "output_type": "execute_result"
    }
   ],
   "source": [
    "# cross\n",
    "np.cross(a, b)"
   ]
  },
  {
   "cell_type": "code",
   "execution_count": null,
   "id": "a0cf4810",
   "metadata": {},
   "outputs": [],
   "source": []
  },
  {
   "cell_type": "code",
   "execution_count": null,
   "id": "3653d12e",
   "metadata": {},
   "outputs": [],
   "source": []
  },
  {
   "cell_type": "code",
   "execution_count": null,
   "id": "407eb9c1",
   "metadata": {},
   "outputs": [],
   "source": []
  },
  {
   "cell_type": "markdown",
   "id": "ef3c8f88",
   "metadata": {},
   "source": [
    "## Matrix Ops - \n",
    "**_*``*_**\n",
    "****\n",
    "| Operation | Example |\n",
    "| :-------- | :-- |\n",
    "| **Matrix Addition** | <img src=\"matrix-addition.svg\" style=\"height:160px, width:160px\" /> |\n",
    "| **Matrix Transpose** | <img src=\"matrix-transpose.gif\" style=\"height:160px, width:160px\" /> |\n",
    "| **Scaler-Matrix Operations** | <img src=\"matrix-multiply-constant.svg\" style=\"height:160px, width:160px\" /> | \n",
    "| **Matrix Multiplication** | <img src=\"matrix-multiply-a.svg\" style=\"height:160px, width:160px\" /> |\n",
    "| **Matrix Multiplication** | <img src=\"Matrix-graphic-2.svg\" style=\"height:300px\" /> |\n",
    "| **Matrix Multiplication Condition** | <img src=\"matrix-multiply-rows-cols.svg\" style=\"height:160px, width:160px\"> |\n"
   ]
  },
  {
   "cell_type": "code",
   "execution_count": 28,
   "id": "387590dd",
   "metadata": {},
   "outputs": [
    {
     "data": {
      "text/plain": [
       "array([[ 7,  8],\n",
       "       [ 5, -3]])"
      ]
     },
     "execution_count": 28,
     "metadata": {},
     "output_type": "execute_result"
    }
   ],
   "source": [
    "# addition\n",
    "x = np.array([[3, 8], [4,6]])\n",
    "y = np.array([[4, 0], [1, -9]])\n",
    "x+y\n",
    "np.add(x, y)"
   ]
  },
  {
   "cell_type": "code",
   "execution_count": 29,
   "id": "a3cadcf7",
   "metadata": {},
   "outputs": [
    {
     "data": {
      "text/plain": [
       "array([[ 6,  1],\n",
       "       [ 4, -9],\n",
       "       [24,  8]])"
      ]
     },
     "execution_count": 29,
     "metadata": {},
     "output_type": "execute_result"
    }
   ],
   "source": [
    "# Transpose\n",
    "matrix = np.array([[6, 4, 24 ], [1, -9, 8]])\n",
    "matrix.transpose()"
   ]
  },
  {
   "cell_type": "code",
   "execution_count": 30,
   "id": "614f1c09",
   "metadata": {},
   "outputs": [
    {
     "data": {
      "text/plain": [
       "array([[  8,  18],\n",
       "       [  2, -18]])"
      ]
     },
     "execution_count": 30,
     "metadata": {},
     "output_type": "execute_result"
    }
   ],
   "source": [
    "# multiply\n",
    "mat = np.array([[4, 9], [1, -9]])\n",
    "scaler = 2\n",
    "scaler*mat\n",
    "np.multiply(scaler, mat)"
   ]
  },
  {
   "cell_type": "code",
   "execution_count": 31,
   "id": "7643d019",
   "metadata": {},
   "outputs": [],
   "source": [
    "m = np.array(\n",
    "    [\n",
    "        [1, 2, 3], \n",
    "        [4, 5, 6]\n",
    "    ]\n",
    ")\n",
    "p = np.array(\n",
    "    [\n",
    "        [7, 8],\n",
    "        [9, 10],\n",
    "        [11, 12]\n",
    "    ]\n",
    ")"
   ]
  },
  {
   "cell_type": "code",
   "execution_count": 32,
   "id": "26f41e40",
   "metadata": {},
   "outputs": [
    {
     "data": {
      "text/plain": [
       "array([[ 58,  64],\n",
       "       [139, 154]])"
      ]
     },
     "execution_count": 32,
     "metadata": {},
     "output_type": "execute_result"
    }
   ],
   "source": [
    "# matrix multiplication\n",
    "m@p\n",
    "np.matmul(m, p)"
   ]
  },
  {
   "cell_type": "code",
   "execution_count": null,
   "id": "b6e62838",
   "metadata": {},
   "outputs": [],
   "source": []
  },
  {
   "cell_type": "code",
   "execution_count": null,
   "id": "15893094",
   "metadata": {},
   "outputs": [],
   "source": []
  },
  {
   "cell_type": "markdown",
   "id": "ce5b4428",
   "metadata": {},
   "source": [
    "## Solve Equations on Vectors and Matrices\n",
    "****\n",
    "| Equation | w | X | b |\n",
    "| :-------- | ---: | ::--- | ----::|\n",
    "| $$ y = wx + b $$ | $$ w = 2.0 $$ | $$ X = \\begin{bmatrix} 5.0 \\\\ 3.0 \\\\ 2.0 \\end{bmatrix}$$ | $$ b = 0.5 $$ |\n",
    "|wrong $$  y = wx + b $$ | $$ w = \\begin{bmatrix} 1.0&2.0 \\end{bmatrix} $$ | $$ X = \\begin{bmatrix} 5.0&6.0 \\\\ 3.0 & 4.0 \\\\ 2.0 & 1.0 \\end{bmatrix}$$ | $$ b = 0.5 $$ |\n",
    "| $$ y = wx + b $$ | $$ w = \\begin{bmatrix} 1.0&2.0 \\end{bmatrix} $$ | $$ X = \\begin{bmatrix} 5.0&3.0&2.0 \\\\ 6.0&4.0&1.0 \\end{bmatrix}$$ | $$ b = 0.5 $$ |"
   ]
  },
  {
   "cell_type": "code",
   "execution_count": 33,
   "id": "0e7f7f65",
   "metadata": {},
   "outputs": [
    {
     "data": {
      "text/plain": [
       "40.5"
      ]
     },
     "execution_count": 33,
     "metadata": {},
     "output_type": "execute_result"
    }
   ],
   "source": [
    "# scaler\n",
    "w = 2.0\n",
    "b = 0.5\n",
    "x = 20\n",
    "\n",
    "y = w*x + b\n",
    "y"
   ]
  },
  {
   "cell_type": "code",
   "execution_count": 34,
   "id": "e66200bb",
   "metadata": {},
   "outputs": [
    {
     "data": {
      "text/plain": [
       "array([10.5,  6.5,  4.5])"
      ]
     },
     "execution_count": 34,
     "metadata": {},
     "output_type": "execute_result"
    }
   ],
   "source": [
    "# on vectors - numpy does this using broadcasting\n",
    "# w*x + b\n",
    "# [2.0, 2.0, 2.0] * [5.0, 3.0, 2.0] + [0.5, 0.5, 0.5]\n",
    "\n",
    "w = 2.0\n",
    "b = 0.5\n",
    "x = np.array([5.0, 3.0, 2.0])\n",
    "\n",
    "y = w*x + b\n",
    "y"
   ]
  },
  {
   "cell_type": "code",
   "execution_count": 35,
   "id": "c6629897",
   "metadata": {},
   "outputs": [
    {
     "data": {
      "text/plain": [
       "array([17.5, 11.5,  4.5])"
      ]
     },
     "execution_count": 35,
     "metadata": {},
     "output_type": "execute_result"
    }
   ],
   "source": [
    "# on vectors - numpy does this using broadcasting\n",
    "# w*x + b\n",
    "# [2.0, 2.0, 2.0] * [5.0, 3.0, 2.0] + [0.5, 0.5, 0.5]\n",
    "\n",
    "w = np.array([1.0, 2.0])\n",
    "b = 0.5\n",
    "x = np.array([[5.0, 3.0, 2.0], [6.0, 4.0, 1.0]])\n",
    "\n",
    "y = np.dot(w, x) + b\n",
    "y"
   ]
  },
  {
   "cell_type": "code",
   "execution_count": 36,
   "id": "a50f1deb",
   "metadata": {},
   "outputs": [
    {
     "data": {
      "text/plain": [
       "array([17.5, 11.5,  4.5])"
      ]
     },
     "execution_count": 36,
     "metadata": {},
     "output_type": "execute_result"
    }
   ],
   "source": [
    "np.sum(w*x.transpose(), axis=1) + b"
   ]
  },
  {
   "cell_type": "code",
   "execution_count": 37,
   "id": "046d7b18",
   "metadata": {},
   "outputs": [
    {
     "data": {
      "text/plain": [
       "(2,)"
      ]
     },
     "execution_count": 37,
     "metadata": {},
     "output_type": "execute_result"
    }
   ],
   "source": [
    "w.shape"
   ]
  },
  {
   "cell_type": "code",
   "execution_count": 38,
   "id": "99e84429",
   "metadata": {},
   "outputs": [
    {
     "data": {
      "text/plain": [
       "(2, 3)"
      ]
     },
     "execution_count": 38,
     "metadata": {},
     "output_type": "execute_result"
    }
   ],
   "source": [
    "x.shape"
   ]
  },
  {
   "cell_type": "code",
   "execution_count": 39,
   "id": "950ecdbb",
   "metadata": {},
   "outputs": [
    {
     "name": "stdout",
     "output_type": "stream",
     "text": [
      "\u001b[1;31mCall signature:\u001b[0m  \u001b[0mnp\u001b[0m\u001b[1;33m.\u001b[0m\u001b[0mdot\u001b[0m\u001b[1;33m(\u001b[0m\u001b[1;33m*\u001b[0m\u001b[0margs\u001b[0m\u001b[1;33m,\u001b[0m \u001b[1;33m**\u001b[0m\u001b[0mkwargs\u001b[0m\u001b[1;33m)\u001b[0m\u001b[1;33m\u001b[0m\u001b[1;33m\u001b[0m\u001b[0m\n",
      "\u001b[1;31mType:\u001b[0m            _ArrayFunctionDispatcher\n",
      "\u001b[1;31mString form:\u001b[0m     <built-in function dot>\n",
      "\u001b[1;31mDocstring:\u001b[0m      \n",
      "dot(a, b, out=None)\n",
      "\n",
      "Dot product of two arrays. Specifically,\n",
      "\n",
      "- If both `a` and `b` are 1-D arrays, it is inner product of vectors\n",
      "  (without complex conjugation).\n",
      "\n",
      "- If both `a` and `b` are 2-D arrays, it is matrix multiplication,\n",
      "  but using :func:`matmul` or ``a @ b`` is preferred.\n",
      "\n",
      "- If either `a` or `b` is 0-D (scalar), it is equivalent to\n",
      "  :func:`multiply` and using ``numpy.multiply(a, b)`` or ``a * b`` is\n",
      "  preferred.\n",
      "\n",
      "- If `a` is an N-D array and `b` is a 1-D array, it is a sum product over\n",
      "  the last axis of `a` and `b`.\n",
      "\n",
      "- If `a` is an N-D array and `b` is an M-D array (where ``M>=2``), it is a\n",
      "  sum product over the last axis of `a` and the second-to-last axis of\n",
      "  `b`::\n",
      "\n",
      "    dot(a, b)[i,j,k,m] = sum(a[i,j,:] * b[k,:,m])\n",
      "\n",
      "It uses an optimized BLAS library when possible (see `numpy.linalg`).\n",
      "\n",
      "Parameters\n",
      "----------\n",
      "a : array_like\n",
      "    First argument.\n",
      "b : array_like\n",
      "    Second argument.\n",
      "out : ndarray, optional\n",
      "    Output argument. This must have the exact kind that would be returned\n",
      "    if it was not used. In particular, it must have the right type, must be\n",
      "    C-contiguous, and its dtype must be the dtype that would be returned\n",
      "    for `dot(a,b)`. This is a performance feature. Therefore, if these\n",
      "    conditions are not met, an exception is raised, instead of attempting\n",
      "    to be flexible.\n",
      "\n",
      "Returns\n",
      "-------\n",
      "output : ndarray\n",
      "    Returns the dot product of `a` and `b`.  If `a` and `b` are both\n",
      "    scalars or both 1-D arrays then a scalar is returned; otherwise\n",
      "    an array is returned.\n",
      "    If `out` is given, then it is returned.\n",
      "\n",
      "Raises\n",
      "------\n",
      "ValueError\n",
      "    If the last dimension of `a` is not the same size as\n",
      "    the second-to-last dimension of `b`.\n",
      "\n",
      "See Also\n",
      "--------\n",
      "vdot : Complex-conjugating dot product.\n",
      "tensordot : Sum products over arbitrary axes.\n",
      "einsum : Einstein summation convention.\n",
      "matmul : '@' operator as method with out parameter.\n",
      "linalg.multi_dot : Chained dot product.\n",
      "\n",
      "Examples\n",
      "--------\n",
      ">>> np.dot(3, 4)\n",
      "12\n",
      "\n",
      "Neither argument is complex-conjugated:\n",
      "\n",
      ">>> np.dot([2j, 3j], [2j, 3j])\n",
      "(-13+0j)\n",
      "\n",
      "For 2-D arrays it is the matrix product:\n",
      "\n",
      ">>> a = [[1, 0], [0, 1]]\n",
      ">>> b = [[4, 1], [2, 2]]\n",
      ">>> np.dot(a, b)\n",
      "array([[4, 1],\n",
      "       [2, 2]])\n",
      "\n",
      ">>> a = np.arange(3*4*5*6).reshape((3,4,5,6))\n",
      ">>> b = np.arange(3*4*5*6)[::-1].reshape((5,4,6,3))\n",
      ">>> np.dot(a, b)[2,3,2,1,2,2]\n",
      "499128\n",
      ">>> sum(a[2,3,2,:] * b[1,2,:,2])\n",
      "499128\n",
      "\u001b[1;31mClass docstring:\u001b[0m\n",
      "Class to wrap functions with checks for __array_function__ overrides.\n",
      "\n",
      "All arguments are required, and can only be passed by position.\n",
      "\n",
      "Parameters\n",
      "----------\n",
      "dispatcher : function or None\n",
      "    The dispatcher function that returns a single sequence-like object\n",
      "    of all arguments relevant.  It must have the same signature (except\n",
      "    the default values) as the actual implementation.\n",
      "    If ``None``, this is a ``like=`` dispatcher and the\n",
      "    ``_ArrayFunctionDispatcher`` must be called with ``like`` as the\n",
      "    first (additional and positional) argument.\n",
      "implementation : function\n",
      "    Function that implements the operation on NumPy arrays without\n",
      "    overrides.  Arguments passed calling the ``_ArrayFunctionDispatcher``\n",
      "    will be forwarded to this (and the ``dispatcher``) as if using\n",
      "    ``*args, **kwargs``.\n",
      "\n",
      "Attributes\n",
      "----------\n",
      "_implementation : function\n",
      "    The original implementation passed in."
     ]
    }
   ],
   "source": [
    "np.dot?"
   ]
  },
  {
   "cell_type": "markdown",
   "id": "b8cdb3d2",
   "metadata": {},
   "source": [
    "## Determinant Of Matrix\n",
    "****\n",
    "****\n",
    "| Example | det(M) > 1 | det(M) = 1 | det(M) < 1 | det(M) = 0|\n",
    "| :---------- | :------------ | :---------- | :------------ |:------------ \n",
    "| | If a matrix stretches things out, then its determinant is greater than 1. | If a matrix doesn't stretch things out or squeeze them in, then its determinant is exactly 1. An example of this is a rotation. | If a matrix squeezes things in, then its determinant is less than 1. | Some matrices shrink space so much they actually flatten the entire grid on to a single line.then its determinant is exactly 0.\n",
    "| <img src=\"determinant-g1.png\" style=\"height:160px, width:160px\" /> | <img src=\"determinant-g11.png\" style=\"height:160px, width:160px\" /> | <img src=\"determinant-e1.png\" style=\"height:160px, width:160px\" />| <img src=\"determinant-l1.png\" style=\"height:160px, width:160px\" /> |<img src=\"determinant-0.png\" style=\"height:160px, width:160px\" /> |\n",
    "\n",
    "<img src=\"determinant-calc.png\" style=\"height:160px, width:160px\" />"
   ]
  },
  {
   "cell_type": "code",
   "execution_count": 40,
   "id": "ba908080",
   "metadata": {},
   "outputs": [],
   "source": [
    "from numpy import linalg"
   ]
  },
  {
   "cell_type": "code",
   "execution_count": 41,
   "id": "99a29a67",
   "metadata": {},
   "outputs": [],
   "source": [
    "mat = np.random.random((3,3))\n",
    "mat2 = np.random.random((4,4))"
   ]
  },
  {
   "cell_type": "code",
   "execution_count": 42,
   "id": "814760eb",
   "metadata": {},
   "outputs": [
    {
     "data": {
      "text/plain": [
       "-0.12374018886900266"
      ]
     },
     "execution_count": 42,
     "metadata": {},
     "output_type": "execute_result"
    }
   ],
   "source": [
    "linalg.det(mat)"
   ]
  },
  {
   "cell_type": "code",
   "execution_count": null,
   "id": "932e8ff3",
   "metadata": {},
   "outputs": [],
   "source": []
  },
  {
   "cell_type": "code",
   "execution_count": null,
   "id": "c4098f3c",
   "metadata": {},
   "outputs": [],
   "source": []
  },
  {
   "cell_type": "markdown",
   "id": "acc46a66",
   "metadata": {},
   "source": [
    "## <a href=\"https://www.cuemath.com/algebra/eigenvectors/\">Eigen Values and Eigen Vectors</a>"
   ]
  },
  {
   "cell_type": "code",
   "execution_count": 43,
   "id": "18e370bb",
   "metadata": {},
   "outputs": [
    {
     "data": {
      "text/plain": [
       "array([[5, 4],\n",
       "       [1, 2]])"
      ]
     },
     "execution_count": 43,
     "metadata": {},
     "output_type": "execute_result"
    }
   ],
   "source": [
    "mat3 = np.array([[5, 4], [1,2]])\n",
    "mat3"
   ]
  },
  {
   "cell_type": "code",
   "execution_count": 44,
   "id": "658003ed",
   "metadata": {},
   "outputs": [
    {
     "data": {
      "text/plain": [
       "EigResult(eigenvalues=array([6., 1.]), eigenvectors=array([[ 0.9701425 , -0.70710678],\n",
       "       [ 0.24253563,  0.70710678]]))"
      ]
     },
     "execution_count": 44,
     "metadata": {},
     "output_type": "execute_result"
    }
   ],
   "source": [
    "linalg.eig(mat3)"
   ]
  },
  {
   "cell_type": "code",
   "execution_count": 45,
   "id": "bfbc2212",
   "metadata": {},
   "outputs": [
    {
     "data": {
      "text/plain": [
       "<function eigh at 0x0000029A374BD070>"
      ]
     },
     "execution_count": 45,
     "metadata": {},
     "output_type": "execute_result"
    }
   ],
   "source": [
    "linalg.eigh"
   ]
  },
  {
   "cell_type": "code",
   "execution_count": null,
   "id": "141ff5f2",
   "metadata": {},
   "outputs": [],
   "source": []
  },
  {
   "cell_type": "code",
   "execution_count": null,
   "id": "f63932d5",
   "metadata": {},
   "outputs": [],
   "source": []
  },
  {
   "cell_type": "markdown",
   "id": "c7bc429e",
   "metadata": {},
   "source": [
    "## L1 and L2 Norm"
   ]
  },
  {
   "cell_type": "code",
   "execution_count": 46,
   "id": "1fbe9701",
   "metadata": {},
   "outputs": [
    {
     "data": {
      "text/plain": [
       "array([[5, 4],\n",
       "       [1, 2]])"
      ]
     },
     "execution_count": 46,
     "metadata": {},
     "output_type": "execute_result"
    }
   ],
   "source": [
    "mat3"
   ]
  },
  {
   "cell_type": "code",
   "execution_count": 47,
   "id": "fceaa740",
   "metadata": {},
   "outputs": [
    {
     "data": {
      "text/plain": [
       "6.4031242374328485"
      ]
     },
     "execution_count": 47,
     "metadata": {},
     "output_type": "execute_result"
    }
   ],
   "source": [
    "linalg.norm(mat3[0])"
   ]
  },
  {
   "cell_type": "code",
   "execution_count": 48,
   "id": "1d0888e1",
   "metadata": {},
   "outputs": [
    {
     "data": {
      "text/plain": [
       "6.0"
      ]
     },
     "execution_count": 48,
     "metadata": {},
     "output_type": "execute_result"
    }
   ],
   "source": [
    "# L1 norm\n",
    "linalg.norm(mat3, ord=1)"
   ]
  },
  {
   "cell_type": "code",
   "execution_count": 49,
   "id": "8692e5ef",
   "metadata": {},
   "outputs": [
    {
     "data": {
      "text/plain": [
       "6.4031242374328485"
      ]
     },
     "execution_count": 49,
     "metadata": {},
     "output_type": "execute_result"
    }
   ],
   "source": [
    "# L2 norm\n",
    "linalg.norm(mat3[0], ord=2)"
   ]
  },
  {
   "cell_type": "markdown",
   "id": "d760ddf7",
   "metadata": {},
   "source": [
    "## <a href=\"https://www.geeksforgeeks.org/singular-value-decomposition-svd/\">Singular Value Decomposition</a>"
   ]
  },
  {
   "cell_type": "code",
   "execution_count": 50,
   "id": "370b4287",
   "metadata": {},
   "outputs": [],
   "source": [
    "U, S, V = linalg.svd(mat3)"
   ]
  },
  {
   "cell_type": "code",
   "execution_count": 51,
   "id": "efd85ec3",
   "metadata": {},
   "outputs": [
    {
     "data": {
      "text/plain": [
       "array([[-0.95149336, -0.30766928],\n",
       "       [-0.30766928,  0.95149336]])"
      ]
     },
     "execution_count": 51,
     "metadata": {},
     "output_type": "execute_result"
    }
   ],
   "source": [
    "U"
   ]
  },
  {
   "cell_type": "code",
   "execution_count": 52,
   "id": "8fdc0583",
   "metadata": {},
   "outputs": [
    {
     "data": {
      "text/plain": [
       "array([6.7233625 , 0.89241061])"
      ]
     },
     "execution_count": 52,
     "metadata": {},
     "output_type": "execute_result"
    }
   ],
   "source": [
    "S"
   ]
  },
  {
   "cell_type": "code",
   "execution_count": 53,
   "id": "5377df80",
   "metadata": {},
   "outputs": [
    {
     "data": {
      "text/plain": [
       "array([[-0.75336353, -0.65760429],\n",
       "       [-0.65760429,  0.75336353]])"
      ]
     },
     "execution_count": 53,
     "metadata": {},
     "output_type": "execute_result"
    }
   ],
   "source": [
    "V\n"
   ]
  },
  {
   "cell_type": "code",
   "execution_count": null,
   "id": "9d291543",
   "metadata": {},
   "outputs": [],
   "source": []
  },
  {
   "cell_type": "code",
   "execution_count": null,
   "id": "339c2276",
   "metadata": {},
   "outputs": [],
   "source": []
  },
  {
   "cell_type": "code",
   "execution_count": null,
   "id": "aaf89886",
   "metadata": {},
   "outputs": [],
   "source": []
  },
  {
   "cell_type": "markdown",
   "id": "a1308a07",
   "metadata": {},
   "source": [
    "## <a href=\"https://numpy.org/doc/stable/reference/generated/numpy.einsum.html\">EienSum</a>"
   ]
  },
  {
   "cell_type": "code",
   "execution_count": 54,
   "id": "9a41aef1",
   "metadata": {},
   "outputs": [
    {
     "data": {
      "text/plain": [
       "array([[5, 4],\n",
       "       [1, 2]])"
      ]
     },
     "execution_count": 54,
     "metadata": {},
     "output_type": "execute_result"
    }
   ],
   "source": [
    "mat3"
   ]
  },
  {
   "cell_type": "code",
   "execution_count": 55,
   "id": "1979b0a7",
   "metadata": {},
   "outputs": [],
   "source": [
    "v1 = np.array([1,2,3])\n",
    "v2 = np.array([4,5,6])"
   ]
  },
  {
   "cell_type": "code",
   "execution_count": 56,
   "id": "1cab2092",
   "metadata": {},
   "outputs": [
    {
     "data": {
      "text/plain": [
       "6"
      ]
     },
     "execution_count": 56,
     "metadata": {},
     "output_type": "execute_result"
    }
   ],
   "source": [
    "# vector sum\n",
    "np.einsum('i->', v1)"
   ]
  },
  {
   "cell_type": "code",
   "execution_count": 57,
   "id": "1956d26d",
   "metadata": {},
   "outputs": [
    {
     "data": {
      "text/plain": [
       "array([5, 2])"
      ]
     },
     "execution_count": 57,
     "metadata": {},
     "output_type": "execute_result"
    }
   ],
   "source": [
    "# extract diagonal\n",
    "np.einsum('ii->i', mat3)"
   ]
  },
  {
   "cell_type": "code",
   "execution_count": 58,
   "id": "ca33f58f",
   "metadata": {},
   "outputs": [
    {
     "data": {
      "text/plain": [
       "7"
      ]
     },
     "execution_count": 58,
     "metadata": {},
     "output_type": "execute_result"
    }
   ],
   "source": [
    "# diagonal sum\n",
    "np.einsum('ii->', mat3)"
   ]
  },
  {
   "cell_type": "code",
   "execution_count": 59,
   "id": "867dc530",
   "metadata": {},
   "outputs": [
    {
     "data": {
      "text/plain": [
       "array([6, 6])"
      ]
     },
     "execution_count": 59,
     "metadata": {},
     "output_type": "execute_result"
    }
   ],
   "source": [
    "# row sum\n",
    "np.einsum('ij->j', mat3)"
   ]
  },
  {
   "cell_type": "code",
   "execution_count": 60,
   "id": "a3f0ea6d",
   "metadata": {},
   "outputs": [
    {
     "data": {
      "text/plain": [
       "array([[5, 1],\n",
       "       [4, 2]])"
      ]
     },
     "execution_count": 60,
     "metadata": {},
     "output_type": "execute_result"
    }
   ],
   "source": [
    "# transpose\n",
    "np.einsum('ij->ji', mat3)"
   ]
  },
  {
   "cell_type": "code",
   "execution_count": 61,
   "id": "049b075b",
   "metadata": {},
   "outputs": [
    {
     "data": {
      "text/plain": [
       "32"
      ]
     },
     "execution_count": 61,
     "metadata": {},
     "output_type": "execute_result"
    }
   ],
   "source": [
    "# dot product\n",
    "np.einsum('i,i->', v1, v2)"
   ]
  },
  {
   "cell_type": "code",
   "execution_count": 62,
   "id": "db11764e",
   "metadata": {},
   "outputs": [
    {
     "data": {
      "text/plain": [
       "(array([[5, 4],\n",
       "        [1, 2]]),\n",
       " array([[5, 4],\n",
       "        [1, 2]]))"
      ]
     },
     "execution_count": 62,
     "metadata": {},
     "output_type": "execute_result"
    }
   ],
   "source": [
    "# matrix multiplication\n",
    "mat3, mat3"
   ]
  },
  {
   "cell_type": "code",
   "execution_count": 63,
   "id": "e37d0aca",
   "metadata": {},
   "outputs": [
    {
     "data": {
      "text/plain": [
       "array([[29, 28],\n",
       "       [ 7,  8]])"
      ]
     },
     "execution_count": 63,
     "metadata": {},
     "output_type": "execute_result"
    }
   ],
   "source": [
    "np.einsum('ik, kj->ij', mat3, mat3)"
   ]
  },
  {
   "cell_type": "code",
   "execution_count": 64,
   "id": "11e617f4",
   "metadata": {},
   "outputs": [],
   "source": [
    "mat = [[0,0], [0,0]]\n",
    "for i in range(len(mat3)):\n",
    "    for j in range(len(mat3[0])):\n",
    "        for k in range(len(mat3)):\n",
    "            mat[i][j] += mat3[i, k]*mat3[k, j]\n",
    "    "
   ]
  },
  {
   "cell_type": "code",
   "execution_count": 65,
   "id": "40402ab5",
   "metadata": {},
   "outputs": [
    {
     "data": {
      "text/plain": [
       "[[29, 28], [7, 8]]"
      ]
     },
     "execution_count": 65,
     "metadata": {},
     "output_type": "execute_result"
    }
   ],
   "source": [
    "mat"
   ]
  },
  {
   "cell_type": "code",
   "execution_count": null,
   "id": "2649f1a5",
   "metadata": {},
   "outputs": [],
   "source": []
  },
  {
   "cell_type": "code",
   "execution_count": null,
   "id": "d8ec2aef",
   "metadata": {},
   "outputs": [],
   "source": []
  }
 ],
 "metadata": {
  "kernelspec": {
   "display_name": "Python 3 (ipykernel)",
   "language": "python",
   "name": "python3"
  },
  "language_info": {
   "codemirror_mode": {
    "name": "ipython",
    "version": 3
   },
   "file_extension": ".py",
   "mimetype": "text/x-python",
   "name": "python",
   "nbconvert_exporter": "python",
   "pygments_lexer": "ipython3",
   "version": "3.10.6"
  },
  "toc": {
   "base_numbering": 1,
   "nav_menu": {},
   "number_sections": true,
   "sideBar": true,
   "skip_h1_title": false,
   "title_cell": "Table of Contents",
   "title_sidebar": "Contents",
   "toc_cell": false,
   "toc_position": {
    "height": "calc(100% - 180px)",
    "left": "10px",
    "top": "150px",
    "width": "218.133px"
   },
   "toc_section_display": true,
   "toc_window_display": false
  }
 },
 "nbformat": 4,
 "nbformat_minor": 5
}
