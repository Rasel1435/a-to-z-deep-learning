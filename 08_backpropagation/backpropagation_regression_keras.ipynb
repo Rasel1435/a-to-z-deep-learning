{
 "cells": [
  {
   "cell_type": "markdown",
   "id": "4219c606",
   "metadata": {},
   "source": [
    "## Import Necessary Libraries"
   ]
  },
  {
   "cell_type": "code",
   "execution_count": 4,
   "id": "3657f58c",
   "metadata": {},
   "outputs": [],
   "source": [
    "import warnings\n",
    "import tensorflow\n",
    "import numpy as np\n",
    "import pandas as pd\n",
    "\n",
    "from tensorflow import keras\n",
    "warnings.filterwarnings('ignore')\n",
    "from tensorflow.keras import Sequential\n",
    "from tensorflow.keras.layers import Dense"
   ]
  },
  {
   "cell_type": "markdown",
   "id": "7992c1f0",
   "metadata": {},
   "source": [
    "## Loading Data"
   ]
  },
  {
   "cell_type": "code",
   "execution_count": 5,
   "id": "ab2996f7",
   "metadata": {},
   "outputs": [],
   "source": [
    "df = pd.DataFrame([\n",
    "    [8,8,4],\n",
    "    [7,9,5],\n",
    "    [6,10,6],\n",
    "    [5,12,7]\n",
    "],\n",
    "    columns=['cgpa', 'profile_score', 'lpa'])"
   ]
  },
  {
   "cell_type": "code",
   "execution_count": 6,
   "id": "3edb71c7",
   "metadata": {},
   "outputs": [
    {
     "data": {
      "text/html": [
       "<div>\n",
       "<style scoped>\n",
       "    .dataframe tbody tr th:only-of-type {\n",
       "        vertical-align: middle;\n",
       "    }\n",
       "\n",
       "    .dataframe tbody tr th {\n",
       "        vertical-align: top;\n",
       "    }\n",
       "\n",
       "    .dataframe thead th {\n",
       "        text-align: right;\n",
       "    }\n",
       "</style>\n",
       "<table border=\"1\" class=\"dataframe\">\n",
       "  <thead>\n",
       "    <tr style=\"text-align: right;\">\n",
       "      <th></th>\n",
       "      <th>cgpa</th>\n",
       "      <th>profile_score</th>\n",
       "      <th>lpa</th>\n",
       "    </tr>\n",
       "  </thead>\n",
       "  <tbody>\n",
       "    <tr>\n",
       "      <th>0</th>\n",
       "      <td>8</td>\n",
       "      <td>8</td>\n",
       "      <td>4</td>\n",
       "    </tr>\n",
       "    <tr>\n",
       "      <th>1</th>\n",
       "      <td>7</td>\n",
       "      <td>9</td>\n",
       "      <td>5</td>\n",
       "    </tr>\n",
       "    <tr>\n",
       "      <th>2</th>\n",
       "      <td>6</td>\n",
       "      <td>10</td>\n",
       "      <td>6</td>\n",
       "    </tr>\n",
       "    <tr>\n",
       "      <th>3</th>\n",
       "      <td>5</td>\n",
       "      <td>12</td>\n",
       "      <td>7</td>\n",
       "    </tr>\n",
       "  </tbody>\n",
       "</table>\n",
       "</div>"
      ],
      "text/plain": [
       "   cgpa  profile_score  lpa\n",
       "0     8              8    4\n",
       "1     7              9    5\n",
       "2     6             10    6\n",
       "3     5             12    7"
      ]
     },
     "execution_count": 6,
     "metadata": {},
     "output_type": "execute_result"
    }
   ],
   "source": [
    "df"
   ]
  },
  {
   "cell_type": "code",
   "execution_count": 8,
   "id": "b9bb0a4e",
   "metadata": {},
   "outputs": [],
   "source": [
    "model = Sequential()\n",
    "\n",
    "model.add(Dense(2, activation='linear', input_dim=2))\n",
    "model.add(Dense(1, activation='linear'))"
   ]
  },
  {
   "cell_type": "code",
   "execution_count": 9,
   "id": "5c14c1a8",
   "metadata": {},
   "outputs": [
    {
     "name": "stdout",
     "output_type": "stream",
     "text": [
      "Model: \"sequential_1\"\n",
      "_________________________________________________________________\n",
      " Layer (type)                Output Shape              Param #   \n",
      "=================================================================\n",
      " dense (Dense)               (None, 2)                 6         \n",
      "                                                                 \n",
      " dense_1 (Dense)             (None, 1)                 3         \n",
      "                                                                 \n",
      "=================================================================\n",
      "Total params: 9 (36.00 Byte)\n",
      "Trainable params: 9 (36.00 Byte)\n",
      "Non-trainable params: 0 (0.00 Byte)\n",
      "_________________________________________________________________\n"
     ]
    }
   ],
   "source": [
    "model.summary()"
   ]
  },
  {
   "cell_type": "code",
   "execution_count": 10,
   "id": "4f8da24d",
   "metadata": {},
   "outputs": [
    {
     "data": {
      "text/plain": [
       "[array([[-0.04262412,  0.50639296],\n",
       "        [-0.6378739 , -1.0400119 ]], dtype=float32),\n",
       " array([0., 0.], dtype=float32),\n",
       " array([[-0.9083239],\n",
       "        [-1.328494 ]], dtype=float32),\n",
       " array([0.], dtype=float32)]"
      ]
     },
     "execution_count": 10,
     "metadata": {},
     "output_type": "execute_result"
    }
   ],
   "source": [
    "model.get_weights()"
   ]
  },
  {
   "cell_type": "code",
   "execution_count": 11,
   "id": "55619bfe",
   "metadata": {},
   "outputs": [],
   "source": [
    "new_weights = [np.array([[0.1, 0.1],[0.1, 0.1]], dtype=np.float32),\n",
    "               np.array([0., 0.], dtype=np.float32),\n",
    "               np.array([[0.1],[0.1]], dtype=np.float32),\n",
    "               np.array([0.], dtype=np.float32)\n",
    "              ]"
   ]
  },
  {
   "cell_type": "code",
   "execution_count": 12,
   "id": "a849a2a3",
   "metadata": {},
   "outputs": [],
   "source": [
    "model.set_weights(new_weights)"
   ]
  },
  {
   "cell_type": "code",
   "execution_count": 13,
   "id": "f73899ea",
   "metadata": {},
   "outputs": [
    {
     "data": {
      "text/plain": [
       "[array([[0.1, 0.1],\n",
       "        [0.1, 0.1]], dtype=float32),\n",
       " array([0., 0.], dtype=float32),\n",
       " array([[0.1],\n",
       "        [0.1]], dtype=float32),\n",
       " array([0.], dtype=float32)]"
      ]
     },
     "execution_count": 13,
     "metadata": {},
     "output_type": "execute_result"
    }
   ],
   "source": [
    "model.get_weights()"
   ]
  },
  {
   "cell_type": "code",
   "execution_count": 14,
   "id": "cbf1161e",
   "metadata": {},
   "outputs": [],
   "source": [
    "optimizer = keras.optimizers.Adam(learning_rate=0.001)\n",
    "model.compile(loss='mean_squared_error', optimizer=optimizer)"
   ]
  },
  {
   "cell_type": "code",
   "execution_count": 16,
   "id": "9c3f3f8d",
   "metadata": {},
   "outputs": [
    {
     "name": "stdout",
     "output_type": "stream",
     "text": [
      "Epoch 1/75\n",
      "4/4 [==============================] - 0s 3ms/step - loss: 1.4575\n",
      "Epoch 2/75\n",
      "4/4 [==============================] - 0s 5ms/step - loss: 1.4117\n",
      "Epoch 3/75\n",
      "4/4 [==============================] - 0s 4ms/step - loss: 1.3352\n",
      "Epoch 4/75\n",
      "4/4 [==============================] - 0s 4ms/step - loss: 1.3223\n",
      "Epoch 5/75\n",
      "4/4 [==============================] - 0s 5ms/step - loss: 1.2783\n",
      "Epoch 6/75\n",
      "4/4 [==============================] - 0s 4ms/step - loss: 1.2465\n",
      "Epoch 7/75\n",
      "4/4 [==============================] - 0s 4ms/step - loss: 1.2462\n",
      "Epoch 8/75\n",
      "4/4 [==============================] - 0s 4ms/step - loss: 1.2037\n",
      "Epoch 9/75\n",
      "4/4 [==============================] - 0s 3ms/step - loss: 1.1894\n",
      "Epoch 10/75\n",
      "4/4 [==============================] - 0s 4ms/step - loss: 1.1754\n",
      "Epoch 11/75\n",
      "4/4 [==============================] - 0s 4ms/step - loss: 1.1498\n",
      "Epoch 12/75\n",
      "4/4 [==============================] - 0s 4ms/step - loss: 1.1249\n",
      "Epoch 13/75\n",
      "4/4 [==============================] - 0s 4ms/step - loss: 1.1320\n",
      "Epoch 14/75\n",
      "4/4 [==============================] - 0s 4ms/step - loss: 1.1067\n",
      "Epoch 15/75\n",
      "4/4 [==============================] - 0s 5ms/step - loss: 1.1065\n",
      "Epoch 16/75\n",
      "4/4 [==============================] - 0s 5ms/step - loss: 1.0967\n",
      "Epoch 17/75\n",
      "4/4 [==============================] - 0s 5ms/step - loss: 1.0761\n",
      "Epoch 18/75\n",
      "4/4 [==============================] - 0s 4ms/step - loss: 1.0739\n",
      "Epoch 19/75\n",
      "4/4 [==============================] - 0s 4ms/step - loss: 1.0636\n",
      "Epoch 20/75\n",
      "4/4 [==============================] - 0s 4ms/step - loss: 1.0583\n",
      "Epoch 21/75\n",
      "4/4 [==============================] - 0s 4ms/step - loss: 1.0591\n",
      "Epoch 22/75\n",
      "4/4 [==============================] - 0s 4ms/step - loss: 1.0488\n",
      "Epoch 23/75\n",
      "4/4 [==============================] - 0s 4ms/step - loss: 1.0449\n",
      "Epoch 24/75\n",
      "4/4 [==============================] - 0s 4ms/step - loss: 1.0419\n",
      "Epoch 25/75\n",
      "4/4 [==============================] - 0s 4ms/step - loss: 1.0425\n",
      "Epoch 26/75\n",
      "4/4 [==============================] - 0s 4ms/step - loss: 1.0375\n",
      "Epoch 27/75\n",
      "4/4 [==============================] - 0s 4ms/step - loss: 1.0301\n",
      "Epoch 28/75\n",
      "4/4 [==============================] - 0s 5ms/step - loss: 1.0342\n",
      "Epoch 29/75\n",
      "4/4 [==============================] - 0s 4ms/step - loss: 1.0247\n",
      "Epoch 30/75\n",
      "4/4 [==============================] - 0s 4ms/step - loss: 1.0222\n",
      "Epoch 31/75\n",
      "4/4 [==============================] - 0s 4ms/step - loss: 1.0220\n",
      "Epoch 32/75\n",
      "4/4 [==============================] - 0s 6ms/step - loss: 1.0175\n",
      "Epoch 33/75\n",
      "4/4 [==============================] - 0s 13ms/step - loss: 1.0203\n",
      "Epoch 34/75\n",
      "4/4 [==============================] - 0s 4ms/step - loss: 1.0131\n",
      "Epoch 35/75\n",
      "4/4 [==============================] - 0s 5ms/step - loss: 1.0129\n",
      "Epoch 36/75\n",
      "4/4 [==============================] - 0s 4ms/step - loss: 1.0107\n",
      "Epoch 37/75\n",
      "4/4 [==============================] - 0s 4ms/step - loss: 1.0082\n",
      "Epoch 38/75\n",
      "4/4 [==============================] - 0s 5ms/step - loss: 1.0105\n",
      "Epoch 39/75\n",
      "4/4 [==============================] - 0s 4ms/step - loss: 1.0086\n",
      "Epoch 40/75\n",
      "4/4 [==============================] - 0s 5ms/step - loss: 1.0024\n",
      "Epoch 41/75\n",
      "4/4 [==============================] - 0s 4ms/step - loss: 1.0000\n",
      "Epoch 42/75\n",
      "4/4 [==============================] - 0s 3ms/step - loss: 0.9994\n",
      "Epoch 43/75\n",
      "4/4 [==============================] - 0s 4ms/step - loss: 0.9982\n",
      "Epoch 44/75\n",
      "4/4 [==============================] - 0s 5ms/step - loss: 0.9952\n",
      "Epoch 45/75\n",
      "4/4 [==============================] - 0s 4ms/step - loss: 0.9933\n",
      "Epoch 46/75\n",
      "4/4 [==============================] - 0s 4ms/step - loss: 0.9927\n",
      "Epoch 47/75\n",
      "4/4 [==============================] - 0s 5ms/step - loss: 0.9912\n",
      "Epoch 48/75\n",
      "4/4 [==============================] - 0s 5ms/step - loss: 0.9905\n",
      "Epoch 49/75\n",
      "4/4 [==============================] - 0s 4ms/step - loss: 0.9887\n",
      "Epoch 50/75\n",
      "4/4 [==============================] - 0s 4ms/step - loss: 0.9851\n",
      "Epoch 51/75\n",
      "4/4 [==============================] - 0s 3ms/step - loss: 0.9833\n",
      "Epoch 52/75\n",
      "4/4 [==============================] - 0s 5ms/step - loss: 0.9815\n",
      "Epoch 53/75\n",
      "4/4 [==============================] - 0s 5ms/step - loss: 0.9812\n",
      "Epoch 54/75\n",
      "4/4 [==============================] - 0s 5ms/step - loss: 0.9778\n",
      "Epoch 55/75\n",
      "4/4 [==============================] - 0s 5ms/step - loss: 0.9771\n",
      "Epoch 56/75\n",
      "4/4 [==============================] - 0s 4ms/step - loss: 0.9744\n",
      "Epoch 57/75\n",
      "4/4 [==============================] - 0s 4ms/step - loss: 0.9736\n",
      "Epoch 58/75\n",
      "4/4 [==============================] - 0s 5ms/step - loss: 0.9746\n",
      "Epoch 59/75\n",
      "4/4 [==============================] - 0s 4ms/step - loss: 0.9687\n",
      "Epoch 60/75\n",
      "4/4 [==============================] - 0s 4ms/step - loss: 0.9724\n",
      "Epoch 61/75\n",
      "4/4 [==============================] - 0s 4ms/step - loss: 0.9679\n",
      "Epoch 62/75\n",
      "4/4 [==============================] - 0s 4ms/step - loss: 0.9656\n",
      "Epoch 63/75\n",
      "4/4 [==============================] - 0s 4ms/step - loss: 0.9622\n",
      "Epoch 64/75\n",
      "4/4 [==============================] - 0s 5ms/step - loss: 0.9615\n",
      "Epoch 65/75\n",
      "4/4 [==============================] - 0s 4ms/step - loss: 0.9622\n",
      "Epoch 66/75\n",
      "4/4 [==============================] - 0s 4ms/step - loss: 0.9596\n",
      "Epoch 67/75\n",
      "4/4 [==============================] - 0s 4ms/step - loss: 0.9567\n",
      "Epoch 68/75\n",
      "4/4 [==============================] - 0s 5ms/step - loss: 0.9545\n",
      "Epoch 69/75\n",
      "4/4 [==============================] - 0s 4ms/step - loss: 0.9537\n",
      "Epoch 70/75\n",
      "4/4 [==============================] - 0s 4ms/step - loss: 0.9528\n",
      "Epoch 71/75\n",
      "4/4 [==============================] - 0s 4ms/step - loss: 0.9490\n",
      "Epoch 72/75\n",
      "4/4 [==============================] - 0s 4ms/step - loss: 0.9497\n",
      "Epoch 73/75\n",
      "4/4 [==============================] - 0s 3ms/step - loss: 0.9488\n",
      "Epoch 74/75\n",
      "4/4 [==============================] - 0s 4ms/step - loss: 0.9447\n",
      "Epoch 75/75\n",
      "4/4 [==============================] - 0s 4ms/step - loss: 0.9441\n"
     ]
    },
    {
     "data": {
      "text/plain": [
       "<keras.src.callbacks.History at 0x1fe08966b90>"
      ]
     },
     "execution_count": 16,
     "metadata": {},
     "output_type": "execute_result"
    }
   ],
   "source": [
    "model.fit(df.iloc[:, 0:-1].values, df['lpa'].values, epochs=75, verbose=1, batch_size=1)"
   ]
  },
  {
   "cell_type": "code",
   "execution_count": 17,
   "id": "c417ce38",
   "metadata": {},
   "outputs": [
    {
     "data": {
      "text/plain": [
       "[array([[0.36150983, 0.36150983],\n",
       "        [0.41016394, 0.41016394]], dtype=float32),\n",
       " array([0.29354522, 0.29354522], dtype=float32),\n",
       " array([[0.39806512],\n",
       "        [0.39806512]], dtype=float32),\n",
       " array([0.21659741], dtype=float32)]"
      ]
     },
     "execution_count": 17,
     "metadata": {},
     "output_type": "execute_result"
    }
   ],
   "source": [
    "model.get_weights()"
   ]
  }
 ],
 "metadata": {
  "kernelspec": {
   "display_name": "Python 3 (ipykernel)",
   "language": "python",
   "name": "python3"
  },
  "language_info": {
   "codemirror_mode": {
    "name": "ipython",
    "version": 3
   },
   "file_extension": ".py",
   "mimetype": "text/x-python",
   "name": "python",
   "nbconvert_exporter": "python",
   "pygments_lexer": "ipython3",
   "version": "3.10.6"
  }
 },
 "nbformat": 4,
 "nbformat_minor": 5
}
