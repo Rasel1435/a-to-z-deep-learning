{
 "cells": [
  {
   "cell_type": "markdown",
   "id": "35dc7cd3",
   "metadata": {},
   "source": [
    "### Import Necessary Libraries"
   ]
  },
  {
   "cell_type": "code",
   "execution_count": 4,
   "id": "fdf07f61",
   "metadata": {},
   "outputs": [],
   "source": [
    "import warnings\n",
    "import tensorflow\n",
    "import numpy as np\n",
    "import pandas as pd\n",
    "\n",
    "from tensorflow import keras\n",
    "warnings.filterwarnings('ignore')\n",
    "from tensorflow.keras import Sequential\n",
    "from tensorflow.keras.layers import Dense"
   ]
  },
  {
   "cell_type": "markdown",
   "id": "bea1d429",
   "metadata": {},
   "source": [
    "### Loading Data"
   ]
  },
  {
   "cell_type": "code",
   "execution_count": 5,
   "id": "d3cfb612",
   "metadata": {},
   "outputs": [],
   "source": [
    "df = pd.DataFrame([[8,8,1],[7,9,1],[6,10,0],[5,5,0]], columns=['cgpa', 'profile_score', 'placed'])"
   ]
  },
  {
   "cell_type": "code",
   "execution_count": 6,
   "id": "a6153aed",
   "metadata": {},
   "outputs": [
    {
     "data": {
      "text/html": [
       "<div>\n",
       "<style scoped>\n",
       "    .dataframe tbody tr th:only-of-type {\n",
       "        vertical-align: middle;\n",
       "    }\n",
       "\n",
       "    .dataframe tbody tr th {\n",
       "        vertical-align: top;\n",
       "    }\n",
       "\n",
       "    .dataframe thead th {\n",
       "        text-align: right;\n",
       "    }\n",
       "</style>\n",
       "<table border=\"1\" class=\"dataframe\">\n",
       "  <thead>\n",
       "    <tr style=\"text-align: right;\">\n",
       "      <th></th>\n",
       "      <th>cgpa</th>\n",
       "      <th>profile_score</th>\n",
       "      <th>placed</th>\n",
       "    </tr>\n",
       "  </thead>\n",
       "  <tbody>\n",
       "    <tr>\n",
       "      <th>0</th>\n",
       "      <td>8</td>\n",
       "      <td>8</td>\n",
       "      <td>1</td>\n",
       "    </tr>\n",
       "    <tr>\n",
       "      <th>1</th>\n",
       "      <td>7</td>\n",
       "      <td>9</td>\n",
       "      <td>1</td>\n",
       "    </tr>\n",
       "    <tr>\n",
       "      <th>2</th>\n",
       "      <td>6</td>\n",
       "      <td>10</td>\n",
       "      <td>0</td>\n",
       "    </tr>\n",
       "    <tr>\n",
       "      <th>3</th>\n",
       "      <td>5</td>\n",
       "      <td>5</td>\n",
       "      <td>0</td>\n",
       "    </tr>\n",
       "  </tbody>\n",
       "</table>\n",
       "</div>"
      ],
      "text/plain": [
       "   cgpa  profile_score  placed\n",
       "0     8              8       1\n",
       "1     7              9       1\n",
       "2     6             10       0\n",
       "3     5              5       0"
      ]
     },
     "execution_count": 6,
     "metadata": {},
     "output_type": "execute_result"
    }
   ],
   "source": [
    "df"
   ]
  },
  {
   "cell_type": "code",
   "execution_count": 8,
   "id": "e328b257",
   "metadata": {},
   "outputs": [],
   "source": [
    "model = Sequential()\n",
    "\n",
    "model.add(Dense(2, activation='sigmoid', input_dim=2))\n",
    "model.add(Dense(1, activation='sigmoid'))"
   ]
  },
  {
   "cell_type": "code",
   "execution_count": 9,
   "id": "5c68da18",
   "metadata": {},
   "outputs": [
    {
     "name": "stdout",
     "output_type": "stream",
     "text": [
      "Model: \"sequential_1\"\n",
      "_________________________________________________________________\n",
      " Layer (type)                Output Shape              Param #   \n",
      "=================================================================\n",
      " dense_2 (Dense)             (None, 2)                 6         \n",
      "                                                                 \n",
      " dense_3 (Dense)             (None, 1)                 3         \n",
      "                                                                 \n",
      "=================================================================\n",
      "Total params: 9 (36.00 Byte)\n",
      "Trainable params: 9 (36.00 Byte)\n",
      "Non-trainable params: 0 (0.00 Byte)\n",
      "_________________________________________________________________\n"
     ]
    }
   ],
   "source": [
    "model.summary()"
   ]
  },
  {
   "cell_type": "code",
   "execution_count": 10,
   "id": "aa041b1f",
   "metadata": {},
   "outputs": [
    {
     "data": {
      "text/plain": [
       "[array([[-0.21715927, -0.8795951 ],\n",
       "        [-0.9638812 ,  0.19656193]], dtype=float32),\n",
       " array([0., 0.], dtype=float32),\n",
       " array([[1.1903714 ],\n",
       "        [0.21450484]], dtype=float32),\n",
       " array([0.], dtype=float32)]"
      ]
     },
     "execution_count": 10,
     "metadata": {},
     "output_type": "execute_result"
    }
   ],
   "source": [
    "model.get_weights()"
   ]
  },
  {
   "cell_type": "code",
   "execution_count": 11,
   "id": "bdf1da2b",
   "metadata": {},
   "outputs": [],
   "source": [
    "new_weights = [np.array([[0.1, 0.1],[0.1, 0.1]], dtype=np.float32),\n",
    "               np.array([0., 0.], dtype=np.float32),\n",
    "               np.array([[0.1],[0.1]], dtype=np.float32),\n",
    "               np.array([0.], dtype=np.float32)\n",
    "              ]"
   ]
  },
  {
   "cell_type": "code",
   "execution_count": 12,
   "id": "2421a348",
   "metadata": {},
   "outputs": [],
   "source": [
    "model.set_weights(new_weights)"
   ]
  },
  {
   "cell_type": "code",
   "execution_count": 13,
   "id": "29629d65",
   "metadata": {},
   "outputs": [
    {
     "data": {
      "text/plain": [
       "[array([[0.1, 0.1],\n",
       "        [0.1, 0.1]], dtype=float32),\n",
       " array([0., 0.], dtype=float32),\n",
       " array([[0.1],\n",
       "        [0.1]], dtype=float32),\n",
       " array([0.], dtype=float32)]"
      ]
     },
     "execution_count": 13,
     "metadata": {},
     "output_type": "execute_result"
    }
   ],
   "source": [
    "model.get_weights()"
   ]
  },
  {
   "cell_type": "code",
   "execution_count": 14,
   "id": "805b3df8",
   "metadata": {},
   "outputs": [],
   "source": [
    "optimizer = keras.optimizers.Adam(learning_rate=0.001)\n",
    "model.compile(loss='binary_crossentropy', optimizer=optimizer)"
   ]
  },
  {
   "cell_type": "code",
   "execution_count": 16,
   "id": "90d5e877",
   "metadata": {},
   "outputs": [
    {
     "name": "stdout",
     "output_type": "stream",
     "text": [
      "Epoch 1/50\n",
      "4/4 [==============================] - 0s 5ms/step - loss: 0.6929\n",
      "Epoch 2/50\n",
      "4/4 [==============================] - 0s 4ms/step - loss: 0.6929\n",
      "Epoch 3/50\n",
      "4/4 [==============================] - 0s 5ms/step - loss: 0.6929\n",
      "Epoch 4/50\n",
      "4/4 [==============================] - 0s 3ms/step - loss: 0.6929\n",
      "Epoch 5/50\n",
      "4/4 [==============================] - 0s 5ms/step - loss: 0.6930\n",
      "Epoch 6/50\n",
      "4/4 [==============================] - 0s 4ms/step - loss: 0.6928\n",
      "Epoch 7/50\n",
      "4/4 [==============================] - 0s 5ms/step - loss: 0.6928\n",
      "Epoch 8/50\n",
      "4/4 [==============================] - 0s 5ms/step - loss: 0.6929\n",
      "Epoch 9/50\n",
      "4/4 [==============================] - 0s 4ms/step - loss: 0.6928\n",
      "Epoch 10/50\n",
      "4/4 [==============================] - 0s 5ms/step - loss: 0.6928\n",
      "Epoch 11/50\n",
      "4/4 [==============================] - 0s 4ms/step - loss: 0.6928\n",
      "Epoch 12/50\n",
      "4/4 [==============================] - 0s 5ms/step - loss: 0.6929\n",
      "Epoch 13/50\n",
      "4/4 [==============================] - 0s 4ms/step - loss: 0.6928\n",
      "Epoch 14/50\n",
      "4/4 [==============================] - 0s 4ms/step - loss: 0.6928\n",
      "Epoch 15/50\n",
      "4/4 [==============================] - 0s 4ms/step - loss: 0.6930\n",
      "Epoch 16/50\n",
      "4/4 [==============================] - 0s 4ms/step - loss: 0.6927\n",
      "Epoch 17/50\n",
      "4/4 [==============================] - 0s 4ms/step - loss: 0.6929\n",
      "Epoch 18/50\n",
      "4/4 [==============================] - 0s 5ms/step - loss: 0.6927\n",
      "Epoch 19/50\n",
      "4/4 [==============================] - 0s 4ms/step - loss: 0.6928\n",
      "Epoch 20/50\n",
      "4/4 [==============================] - 0s 5ms/step - loss: 0.6928\n",
      "Epoch 21/50\n",
      "4/4 [==============================] - 0s 4ms/step - loss: 0.6927\n",
      "Epoch 22/50\n",
      "4/4 [==============================] - 0s 5ms/step - loss: 0.6927\n",
      "Epoch 23/50\n",
      "4/4 [==============================] - 0s 5ms/step - loss: 0.6928\n",
      "Epoch 24/50\n",
      "4/4 [==============================] - 0s 4ms/step - loss: 0.6926\n",
      "Epoch 25/50\n",
      "4/4 [==============================] - 0s 5ms/step - loss: 0.6926\n",
      "Epoch 26/50\n",
      "4/4 [==============================] - 0s 5ms/step - loss: 0.6926\n",
      "Epoch 27/50\n",
      "4/4 [==============================] - 0s 6ms/step - loss: 0.6927\n",
      "Epoch 28/50\n",
      "4/4 [==============================] - 0s 6ms/step - loss: 0.6927\n",
      "Epoch 29/50\n",
      "4/4 [==============================] - 0s 5ms/step - loss: 0.6926\n",
      "Epoch 30/50\n",
      "4/4 [==============================] - 0s 4ms/step - loss: 0.6927\n",
      "Epoch 31/50\n",
      "4/4 [==============================] - 0s 6ms/step - loss: 0.6926\n",
      "Epoch 32/50\n",
      "4/4 [==============================] - 0s 6ms/step - loss: 0.6926\n",
      "Epoch 33/50\n",
      "4/4 [==============================] - 0s 5ms/step - loss: 0.6927\n",
      "Epoch 34/50\n",
      "4/4 [==============================] - 0s 6ms/step - loss: 0.6925\n",
      "Epoch 35/50\n",
      "4/4 [==============================] - 0s 5ms/step - loss: 0.6925\n",
      "Epoch 36/50\n",
      "4/4 [==============================] - 0s 5ms/step - loss: 0.6925\n",
      "Epoch 37/50\n",
      "4/4 [==============================] - 0s 5ms/step - loss: 0.6925\n",
      "Epoch 38/50\n",
      "4/4 [==============================] - 0s 5ms/step - loss: 0.6926\n",
      "Epoch 39/50\n",
      "4/4 [==============================] - 0s 6ms/step - loss: 0.6926\n",
      "Epoch 40/50\n",
      "4/4 [==============================] - 0s 7ms/step - loss: 0.6925\n",
      "Epoch 41/50\n",
      "4/4 [==============================] - 0s 5ms/step - loss: 0.6925\n",
      "Epoch 42/50\n",
      "4/4 [==============================] - 0s 5ms/step - loss: 0.6925\n",
      "Epoch 43/50\n",
      "4/4 [==============================] - 0s 6ms/step - loss: 0.6924\n",
      "Epoch 44/50\n",
      "4/4 [==============================] - 0s 5ms/step - loss: 0.6926\n",
      "Epoch 45/50\n",
      "4/4 [==============================] - 0s 5ms/step - loss: 0.6925\n",
      "Epoch 46/50\n",
      "4/4 [==============================] - 0s 13ms/step - loss: 0.6924\n",
      "Epoch 47/50\n",
      "4/4 [==============================] - 0s 3ms/step - loss: 0.6924\n",
      "Epoch 48/50\n",
      "4/4 [==============================] - 0s 5ms/step - loss: 0.6924\n",
      "Epoch 49/50\n",
      "4/4 [==============================] - 0s 5ms/step - loss: 0.6924\n",
      "Epoch 50/50\n",
      "4/4 [==============================] - 0s 5ms/step - loss: 0.6924\n"
     ]
    },
    {
     "data": {
      "text/plain": [
       "<keras.src.callbacks.History at 0x1e88643aa70>"
      ]
     },
     "execution_count": 16,
     "metadata": {},
     "output_type": "execute_result"
    }
   ],
   "source": [
    "model.fit(df.iloc[:,0:-1].values, df['placed'].values, epochs=50, verbose=1, batch_size=1)"
   ]
  },
  {
   "cell_type": "code",
   "execution_count": null,
   "id": "5e8ab925",
   "metadata": {},
   "outputs": [],
   "source": []
  }
 ],
 "metadata": {
  "kernelspec": {
   "display_name": "Python 3 (ipykernel)",
   "language": "python",
   "name": "python3"
  },
  "language_info": {
   "codemirror_mode": {
    "name": "ipython",
    "version": 3
   },
   "file_extension": ".py",
   "mimetype": "text/x-python",
   "name": "python",
   "nbconvert_exporter": "python",
   "pygments_lexer": "ipython3",
   "version": "3.10.6"
  }
 },
 "nbformat": 4,
 "nbformat_minor": 5
}
