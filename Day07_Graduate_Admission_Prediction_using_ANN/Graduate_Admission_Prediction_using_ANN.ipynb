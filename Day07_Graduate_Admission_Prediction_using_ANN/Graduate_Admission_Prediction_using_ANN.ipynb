{
 "cells": [
  {
   "cell_type": "markdown",
   "id": "6684d917",
   "metadata": {},
   "source": [
    "# Import Necessary Libraries"
   ]
  },
  {
   "cell_type": "code",
   "execution_count": 76,
   "id": "d733fe8c",
   "metadata": {},
   "outputs": [],
   "source": [
    "import warnings\n",
    "import tensorflow\n",
    "import numpy as np\n",
    "import pandas as pd\n",
    "import matplotlib.pyplot as plt\n",
    "\n",
    "from tensorflow import keras\n",
    "warnings.filterwarnings('ignore')\n",
    "from sklearn.metrics import r2_score\n",
    "from tensorflow.keras import Sequential\n",
    "from tensorflow.keras.layers import Dense\n",
    "from sklearn.preprocessing import MinMaxScaler\n",
    "from sklearn.model_selection import train_test_split"
   ]
  },
  {
   "cell_type": "code",
   "execution_count": 77,
   "id": "5df701f0",
   "metadata": {},
   "outputs": [
    {
     "data": {
      "text/html": [
       "<div>\n",
       "<style scoped>\n",
       "    .dataframe tbody tr th:only-of-type {\n",
       "        vertical-align: middle;\n",
       "    }\n",
       "\n",
       "    .dataframe tbody tr th {\n",
       "        vertical-align: top;\n",
       "    }\n",
       "\n",
       "    .dataframe thead th {\n",
       "        text-align: right;\n",
       "    }\n",
       "</style>\n",
       "<table border=\"1\" class=\"dataframe\">\n",
       "  <thead>\n",
       "    <tr style=\"text-align: right;\">\n",
       "      <th></th>\n",
       "      <th>Serial No.</th>\n",
       "      <th>GRE Score</th>\n",
       "      <th>TOEFL Score</th>\n",
       "      <th>University Rating</th>\n",
       "      <th>SOP</th>\n",
       "      <th>LOR</th>\n",
       "      <th>CGPA</th>\n",
       "      <th>Research</th>\n",
       "      <th>Chance of Admit</th>\n",
       "    </tr>\n",
       "  </thead>\n",
       "  <tbody>\n",
       "    <tr>\n",
       "      <th>0</th>\n",
       "      <td>1</td>\n",
       "      <td>337</td>\n",
       "      <td>118</td>\n",
       "      <td>4</td>\n",
       "      <td>4.5</td>\n",
       "      <td>4.5</td>\n",
       "      <td>9.65</td>\n",
       "      <td>1</td>\n",
       "      <td>0.92</td>\n",
       "    </tr>\n",
       "    <tr>\n",
       "      <th>1</th>\n",
       "      <td>2</td>\n",
       "      <td>324</td>\n",
       "      <td>107</td>\n",
       "      <td>4</td>\n",
       "      <td>4.0</td>\n",
       "      <td>4.5</td>\n",
       "      <td>8.87</td>\n",
       "      <td>1</td>\n",
       "      <td>0.76</td>\n",
       "    </tr>\n",
       "    <tr>\n",
       "      <th>2</th>\n",
       "      <td>3</td>\n",
       "      <td>316</td>\n",
       "      <td>104</td>\n",
       "      <td>3</td>\n",
       "      <td>3.0</td>\n",
       "      <td>3.5</td>\n",
       "      <td>8.00</td>\n",
       "      <td>1</td>\n",
       "      <td>0.72</td>\n",
       "    </tr>\n",
       "    <tr>\n",
       "      <th>3</th>\n",
       "      <td>4</td>\n",
       "      <td>322</td>\n",
       "      <td>110</td>\n",
       "      <td>3</td>\n",
       "      <td>3.5</td>\n",
       "      <td>2.5</td>\n",
       "      <td>8.67</td>\n",
       "      <td>1</td>\n",
       "      <td>0.80</td>\n",
       "    </tr>\n",
       "    <tr>\n",
       "      <th>4</th>\n",
       "      <td>5</td>\n",
       "      <td>314</td>\n",
       "      <td>103</td>\n",
       "      <td>2</td>\n",
       "      <td>2.0</td>\n",
       "      <td>3.0</td>\n",
       "      <td>8.21</td>\n",
       "      <td>0</td>\n",
       "      <td>0.65</td>\n",
       "    </tr>\n",
       "  </tbody>\n",
       "</table>\n",
       "</div>"
      ],
      "text/plain": [
       "   Serial No.  GRE Score  TOEFL Score  ...  CGPA  Research  Chance of Admit \n",
       "0           1        337          118  ...  9.65         1              0.92\n",
       "1           2        324          107  ...  8.87         1              0.76\n",
       "2           3        316          104  ...  8.00         1              0.72\n",
       "3           4        322          110  ...  8.67         1              0.80\n",
       "4           5        314          103  ...  8.21         0              0.65\n",
       "\n",
       "[5 rows x 9 columns]"
      ]
     },
     "execution_count": 77,
     "metadata": {},
     "output_type": "execute_result"
    }
   ],
   "source": [
    "df = pd.read_csv(r'./data/Admission_Predict.csv')\n",
    "df.head()"
   ]
  },
  {
   "cell_type": "code",
   "execution_count": 78,
   "id": "afcfda7c",
   "metadata": {},
   "outputs": [
    {
     "name": "stdout",
     "output_type": "stream",
     "text": [
      "<class 'pandas.core.frame.DataFrame'>\n",
      "RangeIndex: 400 entries, 0 to 399\n",
      "Data columns (total 9 columns):\n",
      " #   Column             Non-Null Count  Dtype  \n",
      "---  ------             --------------  -----  \n",
      " 0   Serial No.         400 non-null    int64  \n",
      " 1   GRE Score          400 non-null    int64  \n",
      " 2   TOEFL Score        400 non-null    int64  \n",
      " 3   University Rating  400 non-null    int64  \n",
      " 4   SOP                400 non-null    float64\n",
      " 5   LOR                400 non-null    float64\n",
      " 6   CGPA               400 non-null    float64\n",
      " 7   Research           400 non-null    int64  \n",
      " 8   Chance of Admit    400 non-null    float64\n",
      "dtypes: float64(4), int64(5)\n",
      "memory usage: 28.2 KB\n"
     ]
    }
   ],
   "source": [
    "df.info()"
   ]
  },
  {
   "cell_type": "code",
   "execution_count": 79,
   "id": "22dc0e98",
   "metadata": {},
   "outputs": [
    {
     "data": {
      "text/html": [
       "<div>\n",
       "<style scoped>\n",
       "    .dataframe tbody tr th:only-of-type {\n",
       "        vertical-align: middle;\n",
       "    }\n",
       "\n",
       "    .dataframe tbody tr th {\n",
       "        vertical-align: top;\n",
       "    }\n",
       "\n",
       "    .dataframe thead th {\n",
       "        text-align: right;\n",
       "    }\n",
       "</style>\n",
       "<table border=\"1\" class=\"dataframe\">\n",
       "  <thead>\n",
       "    <tr style=\"text-align: right;\">\n",
       "      <th></th>\n",
       "      <th>Serial No.</th>\n",
       "      <th>GRE Score</th>\n",
       "      <th>TOEFL Score</th>\n",
       "      <th>University Rating</th>\n",
       "      <th>SOP</th>\n",
       "      <th>LOR</th>\n",
       "      <th>CGPA</th>\n",
       "      <th>Research</th>\n",
       "      <th>Chance of Admit</th>\n",
       "    </tr>\n",
       "  </thead>\n",
       "  <tbody>\n",
       "    <tr>\n",
       "      <th>count</th>\n",
       "      <td>400.000000</td>\n",
       "      <td>400.000000</td>\n",
       "      <td>400.000000</td>\n",
       "      <td>400.000000</td>\n",
       "      <td>400.000000</td>\n",
       "      <td>400.000000</td>\n",
       "      <td>400.000000</td>\n",
       "      <td>400.000000</td>\n",
       "      <td>400.000000</td>\n",
       "    </tr>\n",
       "    <tr>\n",
       "      <th>mean</th>\n",
       "      <td>200.500000</td>\n",
       "      <td>316.807500</td>\n",
       "      <td>107.410000</td>\n",
       "      <td>3.087500</td>\n",
       "      <td>3.400000</td>\n",
       "      <td>3.452500</td>\n",
       "      <td>8.598925</td>\n",
       "      <td>0.547500</td>\n",
       "      <td>0.724350</td>\n",
       "    </tr>\n",
       "    <tr>\n",
       "      <th>std</th>\n",
       "      <td>115.614301</td>\n",
       "      <td>11.473646</td>\n",
       "      <td>6.069514</td>\n",
       "      <td>1.143728</td>\n",
       "      <td>1.006869</td>\n",
       "      <td>0.898478</td>\n",
       "      <td>0.596317</td>\n",
       "      <td>0.498362</td>\n",
       "      <td>0.142609</td>\n",
       "    </tr>\n",
       "    <tr>\n",
       "      <th>min</th>\n",
       "      <td>1.000000</td>\n",
       "      <td>290.000000</td>\n",
       "      <td>92.000000</td>\n",
       "      <td>1.000000</td>\n",
       "      <td>1.000000</td>\n",
       "      <td>1.000000</td>\n",
       "      <td>6.800000</td>\n",
       "      <td>0.000000</td>\n",
       "      <td>0.340000</td>\n",
       "    </tr>\n",
       "    <tr>\n",
       "      <th>25%</th>\n",
       "      <td>100.750000</td>\n",
       "      <td>308.000000</td>\n",
       "      <td>103.000000</td>\n",
       "      <td>2.000000</td>\n",
       "      <td>2.500000</td>\n",
       "      <td>3.000000</td>\n",
       "      <td>8.170000</td>\n",
       "      <td>0.000000</td>\n",
       "      <td>0.640000</td>\n",
       "    </tr>\n",
       "    <tr>\n",
       "      <th>50%</th>\n",
       "      <td>200.500000</td>\n",
       "      <td>317.000000</td>\n",
       "      <td>107.000000</td>\n",
       "      <td>3.000000</td>\n",
       "      <td>3.500000</td>\n",
       "      <td>3.500000</td>\n",
       "      <td>8.610000</td>\n",
       "      <td>1.000000</td>\n",
       "      <td>0.730000</td>\n",
       "    </tr>\n",
       "    <tr>\n",
       "      <th>75%</th>\n",
       "      <td>300.250000</td>\n",
       "      <td>325.000000</td>\n",
       "      <td>112.000000</td>\n",
       "      <td>4.000000</td>\n",
       "      <td>4.000000</td>\n",
       "      <td>4.000000</td>\n",
       "      <td>9.062500</td>\n",
       "      <td>1.000000</td>\n",
       "      <td>0.830000</td>\n",
       "    </tr>\n",
       "    <tr>\n",
       "      <th>max</th>\n",
       "      <td>400.000000</td>\n",
       "      <td>340.000000</td>\n",
       "      <td>120.000000</td>\n",
       "      <td>5.000000</td>\n",
       "      <td>5.000000</td>\n",
       "      <td>5.000000</td>\n",
       "      <td>9.920000</td>\n",
       "      <td>1.000000</td>\n",
       "      <td>0.970000</td>\n",
       "    </tr>\n",
       "  </tbody>\n",
       "</table>\n",
       "</div>"
      ],
      "text/plain": [
       "       Serial No.   GRE Score  ...    Research  Chance of Admit \n",
       "count  400.000000  400.000000  ...  400.000000        400.000000\n",
       "mean   200.500000  316.807500  ...    0.547500          0.724350\n",
       "std    115.614301   11.473646  ...    0.498362          0.142609\n",
       "min      1.000000  290.000000  ...    0.000000          0.340000\n",
       "25%    100.750000  308.000000  ...    0.000000          0.640000\n",
       "50%    200.500000  317.000000  ...    1.000000          0.730000\n",
       "75%    300.250000  325.000000  ...    1.000000          0.830000\n",
       "max    400.000000  340.000000  ...    1.000000          0.970000\n",
       "\n",
       "[8 rows x 9 columns]"
      ]
     },
     "execution_count": 79,
     "metadata": {},
     "output_type": "execute_result"
    }
   ],
   "source": [
    "df.describe()"
   ]
  },
  {
   "cell_type": "code",
   "execution_count": 80,
   "id": "7c2485b0",
   "metadata": {},
   "outputs": [
    {
     "data": {
      "text/html": [
       "<div>\n",
       "<style scoped>\n",
       "    .dataframe tbody tr th:only-of-type {\n",
       "        vertical-align: middle;\n",
       "    }\n",
       "\n",
       "    .dataframe tbody tr th {\n",
       "        vertical-align: top;\n",
       "    }\n",
       "\n",
       "    .dataframe thead th {\n",
       "        text-align: right;\n",
       "    }\n",
       "</style>\n",
       "<table border=\"1\" class=\"dataframe\">\n",
       "  <thead>\n",
       "    <tr style=\"text-align: right;\">\n",
       "      <th></th>\n",
       "      <th>count</th>\n",
       "      <th>mean</th>\n",
       "      <th>std</th>\n",
       "      <th>min</th>\n",
       "      <th>25%</th>\n",
       "      <th>50%</th>\n",
       "      <th>75%</th>\n",
       "      <th>max</th>\n",
       "    </tr>\n",
       "  </thead>\n",
       "  <tbody>\n",
       "    <tr>\n",
       "      <th>Serial No.</th>\n",
       "      <td>400.0</td>\n",
       "      <td>200.500000</td>\n",
       "      <td>115.614301</td>\n",
       "      <td>1.00</td>\n",
       "      <td>100.75</td>\n",
       "      <td>200.50</td>\n",
       "      <td>300.2500</td>\n",
       "      <td>400.00</td>\n",
       "    </tr>\n",
       "    <tr>\n",
       "      <th>GRE Score</th>\n",
       "      <td>400.0</td>\n",
       "      <td>316.807500</td>\n",
       "      <td>11.473646</td>\n",
       "      <td>290.00</td>\n",
       "      <td>308.00</td>\n",
       "      <td>317.00</td>\n",
       "      <td>325.0000</td>\n",
       "      <td>340.00</td>\n",
       "    </tr>\n",
       "    <tr>\n",
       "      <th>TOEFL Score</th>\n",
       "      <td>400.0</td>\n",
       "      <td>107.410000</td>\n",
       "      <td>6.069514</td>\n",
       "      <td>92.00</td>\n",
       "      <td>103.00</td>\n",
       "      <td>107.00</td>\n",
       "      <td>112.0000</td>\n",
       "      <td>120.00</td>\n",
       "    </tr>\n",
       "    <tr>\n",
       "      <th>University Rating</th>\n",
       "      <td>400.0</td>\n",
       "      <td>3.087500</td>\n",
       "      <td>1.143728</td>\n",
       "      <td>1.00</td>\n",
       "      <td>2.00</td>\n",
       "      <td>3.00</td>\n",
       "      <td>4.0000</td>\n",
       "      <td>5.00</td>\n",
       "    </tr>\n",
       "    <tr>\n",
       "      <th>SOP</th>\n",
       "      <td>400.0</td>\n",
       "      <td>3.400000</td>\n",
       "      <td>1.006869</td>\n",
       "      <td>1.00</td>\n",
       "      <td>2.50</td>\n",
       "      <td>3.50</td>\n",
       "      <td>4.0000</td>\n",
       "      <td>5.00</td>\n",
       "    </tr>\n",
       "    <tr>\n",
       "      <th>LOR</th>\n",
       "      <td>400.0</td>\n",
       "      <td>3.452500</td>\n",
       "      <td>0.898478</td>\n",
       "      <td>1.00</td>\n",
       "      <td>3.00</td>\n",
       "      <td>3.50</td>\n",
       "      <td>4.0000</td>\n",
       "      <td>5.00</td>\n",
       "    </tr>\n",
       "    <tr>\n",
       "      <th>CGPA</th>\n",
       "      <td>400.0</td>\n",
       "      <td>8.598925</td>\n",
       "      <td>0.596317</td>\n",
       "      <td>6.80</td>\n",
       "      <td>8.17</td>\n",
       "      <td>8.61</td>\n",
       "      <td>9.0625</td>\n",
       "      <td>9.92</td>\n",
       "    </tr>\n",
       "    <tr>\n",
       "      <th>Research</th>\n",
       "      <td>400.0</td>\n",
       "      <td>0.547500</td>\n",
       "      <td>0.498362</td>\n",
       "      <td>0.00</td>\n",
       "      <td>0.00</td>\n",
       "      <td>1.00</td>\n",
       "      <td>1.0000</td>\n",
       "      <td>1.00</td>\n",
       "    </tr>\n",
       "    <tr>\n",
       "      <th>Chance of Admit</th>\n",
       "      <td>400.0</td>\n",
       "      <td>0.724350</td>\n",
       "      <td>0.142609</td>\n",
       "      <td>0.34</td>\n",
       "      <td>0.64</td>\n",
       "      <td>0.73</td>\n",
       "      <td>0.8300</td>\n",
       "      <td>0.97</td>\n",
       "    </tr>\n",
       "  </tbody>\n",
       "</table>\n",
       "</div>"
      ],
      "text/plain": [
       "                   count        mean         std  ...     50%       75%     max\n",
       "Serial No.         400.0  200.500000  115.614301  ...  200.50  300.2500  400.00\n",
       "GRE Score          400.0  316.807500   11.473646  ...  317.00  325.0000  340.00\n",
       "TOEFL Score        400.0  107.410000    6.069514  ...  107.00  112.0000  120.00\n",
       "University Rating  400.0    3.087500    1.143728  ...    3.00    4.0000    5.00\n",
       "SOP                400.0    3.400000    1.006869  ...    3.50    4.0000    5.00\n",
       "LOR                400.0    3.452500    0.898478  ...    3.50    4.0000    5.00\n",
       "CGPA               400.0    8.598925    0.596317  ...    8.61    9.0625    9.92\n",
       "Research           400.0    0.547500    0.498362  ...    1.00    1.0000    1.00\n",
       "Chance of Admit    400.0    0.724350    0.142609  ...    0.73    0.8300    0.97\n",
       "\n",
       "[9 rows x 8 columns]"
      ]
     },
     "execution_count": 80,
     "metadata": {},
     "output_type": "execute_result"
    }
   ],
   "source": [
    "df.describe().T"
   ]
  },
  {
   "cell_type": "code",
   "execution_count": 81,
   "id": "ed536ca0",
   "metadata": {},
   "outputs": [
    {
     "data": {
      "text/plain": [
       "Index(['Serial No.', 'GRE Score', 'TOEFL Score', 'University Rating', 'SOP',\n",
       "       'LOR ', 'CGPA', 'Research', 'Chance of Admit '],\n",
       "      dtype='object')"
      ]
     },
     "execution_count": 81,
     "metadata": {},
     "output_type": "execute_result"
    }
   ],
   "source": [
    "df.columns"
   ]
  },
  {
   "cell_type": "code",
   "execution_count": 82,
   "id": "a06a37be",
   "metadata": {},
   "outputs": [
    {
     "data": {
      "text/plain": [
       "RangeIndex(start=0, stop=400, step=1)"
      ]
     },
     "execution_count": 82,
     "metadata": {},
     "output_type": "execute_result"
    }
   ],
   "source": [
    "df.index"
   ]
  },
  {
   "cell_type": "code",
   "execution_count": 83,
   "id": "86d364a5",
   "metadata": {},
   "outputs": [
    {
     "data": {
      "text/plain": [
       "(400, 9)"
      ]
     },
     "execution_count": 83,
     "metadata": {},
     "output_type": "execute_result"
    }
   ],
   "source": [
    "df.shape"
   ]
  },
  {
   "cell_type": "code",
   "execution_count": 84,
   "id": "26fc25d7",
   "metadata": {},
   "outputs": [],
   "source": [
    "# Lets drop some columns"
   ]
  },
  {
   "cell_type": "code",
   "execution_count": 85,
   "id": "118a3d3f",
   "metadata": {},
   "outputs": [],
   "source": [
    "df.drop(columns=['Serial No.'], inplace=True)"
   ]
  },
  {
   "cell_type": "code",
   "execution_count": 86,
   "id": "71ac4e37",
   "metadata": {},
   "outputs": [
    {
     "data": {
      "text/html": [
       "<div>\n",
       "<style scoped>\n",
       "    .dataframe tbody tr th:only-of-type {\n",
       "        vertical-align: middle;\n",
       "    }\n",
       "\n",
       "    .dataframe tbody tr th {\n",
       "        vertical-align: top;\n",
       "    }\n",
       "\n",
       "    .dataframe thead th {\n",
       "        text-align: right;\n",
       "    }\n",
       "</style>\n",
       "<table border=\"1\" class=\"dataframe\">\n",
       "  <thead>\n",
       "    <tr style=\"text-align: right;\">\n",
       "      <th></th>\n",
       "      <th>GRE Score</th>\n",
       "      <th>TOEFL Score</th>\n",
       "      <th>University Rating</th>\n",
       "      <th>SOP</th>\n",
       "      <th>LOR</th>\n",
       "      <th>CGPA</th>\n",
       "      <th>Research</th>\n",
       "      <th>Chance of Admit</th>\n",
       "    </tr>\n",
       "  </thead>\n",
       "  <tbody>\n",
       "    <tr>\n",
       "      <th>0</th>\n",
       "      <td>337</td>\n",
       "      <td>118</td>\n",
       "      <td>4</td>\n",
       "      <td>4.5</td>\n",
       "      <td>4.5</td>\n",
       "      <td>9.65</td>\n",
       "      <td>1</td>\n",
       "      <td>0.92</td>\n",
       "    </tr>\n",
       "    <tr>\n",
       "      <th>1</th>\n",
       "      <td>324</td>\n",
       "      <td>107</td>\n",
       "      <td>4</td>\n",
       "      <td>4.0</td>\n",
       "      <td>4.5</td>\n",
       "      <td>8.87</td>\n",
       "      <td>1</td>\n",
       "      <td>0.76</td>\n",
       "    </tr>\n",
       "    <tr>\n",
       "      <th>2</th>\n",
       "      <td>316</td>\n",
       "      <td>104</td>\n",
       "      <td>3</td>\n",
       "      <td>3.0</td>\n",
       "      <td>3.5</td>\n",
       "      <td>8.00</td>\n",
       "      <td>1</td>\n",
       "      <td>0.72</td>\n",
       "    </tr>\n",
       "    <tr>\n",
       "      <th>3</th>\n",
       "      <td>322</td>\n",
       "      <td>110</td>\n",
       "      <td>3</td>\n",
       "      <td>3.5</td>\n",
       "      <td>2.5</td>\n",
       "      <td>8.67</td>\n",
       "      <td>1</td>\n",
       "      <td>0.80</td>\n",
       "    </tr>\n",
       "    <tr>\n",
       "      <th>4</th>\n",
       "      <td>314</td>\n",
       "      <td>103</td>\n",
       "      <td>2</td>\n",
       "      <td>2.0</td>\n",
       "      <td>3.0</td>\n",
       "      <td>8.21</td>\n",
       "      <td>0</td>\n",
       "      <td>0.65</td>\n",
       "    </tr>\n",
       "  </tbody>\n",
       "</table>\n",
       "</div>"
      ],
      "text/plain": [
       "   GRE Score  TOEFL Score  University Rating  ...  CGPA  Research  Chance of Admit \n",
       "0        337          118                  4  ...  9.65         1              0.92\n",
       "1        324          107                  4  ...  8.87         1              0.76\n",
       "2        316          104                  3  ...  8.00         1              0.72\n",
       "3        322          110                  3  ...  8.67         1              0.80\n",
       "4        314          103                  2  ...  8.21         0              0.65\n",
       "\n",
       "[5 rows x 8 columns]"
      ]
     },
     "execution_count": 86,
     "metadata": {},
     "output_type": "execute_result"
    }
   ],
   "source": [
    "df.head()"
   ]
  },
  {
   "cell_type": "code",
   "execution_count": 87,
   "id": "28a1f3b6",
   "metadata": {},
   "outputs": [],
   "source": [
    "# Let's check duplicated values"
   ]
  },
  {
   "cell_type": "code",
   "execution_count": 88,
   "id": "b9b4c91f",
   "metadata": {},
   "outputs": [
    {
     "data": {
      "text/plain": [
       "0"
      ]
     },
     "execution_count": 88,
     "metadata": {},
     "output_type": "execute_result"
    }
   ],
   "source": [
    "df.duplicated().sum()"
   ]
  },
  {
   "cell_type": "code",
   "execution_count": 89,
   "id": "dab26d79",
   "metadata": {},
   "outputs": [],
   "source": [
    "# there is no duplicated values"
   ]
  },
  {
   "cell_type": "code",
   "execution_count": 90,
   "id": "bb3756f6",
   "metadata": {},
   "outputs": [],
   "source": [
    "# let's check missing or Null values"
   ]
  },
  {
   "cell_type": "code",
   "execution_count": 91,
   "id": "8fd81d90",
   "metadata": {},
   "outputs": [
    {
     "data": {
      "text/plain": [
       "GRE Score            0\n",
       "TOEFL Score          0\n",
       "University Rating    0\n",
       "SOP                  0\n",
       "LOR                  0\n",
       "CGPA                 0\n",
       "Research             0\n",
       "Chance of Admit      0\n",
       "dtype: int64"
      ]
     },
     "execution_count": 91,
     "metadata": {},
     "output_type": "execute_result"
    }
   ],
   "source": [
    "df.isnull().sum()"
   ]
  },
  {
   "cell_type": "code",
   "execution_count": 92,
   "id": "b444cbe9",
   "metadata": {},
   "outputs": [],
   "source": [
    "# there is no missing values"
   ]
  },
  {
   "cell_type": "code",
   "execution_count": 93,
   "id": "778ecf13",
   "metadata": {},
   "outputs": [],
   "source": [
    "# feature selection"
   ]
  },
  {
   "cell_type": "code",
   "execution_count": 94,
   "id": "9fbfdd75",
   "metadata": {},
   "outputs": [],
   "source": [
    "X = df.iloc[:,0:-1]\n",
    "y = df.iloc[:, -1]"
   ]
  },
  {
   "cell_type": "code",
   "execution_count": 95,
   "id": "c13e4119",
   "metadata": {},
   "outputs": [
    {
     "data": {
      "text/html": [
       "<div>\n",
       "<style scoped>\n",
       "    .dataframe tbody tr th:only-of-type {\n",
       "        vertical-align: middle;\n",
       "    }\n",
       "\n",
       "    .dataframe tbody tr th {\n",
       "        vertical-align: top;\n",
       "    }\n",
       "\n",
       "    .dataframe thead th {\n",
       "        text-align: right;\n",
       "    }\n",
       "</style>\n",
       "<table border=\"1\" class=\"dataframe\">\n",
       "  <thead>\n",
       "    <tr style=\"text-align: right;\">\n",
       "      <th></th>\n",
       "      <th>GRE Score</th>\n",
       "      <th>TOEFL Score</th>\n",
       "      <th>University Rating</th>\n",
       "      <th>SOP</th>\n",
       "      <th>LOR</th>\n",
       "      <th>CGPA</th>\n",
       "      <th>Research</th>\n",
       "    </tr>\n",
       "  </thead>\n",
       "  <tbody>\n",
       "    <tr>\n",
       "      <th>29</th>\n",
       "      <td>310</td>\n",
       "      <td>99</td>\n",
       "      <td>2</td>\n",
       "      <td>1.5</td>\n",
       "      <td>2.0</td>\n",
       "      <td>7.30</td>\n",
       "      <td>0</td>\n",
       "    </tr>\n",
       "    <tr>\n",
       "      <th>172</th>\n",
       "      <td>322</td>\n",
       "      <td>110</td>\n",
       "      <td>4</td>\n",
       "      <td>4.0</td>\n",
       "      <td>5.0</td>\n",
       "      <td>9.13</td>\n",
       "      <td>1</td>\n",
       "    </tr>\n",
       "    <tr>\n",
       "      <th>250</th>\n",
       "      <td>320</td>\n",
       "      <td>104</td>\n",
       "      <td>3</td>\n",
       "      <td>3.0</td>\n",
       "      <td>2.5</td>\n",
       "      <td>8.57</td>\n",
       "      <td>1</td>\n",
       "    </tr>\n",
       "    <tr>\n",
       "      <th>249</th>\n",
       "      <td>321</td>\n",
       "      <td>111</td>\n",
       "      <td>3</td>\n",
       "      <td>3.5</td>\n",
       "      <td>4.0</td>\n",
       "      <td>8.83</td>\n",
       "      <td>1</td>\n",
       "    </tr>\n",
       "    <tr>\n",
       "      <th>204</th>\n",
       "      <td>298</td>\n",
       "      <td>105</td>\n",
       "      <td>3</td>\n",
       "      <td>3.5</td>\n",
       "      <td>4.0</td>\n",
       "      <td>8.54</td>\n",
       "      <td>0</td>\n",
       "    </tr>\n",
       "  </tbody>\n",
       "</table>\n",
       "</div>"
      ],
      "text/plain": [
       "     GRE Score  TOEFL Score  University Rating  SOP  LOR   CGPA  Research\n",
       "29         310           99                  2  1.5   2.0  7.30         0\n",
       "172        322          110                  4  4.0   5.0  9.13         1\n",
       "250        320          104                  3  3.0   2.5  8.57         1\n",
       "249        321          111                  3  3.5   4.0  8.83         1\n",
       "204        298          105                  3  3.5   4.0  8.54         0"
      ]
     },
     "execution_count": 95,
     "metadata": {},
     "output_type": "execute_result"
    }
   ],
   "source": [
    "X.sample(5)"
   ]
  },
  {
   "cell_type": "code",
   "execution_count": 96,
   "id": "3b7bb8c1",
   "metadata": {},
   "outputs": [
    {
     "data": {
      "text/plain": [
       "106    0.87\n",
       "312    0.78\n",
       "286    0.92\n",
       "13     0.62\n",
       "251    0.70\n",
       "Name: Chance of Admit , dtype: float64"
      ]
     },
     "execution_count": 96,
     "metadata": {},
     "output_type": "execute_result"
    }
   ],
   "source": [
    "y.sample(5)"
   ]
  },
  {
   "cell_type": "code",
   "execution_count": 97,
   "id": "e3f8a116",
   "metadata": {},
   "outputs": [],
   "source": [
    "# Spleting"
   ]
  },
  {
   "cell_type": "code",
   "execution_count": 98,
   "id": "6764b1b5",
   "metadata": {},
   "outputs": [],
   "source": [
    "X_train,X_test,y_train,y_test = train_test_split(X,y,test_size=0.2,random_state=1)"
   ]
  },
  {
   "cell_type": "code",
   "execution_count": 99,
   "id": "c61c573b",
   "metadata": {},
   "outputs": [
    {
     "data": {
      "text/plain": [
       "((320, 7), (80, 7))"
      ]
     },
     "execution_count": 99,
     "metadata": {},
     "output_type": "execute_result"
    }
   ],
   "source": [
    "X_train.shape, X_test.shape"
   ]
  },
  {
   "cell_type": "code",
   "execution_count": 100,
   "id": "b41d630a",
   "metadata": {},
   "outputs": [
    {
     "data": {
      "text/plain": [
       "((320,), (80,))"
      ]
     },
     "execution_count": 100,
     "metadata": {},
     "output_type": "execute_result"
    }
   ],
   "source": [
    "y_train.shape, y_test.shape"
   ]
  },
  {
   "cell_type": "code",
   "execution_count": 101,
   "id": "0d58c9b1",
   "metadata": {},
   "outputs": [],
   "source": [
    "# Scaling"
   ]
  },
  {
   "cell_type": "code",
   "execution_count": 102,
   "id": "cf44c231",
   "metadata": {},
   "outputs": [],
   "source": [
    "scaler = MinMaxScaler()\n",
    "\n",
    "X_train_scaled = scaler.fit_transform(X_train)\n",
    "X_test_scaled = scaler.transform(X_test)"
   ]
  },
  {
   "cell_type": "code",
   "execution_count": 103,
   "id": "f18aff93",
   "metadata": {},
   "outputs": [
    {
     "data": {
      "text/plain": [
       "array([[0.22      , 0.17857143, 0.25      , ..., 0.42857143, 0.25      ,\n",
       "        1.        ],\n",
       "       [0.88      , 0.96428571, 1.        , ..., 0.85714286, 0.91911765,\n",
       "        1.        ],\n",
       "       [0.3       , 0.71428571, 0.5       , ..., 0.57142857, 0.53308824,\n",
       "        0.        ],\n",
       "       ...,\n",
       "       [0.7       , 0.53571429, 0.5       , ..., 0.57142857, 0.70220588,\n",
       "        1.        ],\n",
       "       [0.72      , 0.67857143, 1.        , ..., 0.71428571, 0.74632353,\n",
       "        1.        ],\n",
       "       [0.2       , 0.46428571, 0.        , ..., 0.14285714, 0.22058824,\n",
       "        0.        ]])"
      ]
     },
     "execution_count": 103,
     "metadata": {},
     "output_type": "execute_result"
    }
   ],
   "source": [
    "X_train_scaled"
   ]
  },
  {
   "cell_type": "code",
   "execution_count": 104,
   "id": "51ebf371",
   "metadata": {},
   "outputs": [
    {
     "data": {
      "text/plain": [
       "array([[ 0.44      ,  0.39285714,  0.5       ,  0.625     ,  0.71428571,\n",
       "         0.58088235,  0.        ],\n",
       "       [ 0.2       ,  0.28571429,  0.5       ,  0.25      ,  0.42857143,\n",
       "         0.53676471,  1.        ],\n",
       "       [ 0.68      ,  0.71428571,  0.75      ,  0.75      ,  0.57142857,\n",
       "         0.57720588,  1.        ],\n",
       "       [ 0.68      ,  0.53571429,  1.        ,  0.625     ,  0.71428571,\n",
       "         0.53676471,  1.        ],\n",
       "       [ 0.64      ,  0.64285714,  0.75      ,  0.75      ,  1.        ,\n",
       "         0.70955882,  1.        ],\n",
       "       [ 0.36      ,  0.5       ,  0.5       ,  0.5       ,  0.42857143,\n",
       "         0.38235294,  0.        ],\n",
       "       [ 0.4       ,  0.5       ,  0.25      ,  0.625     ,  0.28571429,\n",
       "         0.41544118,  0.        ],\n",
       "       [ 0.2       ,  0.35714286,  0.25      ,  0.125     ,  0.14285714,\n",
       "         0.24632353,  0.        ],\n",
       "       [ 0.4       ,  0.25      ,  0.25      ,  0.125     ,  0.14285714,\n",
       "         0.03676471,  0.        ],\n",
       "       [ 1.        ,  0.71428571,  0.75      ,  1.        ,  0.85714286,\n",
       "         0.90441176,  1.        ],\n",
       "       [ 0.62      ,  0.67857143,  0.75      ,  0.75      ,  0.71428571,\n",
       "         0.65073529,  1.        ],\n",
       "       [ 0.92      ,  0.96428571,  0.75      ,  0.875     ,  0.71428571,\n",
       "         0.88970588,  1.        ],\n",
       "       [ 0.82      ,  0.82142857,  1.        ,  0.875     ,  0.57142857,\n",
       "         0.79411765,  1.        ],\n",
       "       [ 0.5       ,  0.42857143,  0.5       ,  0.5       ,  0.28571429,\n",
       "         0.41544118,  0.        ],\n",
       "       [ 0.66      ,  0.42857143,  0.5       ,  0.75      ,  0.71428571,\n",
       "         0.45588235,  1.        ],\n",
       "       [ 0.44      ,  0.64285714,  0.25      ,  0.625     ,  0.42857143,\n",
       "         0.48897059,  0.        ],\n",
       "       [ 0.68      ,  0.64285714,  0.5       ,  0.625     ,  0.42857143,\n",
       "         0.74264706,  1.        ],\n",
       "       [ 0.8       ,  0.82142857,  1.        ,  0.875     ,  0.42857143,\n",
       "         0.78676471,  1.        ],\n",
       "       [ 0.12      ,  0.10714286,  0.25      ,  0.5       ,  0.14285714,\n",
       "         0.125     ,  1.        ],\n",
       "       [ 0.36      ,  0.60714286,  0.25      ,  0.5       ,  0.71428571,\n",
       "         0.45955882,  0.        ],\n",
       "       [ 0.4       ,  0.5       ,  0.75      ,  0.125     ,  0.28571429,\n",
       "         0.42647059,  0.        ],\n",
       "       [ 0.68      ,  0.82142857,  0.5       ,  0.625     ,  0.42857143,\n",
       "         0.57352941,  1.        ],\n",
       "       [ 0.68      ,  0.64285714,  0.75      ,  0.875     ,  0.71428571,\n",
       "         0.71691176,  1.        ],\n",
       "       [ 0.82      ,  0.89285714,  0.75      ,  0.875     ,  1.        ,\n",
       "         0.81617647,  1.        ],\n",
       "       [ 0.58      ,  0.5       ,  0.5       ,  0.75      ,  0.42857143,\n",
       "         0.29411765,  1.        ],\n",
       "       [ 0.16      ,  0.21428571,  0.25      ,  0.75      ,  0.42857143,\n",
       "         0.30514706,  0.        ],\n",
       "       [ 0.6       ,  0.42857143,  0.5       ,  0.625     ,  0.85714286,\n",
       "         0.41911765,  1.        ],\n",
       "       [ 0.5       ,  0.64285714,  0.25      ,  0.625     ,  0.42857143,\n",
       "         0.46323529,  1.        ],\n",
       "       [ 0.88      ,  0.85714286,  0.75      ,  0.75      ,  0.57142857,\n",
       "         0.86029412,  1.        ],\n",
       "       [ 0.4       ,  0.35714286,  0.5       ,  0.625     ,  0.71428571,\n",
       "         0.30147059,  1.        ],\n",
       "       [ 1.        ,  1.        ,  0.75      ,  1.        ,  1.        ,\n",
       "         0.84558824,  1.        ],\n",
       "       [ 0.48      ,  0.39285714,  0.25      ,  0.25      ,  0.42857143,\n",
       "         0.37132353,  0.        ],\n",
       "       [ 0.64      ,  0.64285714,  1.        ,  0.875     ,  0.71428571,\n",
       "         0.65073529,  0.        ],\n",
       "       [ 0.64      ,  0.64285714,  0.5       ,  0.625     ,  0.42857143,\n",
       "         0.64705882,  1.        ],\n",
       "       [ 0.62      ,  0.60714286,  0.5       ,  0.5       ,  0.71428571,\n",
       "         0.36764706,  1.        ],\n",
       "       [ 0.44      ,  0.46428571,  0.5       ,  0.25      ,  0.42857143,\n",
       "         0.30147059,  1.        ],\n",
       "       [ 0.2       ,  0.25      ,  0.        ,  0.5       ,  0.14285714,\n",
       "        -0.14705882,  1.        ],\n",
       "       [ 0.48      ,  0.5       ,  0.25      ,  0.75      ,  0.57142857,\n",
       "         0.38602941,  0.        ],\n",
       "       [ 0.8       ,  0.85714286,  0.75      ,  1.        ,  0.85714286,\n",
       "         0.82720588,  1.        ],\n",
       "       [ 0.56      ,  0.60714286,  0.        ,  0.625     ,  0.57142857,\n",
       "         0.70588235,  0.        ],\n",
       "       [ 0.74      ,  0.75      ,  0.75      ,  0.875     ,  1.        ,\n",
       "         0.71323529,  0.        ],\n",
       "       [ 0.16      ,  0.46428571,  0.5       ,  0.625     ,  0.71428571,\n",
       "         0.49264706,  0.        ],\n",
       "       [ 0.88      ,  0.89285714,  1.        ,  0.75      ,  0.85714286,\n",
       "         0.6875    ,  1.        ],\n",
       "       [ 0.28      ,  0.46428571,  0.25      ,  0.5       ,  0.42857143,\n",
       "         0.36764706,  1.        ],\n",
       "       [ 0.9       ,  0.89285714,  1.        ,  1.        ,  1.        ,\n",
       "         0.96323529,  1.        ],\n",
       "       [ 0.58      ,  0.39285714,  0.75      ,  0.875     ,  0.57142857,\n",
       "         0.53676471,  0.        ],\n",
       "       [ 0.6       ,  0.57142857,  0.5       ,  0.625     ,  0.71428571,\n",
       "         0.45588235,  1.        ],\n",
       "       [ 0.7       ,  0.71428571,  0.75      ,  0.75      ,  0.71428571,\n",
       "         0.66176471,  1.        ],\n",
       "       [ 0.3       ,  0.46428571,  0.25      ,  0.5       ,  0.71428571,\n",
       "         0.34191176,  0.        ],\n",
       "       [ 0.36      ,  0.39285714,  0.25      ,  0.5       ,  0.57142857,\n",
       "         0.47426471,  0.        ],\n",
       "       [ 0.7       ,  0.71428571,  0.75      ,  0.625     ,  0.57142857,\n",
       "         0.63235294,  0.        ],\n",
       "       [ 0.12      ,  0.25      ,  0.25      ,  0.375     ,  0.28571429,\n",
       "         0.30514706,  0.        ],\n",
       "       [ 0.68      ,  0.67857143,  0.75      ,  0.5       ,  0.42857143,\n",
       "         0.66544118,  1.        ],\n",
       "       [ 0.56      ,  0.64285714,  0.5       ,  0.75      ,  0.42857143,\n",
       "         0.58823529,  0.        ],\n",
       "       [ 0.4       ,  0.53571429,  0.5       ,  0.625     ,  0.57142857,\n",
       "         0.54044118,  0.        ],\n",
       "       [ 0.92      ,  0.92857143,  1.        ,  0.875     ,  0.71428571,\n",
       "         0.73161765,  1.        ],\n",
       "       [ 0.08      ,  0.10714286,  0.        ,  0.125     ,  0.        ,\n",
       "         0.16176471,  0.        ],\n",
       "       [ 0.        ,  0.42857143,  0.75      ,  0.25      ,  0.28571429,\n",
       "         0.09558824,  0.        ],\n",
       "       [ 0.72      ,  0.35714286,  0.75      ,  1.        ,  1.        ,\n",
       "         0.57352941,  1.        ],\n",
       "       [ 0.64      ,  0.64285714,  0.5       ,  0.75      ,  1.        ,\n",
       "         0.52941176,  1.        ],\n",
       "       [ 0.96      ,  0.89285714,  0.75      ,  0.625     ,  0.85714286,\n",
       "         0.83088235,  1.        ],\n",
       "       [ 0.52      ,  0.53571429,  0.25      ,  0.625     ,  0.57142857,\n",
       "         0.52941176,  1.        ],\n",
       "       [ 0.8       ,  0.75      ,  1.        ,  1.        ,  0.71428571,\n",
       "         0.77573529,  1.        ],\n",
       "       [ 0.52      ,  0.46428571,  0.5       ,  0.5       ,  0.57142857,\n",
       "         0.5625    ,  0.        ],\n",
       "       [ 0.14      ,  0.21428571,  0.25      ,  0.375     ,  0.42857143,\n",
       "         0.17279412,  0.        ],\n",
       "       [ 0.68      ,  0.75      ,  0.75      ,  0.875     ,  0.71428571,\n",
       "         0.58455882,  0.        ],\n",
       "       [ 0.78      ,  0.67857143,  0.75      ,  0.875     ,  0.85714286,\n",
       "         0.72794118,  1.        ],\n",
       "       [ 0.6       ,  0.42857143,  0.5       ,  0.5       ,  0.57142857,\n",
       "         0.56617647,  1.        ],\n",
       "       [ 0.32      ,  0.46428571,  0.25      ,  0.375     ,  0.42857143,\n",
       "         0.375     ,  1.        ],\n",
       "       [ 0.42      ,  0.53571429,  0.75      ,  0.875     ,  0.85714286,\n",
       "         0.66176471,  1.        ],\n",
       "       [ 0.68      ,  0.64285714,  0.75      ,  0.5       ,  0.57142857,\n",
       "         0.65073529,  1.        ],\n",
       "       [ 0.28      ,  0.28571429,  0.75      ,  0.125     ,  0.28571429,\n",
       "         0.23529412,  0.        ],\n",
       "       [ 0.56      ,  0.53571429,  0.5       ,  0.5       ,  0.57142857,\n",
       "         0.39338235,  1.        ],\n",
       "       [ 0.34      ,  0.46428571,  0.25      ,  0.25      ,  0.57142857,\n",
       "         0.33088235,  0.        ],\n",
       "       [ 0.74      ,  0.67857143,  0.75      ,  0.75      ,  0.85714286,\n",
       "         0.66176471,  1.        ],\n",
       "       [ 0.18      ,  0.07142857,  0.        ,  0.        , -0.14285714,\n",
       "         0.05147059,  0.        ],\n",
       "       [ 0.52      ,  0.46428571,  0.25      ,  0.375     ,  0.28571429,\n",
       "         0.36764706,  1.        ],\n",
       "       [ 0.2       ,  0.42857143,  0.5       ,  0.625     ,  0.42857143,\n",
       "         0.35294118,  0.        ],\n",
       "       [ 0.38      ,  0.46428571,  1.        ,  0.625     ,  0.57142857,\n",
       "         0.5       ,  0.        ],\n",
       "       [ 0.3       ,  0.46428571,  0.25      ,  0.5       ,  0.14285714,\n",
       "         0.37867647,  0.        ]])"
      ]
     },
     "execution_count": 104,
     "metadata": {},
     "output_type": "execute_result"
    }
   ],
   "source": [
    "X_test_scaled"
   ]
  },
  {
   "cell_type": "code",
   "execution_count": 105,
   "id": "e5580cde",
   "metadata": {},
   "outputs": [],
   "source": [
    "# Modeling"
   ]
  },
  {
   "cell_type": "code",
   "execution_count": 106,
   "id": "3058bea5",
   "metadata": {},
   "outputs": [],
   "source": [
    "model = Sequential()\n",
    "\n",
    "model.add(Dense(7,activation='relu',input_dim=7))\n",
    "model.add(Dense(7,activation='relu'))\n",
    "model.add(Dense(1,activation='linear'))"
   ]
  },
  {
   "cell_type": "code",
   "execution_count": 107,
   "id": "78df56a6",
   "metadata": {},
   "outputs": [
    {
     "name": "stdout",
     "output_type": "stream",
     "text": [
      "Model: \"sequential_1\"\n",
      "_________________________________________________________________\n",
      " Layer (type)                Output Shape              Param #   \n",
      "=================================================================\n",
      " dense_3 (Dense)             (None, 7)                 56        \n",
      "                                                                 \n",
      " dense_4 (Dense)             (None, 7)                 56        \n",
      "                                                                 \n",
      " dense_5 (Dense)             (None, 1)                 8         \n",
      "                                                                 \n",
      "=================================================================\n",
      "Total params: 120 (480.00 Byte)\n",
      "Trainable params: 120 (480.00 Byte)\n",
      "Non-trainable params: 0 (0.00 Byte)\n",
      "_________________________________________________________________\n"
     ]
    }
   ],
   "source": [
    "model.summary()"
   ]
  },
  {
   "cell_type": "code",
   "execution_count": 108,
   "id": "454bce43",
   "metadata": {},
   "outputs": [],
   "source": [
    "model.compile(loss='mean_squared_error',optimizer='Adam')"
   ]
  },
  {
   "cell_type": "code",
   "execution_count": 109,
   "id": "7b67931f",
   "metadata": {},
   "outputs": [
    {
     "name": "stdout",
     "output_type": "stream",
     "text": [
      "Epoch 1/100\n",
      "8/8 [==============================] - 1s 33ms/step - loss: 0.2116 - val_loss: 0.1794\n",
      "Epoch 2/100\n",
      "8/8 [==============================] - 0s 9ms/step - loss: 0.1341 - val_loss: 0.1098\n",
      "Epoch 3/100\n",
      "8/8 [==============================] - 0s 9ms/step - loss: 0.0806 - val_loss: 0.0632\n",
      "Epoch 4/100\n",
      "8/8 [==============================] - 0s 9ms/step - loss: 0.0460 - val_loss: 0.0362\n",
      "Epoch 5/100\n",
      "8/8 [==============================] - 0s 9ms/step - loss: 0.0281 - val_loss: 0.0240\n",
      "Epoch 6/100\n",
      "8/8 [==============================] - 0s 14ms/step - loss: 0.0210 - val_loss: 0.0207\n",
      "Epoch 7/100\n",
      "8/8 [==============================] - 0s 9ms/step - loss: 0.0193 - val_loss: 0.0201\n",
      "Epoch 8/100\n",
      "8/8 [==============================] - 0s 9ms/step - loss: 0.0188 - val_loss: 0.0193\n",
      "Epoch 9/100\n",
      "8/8 [==============================] - 0s 8ms/step - loss: 0.0179 - val_loss: 0.0183\n",
      "Epoch 10/100\n",
      "8/8 [==============================] - 0s 8ms/step - loss: 0.0169 - val_loss: 0.0173\n",
      "Epoch 11/100\n",
      "8/8 [==============================] - 0s 8ms/step - loss: 0.0161 - val_loss: 0.0166\n",
      "Epoch 12/100\n",
      "8/8 [==============================] - 0s 8ms/step - loss: 0.0155 - val_loss: 0.0159\n",
      "Epoch 13/100\n",
      "8/8 [==============================] - 0s 8ms/step - loss: 0.0149 - val_loss: 0.0153\n",
      "Epoch 14/100\n",
      "8/8 [==============================] - 0s 8ms/step - loss: 0.0143 - val_loss: 0.0147\n",
      "Epoch 15/100\n",
      "8/8 [==============================] - 0s 9ms/step - loss: 0.0138 - val_loss: 0.0141\n",
      "Epoch 16/100\n",
      "8/8 [==============================] - 0s 8ms/step - loss: 0.0133 - val_loss: 0.0135\n",
      "Epoch 17/100\n",
      "8/8 [==============================] - 0s 9ms/step - loss: 0.0128 - val_loss: 0.0130\n",
      "Epoch 18/100\n",
      "8/8 [==============================] - 0s 9ms/step - loss: 0.0123 - val_loss: 0.0124\n",
      "Epoch 19/100\n",
      "8/8 [==============================] - 0s 9ms/step - loss: 0.0119 - val_loss: 0.0120\n",
      "Epoch 20/100\n",
      "8/8 [==============================] - 0s 9ms/step - loss: 0.0115 - val_loss: 0.0115\n",
      "Epoch 21/100\n",
      "8/8 [==============================] - 0s 9ms/step - loss: 0.0112 - val_loss: 0.0110\n",
      "Epoch 22/100\n",
      "8/8 [==============================] - 0s 9ms/step - loss: 0.0108 - val_loss: 0.0106\n",
      "Epoch 23/100\n",
      "8/8 [==============================] - 0s 8ms/step - loss: 0.0104 - val_loss: 0.0102\n",
      "Epoch 24/100\n",
      "8/8 [==============================] - 0s 9ms/step - loss: 0.0101 - val_loss: 0.0098\n",
      "Epoch 25/100\n",
      "8/8 [==============================] - 0s 9ms/step - loss: 0.0098 - val_loss: 0.0095\n",
      "Epoch 26/100\n",
      "8/8 [==============================] - 0s 9ms/step - loss: 0.0096 - val_loss: 0.0091\n",
      "Epoch 27/100\n",
      "8/8 [==============================] - 0s 9ms/step - loss: 0.0093 - val_loss: 0.0088\n",
      "Epoch 28/100\n",
      "8/8 [==============================] - 0s 9ms/step - loss: 0.0090 - val_loss: 0.0085\n",
      "Epoch 29/100\n",
      "8/8 [==============================] - 0s 9ms/step - loss: 0.0088 - val_loss: 0.0082\n",
      "Epoch 30/100\n",
      "8/8 [==============================] - 0s 9ms/step - loss: 0.0086 - val_loss: 0.0079\n",
      "Epoch 31/100\n",
      "8/8 [==============================] - 0s 9ms/step - loss: 0.0084 - val_loss: 0.0077\n",
      "Epoch 32/100\n",
      "8/8 [==============================] - 0s 9ms/step - loss: 0.0082 - val_loss: 0.0075\n",
      "Epoch 33/100\n",
      "8/8 [==============================] - 0s 9ms/step - loss: 0.0081 - val_loss: 0.0073\n",
      "Epoch 34/100\n",
      "8/8 [==============================] - 0s 9ms/step - loss: 0.0079 - val_loss: 0.0071\n",
      "Epoch 35/100\n",
      "8/8 [==============================] - 0s 9ms/step - loss: 0.0078 - val_loss: 0.0069\n",
      "Epoch 36/100\n",
      "8/8 [==============================] - 0s 9ms/step - loss: 0.0076 - val_loss: 0.0067\n",
      "Epoch 37/100\n",
      "8/8 [==============================] - 0s 9ms/step - loss: 0.0075 - val_loss: 0.0065\n",
      "Epoch 38/100\n",
      "8/8 [==============================] - 0s 9ms/step - loss: 0.0074 - val_loss: 0.0064\n",
      "Epoch 39/100\n",
      "8/8 [==============================] - 0s 9ms/step - loss: 0.0073 - val_loss: 0.0063\n",
      "Epoch 40/100\n",
      "8/8 [==============================] - 0s 9ms/step - loss: 0.0072 - val_loss: 0.0061\n",
      "Epoch 41/100\n",
      "8/8 [==============================] - 0s 9ms/step - loss: 0.0071 - val_loss: 0.0060\n",
      "Epoch 42/100\n",
      "8/8 [==============================] - 0s 9ms/step - loss: 0.0071 - val_loss: 0.0058\n",
      "Epoch 43/100\n",
      "8/8 [==============================] - 0s 8ms/step - loss: 0.0070 - val_loss: 0.0058\n",
      "Epoch 44/100\n",
      "8/8 [==============================] - 0s 8ms/step - loss: 0.0069 - val_loss: 0.0057\n",
      "Epoch 45/100\n",
      "8/8 [==============================] - 0s 8ms/step - loss: 0.0068 - val_loss: 0.0056\n",
      "Epoch 46/100\n",
      "8/8 [==============================] - 0s 9ms/step - loss: 0.0068 - val_loss: 0.0055\n",
      "Epoch 47/100\n",
      "8/8 [==============================] - 0s 9ms/step - loss: 0.0067 - val_loss: 0.0054\n",
      "Epoch 48/100\n",
      "8/8 [==============================] - 0s 9ms/step - loss: 0.0067 - val_loss: 0.0054\n",
      "Epoch 49/100\n",
      "8/8 [==============================] - 0s 9ms/step - loss: 0.0066 - val_loss: 0.0053\n",
      "Epoch 50/100\n",
      "8/8 [==============================] - 0s 9ms/step - loss: 0.0066 - val_loss: 0.0052\n",
      "Epoch 51/100\n",
      "8/8 [==============================] - 0s 9ms/step - loss: 0.0065 - val_loss: 0.0052\n",
      "Epoch 52/100\n",
      "8/8 [==============================] - 0s 9ms/step - loss: 0.0065 - val_loss: 0.0051\n",
      "Epoch 53/100\n",
      "8/8 [==============================] - 0s 9ms/step - loss: 0.0064 - val_loss: 0.0051\n",
      "Epoch 54/100\n",
      "8/8 [==============================] - 0s 9ms/step - loss: 0.0064 - val_loss: 0.0050\n",
      "Epoch 55/100\n",
      "8/8 [==============================] - 0s 9ms/step - loss: 0.0064 - val_loss: 0.0050\n",
      "Epoch 56/100\n",
      "8/8 [==============================] - 0s 9ms/step - loss: 0.0063 - val_loss: 0.0049\n",
      "Epoch 57/100\n",
      "8/8 [==============================] - 0s 10ms/step - loss: 0.0063 - val_loss: 0.0049\n",
      "Epoch 58/100\n",
      "8/8 [==============================] - 0s 9ms/step - loss: 0.0062 - val_loss: 0.0049\n",
      "Epoch 59/100\n",
      "8/8 [==============================] - 0s 9ms/step - loss: 0.0062 - val_loss: 0.0048\n",
      "Epoch 60/100\n",
      "8/8 [==============================] - 0s 9ms/step - loss: 0.0062 - val_loss: 0.0048\n",
      "Epoch 61/100\n",
      "8/8 [==============================] - 0s 9ms/step - loss: 0.0061 - val_loss: 0.0047\n",
      "Epoch 62/100\n",
      "8/8 [==============================] - 0s 10ms/step - loss: 0.0061 - val_loss: 0.0047\n",
      "Epoch 63/100\n",
      "8/8 [==============================] - 0s 9ms/step - loss: 0.0061 - val_loss: 0.0047\n",
      "Epoch 64/100\n",
      "8/8 [==============================] - 0s 10ms/step - loss: 0.0060 - val_loss: 0.0046\n",
      "Epoch 65/100\n",
      "8/8 [==============================] - 0s 9ms/step - loss: 0.0060 - val_loss: 0.0046\n",
      "Epoch 66/100\n",
      "8/8 [==============================] - 0s 14ms/step - loss: 0.0060 - val_loss: 0.0046\n",
      "Epoch 67/100\n",
      "8/8 [==============================] - 0s 9ms/step - loss: 0.0060 - val_loss: 0.0047\n",
      "Epoch 68/100\n",
      "8/8 [==============================] - 0s 8ms/step - loss: 0.0059 - val_loss: 0.0045\n",
      "Epoch 69/100\n",
      "8/8 [==============================] - 0s 8ms/step - loss: 0.0059 - val_loss: 0.0045\n",
      "Epoch 70/100\n",
      "8/8 [==============================] - 0s 8ms/step - loss: 0.0059 - val_loss: 0.0045\n",
      "Epoch 71/100\n",
      "8/8 [==============================] - 0s 9ms/step - loss: 0.0058 - val_loss: 0.0045\n",
      "Epoch 72/100\n",
      "8/8 [==============================] - 0s 8ms/step - loss: 0.0058 - val_loss: 0.0044\n",
      "Epoch 73/100\n",
      "8/8 [==============================] - 0s 10ms/step - loss: 0.0058 - val_loss: 0.0044\n",
      "Epoch 74/100\n",
      "8/8 [==============================] - 0s 9ms/step - loss: 0.0058 - val_loss: 0.0045\n",
      "Epoch 75/100\n",
      "8/8 [==============================] - 0s 9ms/step - loss: 0.0057 - val_loss: 0.0043\n",
      "Epoch 76/100\n",
      "8/8 [==============================] - 0s 9ms/step - loss: 0.0057 - val_loss: 0.0043\n",
      "Epoch 77/100\n",
      "8/8 [==============================] - 0s 9ms/step - loss: 0.0056 - val_loss: 0.0043\n",
      "Epoch 78/100\n",
      "8/8 [==============================] - 0s 9ms/step - loss: 0.0056 - val_loss: 0.0043\n",
      "Epoch 79/100\n",
      "8/8 [==============================] - 0s 10ms/step - loss: 0.0056 - val_loss: 0.0042\n",
      "Epoch 80/100\n",
      "8/8 [==============================] - 0s 9ms/step - loss: 0.0055 - val_loss: 0.0043\n",
      "Epoch 81/100\n",
      "8/8 [==============================] - 0s 9ms/step - loss: 0.0055 - val_loss: 0.0042\n",
      "Epoch 82/100\n",
      "8/8 [==============================] - 0s 9ms/step - loss: 0.0055 - val_loss: 0.0041\n",
      "Epoch 83/100\n",
      "8/8 [==============================] - 0s 8ms/step - loss: 0.0054 - val_loss: 0.0041\n",
      "Epoch 84/100\n"
     ]
    },
    {
     "name": "stdout",
     "output_type": "stream",
     "text": [
      "8/8 [==============================] - 0s 8ms/step - loss: 0.0054 - val_loss: 0.0041\n",
      "Epoch 85/100\n",
      "8/8 [==============================] - 0s 9ms/step - loss: 0.0053 - val_loss: 0.0039\n",
      "Epoch 86/100\n",
      "8/8 [==============================] - 0s 9ms/step - loss: 0.0053 - val_loss: 0.0040\n",
      "Epoch 87/100\n",
      "8/8 [==============================] - 0s 8ms/step - loss: 0.0053 - val_loss: 0.0040\n",
      "Epoch 88/100\n",
      "8/8 [==============================] - 0s 8ms/step - loss: 0.0052 - val_loss: 0.0039\n",
      "Epoch 89/100\n",
      "8/8 [==============================] - 0s 8ms/step - loss: 0.0052 - val_loss: 0.0038\n",
      "Epoch 90/100\n",
      "8/8 [==============================] - 0s 8ms/step - loss: 0.0052 - val_loss: 0.0038\n",
      "Epoch 91/100\n",
      "8/8 [==============================] - 0s 8ms/step - loss: 0.0051 - val_loss: 0.0038\n",
      "Epoch 92/100\n",
      "8/8 [==============================] - 0s 8ms/step - loss: 0.0051 - val_loss: 0.0038\n",
      "Epoch 93/100\n",
      "8/8 [==============================] - 0s 8ms/step - loss: 0.0050 - val_loss: 0.0038\n",
      "Epoch 94/100\n",
      "8/8 [==============================] - 0s 8ms/step - loss: 0.0050 - val_loss: 0.0037\n",
      "Epoch 95/100\n",
      "8/8 [==============================] - 0s 8ms/step - loss: 0.0050 - val_loss: 0.0038\n",
      "Epoch 96/100\n",
      "8/8 [==============================] - 0s 8ms/step - loss: 0.0049 - val_loss: 0.0038\n",
      "Epoch 97/100\n",
      "8/8 [==============================] - 0s 8ms/step - loss: 0.0049 - val_loss: 0.0037\n",
      "Epoch 98/100\n",
      "8/8 [==============================] - 0s 8ms/step - loss: 0.0049 - val_loss: 0.0038\n",
      "Epoch 99/100\n",
      "8/8 [==============================] - 0s 8ms/step - loss: 0.0049 - val_loss: 0.0039\n",
      "Epoch 100/100\n",
      "8/8 [==============================] - 0s 8ms/step - loss: 0.0048 - val_loss: 0.0038\n"
     ]
    }
   ],
   "source": [
    "history = model.fit(X_train_scaled,y_train,epochs=100,validation_split=0.2)"
   ]
  },
  {
   "cell_type": "code",
   "execution_count": 110,
   "id": "6e3efed7",
   "metadata": {},
   "outputs": [
    {
     "name": "stdout",
     "output_type": "stream",
     "text": [
      "3/3 [==============================] - 0s 3ms/step\n"
     ]
    }
   ],
   "source": [
    "y_pred = model.predict(X_test_scaled)"
   ]
  },
  {
   "cell_type": "code",
   "execution_count": 111,
   "id": "cab297b4",
   "metadata": {},
   "outputs": [
    {
     "data": {
      "text/plain": [
       "0.7876276527323948"
      ]
     },
     "execution_count": 111,
     "metadata": {},
     "output_type": "execute_result"
    }
   ],
   "source": [
    "r2_score(y_test,y_pred)"
   ]
  },
  {
   "cell_type": "code",
   "execution_count": 112,
   "id": "ece20019",
   "metadata": {},
   "outputs": [
    {
     "data": {
      "text/plain": [
       "[<matplotlib.lines.Line2D at 0x1c22eabae30>]"
      ]
     },
     "execution_count": 112,
     "metadata": {},
     "output_type": "execute_result"
    },
    {
     "data": {
      "image/png": "[encoded data removed]",
      "text/plain": [
       "<Figure size 640x480 with 1 Axes>"
      ]
     },
     "metadata": {},
     "output_type": "display_data"
    }
   ],
   "source": [
    "plt.plot(history.history['loss'])\n",
    "plt.plot(history.history['val_loss'])"
   ]
  },
  {
   "cell_type": "code",
   "execution_count": null,
   "id": "39b3c122",
   "metadata": {},
   "outputs": [],
   "source": []
  },
  {
   "cell_type": "code",
   "execution_count": null,
   "id": "f8eb6a65",
   "metadata": {},
   "outputs": [],
   "source": []
  }
 ],
 "metadata": {
  "kernelspec": {
   "display_name": "Python 3 (ipykernel)",
   "language": "python",
   "name": "python3"
  },
  "language_info": {
   "codemirror_mode": {
    "name": "ipython",
    "version": 3
   },
   "file_extension": ".py",
   "mimetype": "text/x-python",
   "name": "python",
   "nbconvert_exporter": "python",
   "pygments_lexer": "ipython3",
   "version": "3.10.6"
  }
 },
 "nbformat": 4,
 "nbformat_minor": 5
}
