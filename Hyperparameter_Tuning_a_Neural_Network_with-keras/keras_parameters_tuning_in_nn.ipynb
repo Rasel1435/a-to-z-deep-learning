{
 "cells": [
  {
   "cell_type": "markdown",
   "metadata": {},
   "source": [
    "# Keras Tuner | Hyperparameter Tuning a Neural Network\n"
   ]
  },
  {
   "cell_type": "markdown",
   "metadata": {},
   "source": [
    "### Import Necessary Libraries\n"
   ]
  },
  {
   "cell_type": "code",
   "execution_count": 5,
   "metadata": {},
   "outputs": [],
   "source": [
    "from sklearn.model_selection import train_test_split\n",
    "from sklearn.preprocessing import StandardScaler\n",
    "from keras.models import Sequential\n",
    "from keras.layers import Dense, Dropout\n",
    "import keras_tuner as kt\n",
    "import keras\n",
    "import tensorflow as tf\n",
    "import pandas as pd\n",
    "import numpy as np\n",
    "import warnings\n",
    "\n",
    "\n",
    "warnings.filterwarnings('ignore')"
   ]
  },
  {
   "cell_type": "markdown",
   "metadata": {},
   "source": [
    "### Load The Data\n"
   ]
  },
  {
   "cell_type": "code",
   "execution_count": 6,
   "metadata": {},
   "outputs": [],
   "source": [
    "df = pd.read_csv(r'data/diabetes.csv')"
   ]
  },
  {
   "cell_type": "code",
   "execution_count": 7,
   "metadata": {},
   "outputs": [
    {
     "data": {
      "text/html": [
       "<div>\n",
       "<style scoped>\n",
       "    .dataframe tbody tr th:only-of-type {\n",
       "        vertical-align: middle;\n",
       "    }\n",
       "\n",
       "    .dataframe tbody tr th {\n",
       "        vertical-align: top;\n",
       "    }\n",
       "\n",
       "    .dataframe thead th {\n",
       "        text-align: right;\n",
       "    }\n",
       "</style>\n",
       "<table border=\"1\" class=\"dataframe\">\n",
       "  <thead>\n",
       "    <tr style=\"text-align: right;\">\n",
       "      <th></th>\n",
       "      <th>Pregnancies</th>\n",
       "      <th>Glucose</th>\n",
       "      <th>BloodPressure</th>\n",
       "      <th>SkinThickness</th>\n",
       "      <th>Insulin</th>\n",
       "      <th>BMI</th>\n",
       "      <th>DiabetesPedigreeFunction</th>\n",
       "      <th>Age</th>\n",
       "      <th>Outcome</th>\n",
       "    </tr>\n",
       "  </thead>\n",
       "  <tbody>\n",
       "    <tr>\n",
       "      <th>0</th>\n",
       "      <td>6</td>\n",
       "      <td>148</td>\n",
       "      <td>72</td>\n",
       "      <td>35</td>\n",
       "      <td>0</td>\n",
       "      <td>33.6</td>\n",
       "      <td>0.627</td>\n",
       "      <td>50</td>\n",
       "      <td>1</td>\n",
       "    </tr>\n",
       "    <tr>\n",
       "      <th>1</th>\n",
       "      <td>1</td>\n",
       "      <td>85</td>\n",
       "      <td>66</td>\n",
       "      <td>29</td>\n",
       "      <td>0</td>\n",
       "      <td>26.6</td>\n",
       "      <td>0.351</td>\n",
       "      <td>31</td>\n",
       "      <td>0</td>\n",
       "    </tr>\n",
       "    <tr>\n",
       "      <th>2</th>\n",
       "      <td>8</td>\n",
       "      <td>183</td>\n",
       "      <td>64</td>\n",
       "      <td>0</td>\n",
       "      <td>0</td>\n",
       "      <td>23.3</td>\n",
       "      <td>0.672</td>\n",
       "      <td>32</td>\n",
       "      <td>1</td>\n",
       "    </tr>\n",
       "    <tr>\n",
       "      <th>3</th>\n",
       "      <td>1</td>\n",
       "      <td>89</td>\n",
       "      <td>66</td>\n",
       "      <td>23</td>\n",
       "      <td>94</td>\n",
       "      <td>28.1</td>\n",
       "      <td>0.167</td>\n",
       "      <td>21</td>\n",
       "      <td>0</td>\n",
       "    </tr>\n",
       "    <tr>\n",
       "      <th>4</th>\n",
       "      <td>0</td>\n",
       "      <td>137</td>\n",
       "      <td>40</td>\n",
       "      <td>35</td>\n",
       "      <td>168</td>\n",
       "      <td>43.1</td>\n",
       "      <td>2.288</td>\n",
       "      <td>33</td>\n",
       "      <td>1</td>\n",
       "    </tr>\n",
       "  </tbody>\n",
       "</table>\n",
       "</div>"
      ],
      "text/plain": [
       "   Pregnancies  Glucose  BloodPressure  SkinThickness  Insulin   BMI  \\\n",
       "0            6      148             72             35        0  33.6   \n",
       "1            1       85             66             29        0  26.6   \n",
       "2            8      183             64              0        0  23.3   \n",
       "3            1       89             66             23       94  28.1   \n",
       "4            0      137             40             35      168  43.1   \n",
       "\n",
       "   DiabetesPedigreeFunction  Age  Outcome  \n",
       "0                     0.627   50        1  \n",
       "1                     0.351   31        0  \n",
       "2                     0.672   32        1  \n",
       "3                     0.167   21        0  \n",
       "4                     2.288   33        1  "
      ]
     },
     "execution_count": 7,
     "metadata": {},
     "output_type": "execute_result"
    }
   ],
   "source": [
    "df.head()"
   ]
  },
  {
   "cell_type": "code",
   "execution_count": 8,
   "metadata": {},
   "outputs": [
    {
     "data": {
      "text/html": [
       "<div>\n",
       "<style scoped>\n",
       "    .dataframe tbody tr th:only-of-type {\n",
       "        vertical-align: middle;\n",
       "    }\n",
       "\n",
       "    .dataframe tbody tr th {\n",
       "        vertical-align: top;\n",
       "    }\n",
       "\n",
       "    .dataframe thead th {\n",
       "        text-align: right;\n",
       "    }\n",
       "</style>\n",
       "<table border=\"1\" class=\"dataframe\">\n",
       "  <thead>\n",
       "    <tr style=\"text-align: right;\">\n",
       "      <th></th>\n",
       "      <th>Pregnancies</th>\n",
       "      <th>Glucose</th>\n",
       "      <th>BloodPressure</th>\n",
       "      <th>SkinThickness</th>\n",
       "      <th>Insulin</th>\n",
       "      <th>BMI</th>\n",
       "      <th>DiabetesPedigreeFunction</th>\n",
       "      <th>Age</th>\n",
       "      <th>Outcome</th>\n",
       "    </tr>\n",
       "  </thead>\n",
       "  <tbody>\n",
       "    <tr>\n",
       "      <th>763</th>\n",
       "      <td>10</td>\n",
       "      <td>101</td>\n",
       "      <td>76</td>\n",
       "      <td>48</td>\n",
       "      <td>180</td>\n",
       "      <td>32.9</td>\n",
       "      <td>0.171</td>\n",
       "      <td>63</td>\n",
       "      <td>0</td>\n",
       "    </tr>\n",
       "    <tr>\n",
       "      <th>764</th>\n",
       "      <td>2</td>\n",
       "      <td>122</td>\n",
       "      <td>70</td>\n",
       "      <td>27</td>\n",
       "      <td>0</td>\n",
       "      <td>36.8</td>\n",
       "      <td>0.340</td>\n",
       "      <td>27</td>\n",
       "      <td>0</td>\n",
       "    </tr>\n",
       "    <tr>\n",
       "      <th>765</th>\n",
       "      <td>5</td>\n",
       "      <td>121</td>\n",
       "      <td>72</td>\n",
       "      <td>23</td>\n",
       "      <td>112</td>\n",
       "      <td>26.2</td>\n",
       "      <td>0.245</td>\n",
       "      <td>30</td>\n",
       "      <td>0</td>\n",
       "    </tr>\n",
       "    <tr>\n",
       "      <th>766</th>\n",
       "      <td>1</td>\n",
       "      <td>126</td>\n",
       "      <td>60</td>\n",
       "      <td>0</td>\n",
       "      <td>0</td>\n",
       "      <td>30.1</td>\n",
       "      <td>0.349</td>\n",
       "      <td>47</td>\n",
       "      <td>1</td>\n",
       "    </tr>\n",
       "    <tr>\n",
       "      <th>767</th>\n",
       "      <td>1</td>\n",
       "      <td>93</td>\n",
       "      <td>70</td>\n",
       "      <td>31</td>\n",
       "      <td>0</td>\n",
       "      <td>30.4</td>\n",
       "      <td>0.315</td>\n",
       "      <td>23</td>\n",
       "      <td>0</td>\n",
       "    </tr>\n",
       "  </tbody>\n",
       "</table>\n",
       "</div>"
      ],
      "text/plain": [
       "     Pregnancies  Glucose  BloodPressure  SkinThickness  Insulin   BMI  \\\n",
       "763           10      101             76             48      180  32.9   \n",
       "764            2      122             70             27        0  36.8   \n",
       "765            5      121             72             23      112  26.2   \n",
       "766            1      126             60              0        0  30.1   \n",
       "767            1       93             70             31        0  30.4   \n",
       "\n",
       "     DiabetesPedigreeFunction  Age  Outcome  \n",
       "763                     0.171   63        0  \n",
       "764                     0.340   27        0  \n",
       "765                     0.245   30        0  \n",
       "766                     0.349   47        1  \n",
       "767                     0.315   23        0  "
      ]
     },
     "execution_count": 8,
     "metadata": {},
     "output_type": "execute_result"
    }
   ],
   "source": [
    "df.tail()"
   ]
  },
  {
   "cell_type": "code",
   "execution_count": 9,
   "metadata": {},
   "outputs": [
    {
     "name": "stdout",
     "output_type": "stream",
     "text": [
      "<class 'pandas.core.frame.DataFrame'>\n",
      "RangeIndex: 768 entries, 0 to 767\n",
      "Data columns (total 9 columns):\n",
      " #   Column                    Non-Null Count  Dtype  \n",
      "---  ------                    --------------  -----  \n",
      " 0   Pregnancies               768 non-null    int64  \n",
      " 1   Glucose                   768 non-null    int64  \n",
      " 2   BloodPressure             768 non-null    int64  \n",
      " 3   SkinThickness             768 non-null    int64  \n",
      " 4   Insulin                   768 non-null    int64  \n",
      " 5   BMI                       768 non-null    float64\n",
      " 6   DiabetesPedigreeFunction  768 non-null    float64\n",
      " 7   Age                       768 non-null    int64  \n",
      " 8   Outcome                   768 non-null    int64  \n",
      "dtypes: float64(2), int64(7)\n",
      "memory usage: 54.1 KB\n"
     ]
    }
   ],
   "source": [
    "df.info()"
   ]
  },
  {
   "cell_type": "code",
   "execution_count": 10,
   "metadata": {},
   "outputs": [],
   "source": [
    "# There is two type of datatype:\n",
    "# float64(2), int64(7)"
   ]
  },
  {
   "cell_type": "code",
   "execution_count": 11,
   "metadata": {},
   "outputs": [
    {
     "data": {
      "text/plain": [
       "Index(['Pregnancies', 'Glucose', 'BloodPressure', 'SkinThickness', 'Insulin',\n",
       "       'BMI', 'DiabetesPedigreeFunction', 'Age', 'Outcome'],\n",
       "      dtype='object')"
      ]
     },
     "execution_count": 11,
     "metadata": {},
     "output_type": "execute_result"
    }
   ],
   "source": [
    "df.columns"
   ]
  },
  {
   "cell_type": "code",
   "execution_count": 12,
   "metadata": {},
   "outputs": [
    {
     "data": {
      "text/plain": [
       "(768, 9)"
      ]
     },
     "execution_count": 12,
     "metadata": {},
     "output_type": "execute_result"
    }
   ],
   "source": [
    "df.shape"
   ]
  },
  {
   "cell_type": "code",
   "execution_count": 13,
   "metadata": {},
   "outputs": [],
   "source": [
    "# there is:\n",
    "# Row = 768\n",
    "# columns = 9"
   ]
  },
  {
   "cell_type": "code",
   "execution_count": 14,
   "metadata": {},
   "outputs": [
    {
     "data": {
      "text/html": [
       "<div>\n",
       "<style scoped>\n",
       "    .dataframe tbody tr th:only-of-type {\n",
       "        vertical-align: middle;\n",
       "    }\n",
       "\n",
       "    .dataframe tbody tr th {\n",
       "        vertical-align: top;\n",
       "    }\n",
       "\n",
       "    .dataframe thead th {\n",
       "        text-align: right;\n",
       "    }\n",
       "</style>\n",
       "<table border=\"1\" class=\"dataframe\">\n",
       "  <thead>\n",
       "    <tr style=\"text-align: right;\">\n",
       "      <th></th>\n",
       "      <th>Pregnancies</th>\n",
       "      <th>Glucose</th>\n",
       "      <th>BloodPressure</th>\n",
       "      <th>SkinThickness</th>\n",
       "      <th>Insulin</th>\n",
       "      <th>BMI</th>\n",
       "      <th>DiabetesPedigreeFunction</th>\n",
       "      <th>Age</th>\n",
       "      <th>Outcome</th>\n",
       "    </tr>\n",
       "  </thead>\n",
       "  <tbody>\n",
       "    <tr>\n",
       "      <th>count</th>\n",
       "      <td>768.000000</td>\n",
       "      <td>768.000000</td>\n",
       "      <td>768.000000</td>\n",
       "      <td>768.000000</td>\n",
       "      <td>768.000000</td>\n",
       "      <td>768.000000</td>\n",
       "      <td>768.000000</td>\n",
       "      <td>768.000000</td>\n",
       "      <td>768.000000</td>\n",
       "    </tr>\n",
       "    <tr>\n",
       "      <th>mean</th>\n",
       "      <td>3.845052</td>\n",
       "      <td>120.894531</td>\n",
       "      <td>69.105469</td>\n",
       "      <td>20.536458</td>\n",
       "      <td>79.799479</td>\n",
       "      <td>31.992578</td>\n",
       "      <td>0.471876</td>\n",
       "      <td>33.240885</td>\n",
       "      <td>0.348958</td>\n",
       "    </tr>\n",
       "    <tr>\n",
       "      <th>std</th>\n",
       "      <td>3.369578</td>\n",
       "      <td>31.972618</td>\n",
       "      <td>19.355807</td>\n",
       "      <td>15.952218</td>\n",
       "      <td>115.244002</td>\n",
       "      <td>7.884160</td>\n",
       "      <td>0.331329</td>\n",
       "      <td>11.760232</td>\n",
       "      <td>0.476951</td>\n",
       "    </tr>\n",
       "    <tr>\n",
       "      <th>min</th>\n",
       "      <td>0.000000</td>\n",
       "      <td>0.000000</td>\n",
       "      <td>0.000000</td>\n",
       "      <td>0.000000</td>\n",
       "      <td>0.000000</td>\n",
       "      <td>0.000000</td>\n",
       "      <td>0.078000</td>\n",
       "      <td>21.000000</td>\n",
       "      <td>0.000000</td>\n",
       "    </tr>\n",
       "    <tr>\n",
       "      <th>25%</th>\n",
       "      <td>1.000000</td>\n",
       "      <td>99.000000</td>\n",
       "      <td>62.000000</td>\n",
       "      <td>0.000000</td>\n",
       "      <td>0.000000</td>\n",
       "      <td>27.300000</td>\n",
       "      <td>0.243750</td>\n",
       "      <td>24.000000</td>\n",
       "      <td>0.000000</td>\n",
       "    </tr>\n",
       "    <tr>\n",
       "      <th>50%</th>\n",
       "      <td>3.000000</td>\n",
       "      <td>117.000000</td>\n",
       "      <td>72.000000</td>\n",
       "      <td>23.000000</td>\n",
       "      <td>30.500000</td>\n",
       "      <td>32.000000</td>\n",
       "      <td>0.372500</td>\n",
       "      <td>29.000000</td>\n",
       "      <td>0.000000</td>\n",
       "    </tr>\n",
       "    <tr>\n",
       "      <th>75%</th>\n",
       "      <td>6.000000</td>\n",
       "      <td>140.250000</td>\n",
       "      <td>80.000000</td>\n",
       "      <td>32.000000</td>\n",
       "      <td>127.250000</td>\n",
       "      <td>36.600000</td>\n",
       "      <td>0.626250</td>\n",
       "      <td>41.000000</td>\n",
       "      <td>1.000000</td>\n",
       "    </tr>\n",
       "    <tr>\n",
       "      <th>max</th>\n",
       "      <td>17.000000</td>\n",
       "      <td>199.000000</td>\n",
       "      <td>122.000000</td>\n",
       "      <td>99.000000</td>\n",
       "      <td>846.000000</td>\n",
       "      <td>67.100000</td>\n",
       "      <td>2.420000</td>\n",
       "      <td>81.000000</td>\n",
       "      <td>1.000000</td>\n",
       "    </tr>\n",
       "  </tbody>\n",
       "</table>\n",
       "</div>"
      ],
      "text/plain": [
       "       Pregnancies     Glucose  BloodPressure  SkinThickness     Insulin  \\\n",
       "count   768.000000  768.000000     768.000000     768.000000  768.000000   \n",
       "mean      3.845052  120.894531      69.105469      20.536458   79.799479   \n",
       "std       3.369578   31.972618      19.355807      15.952218  115.244002   \n",
       "min       0.000000    0.000000       0.000000       0.000000    0.000000   \n",
       "25%       1.000000   99.000000      62.000000       0.000000    0.000000   \n",
       "50%       3.000000  117.000000      72.000000      23.000000   30.500000   \n",
       "75%       6.000000  140.250000      80.000000      32.000000  127.250000   \n",
       "max      17.000000  199.000000     122.000000      99.000000  846.000000   \n",
       "\n",
       "              BMI  DiabetesPedigreeFunction         Age     Outcome  \n",
       "count  768.000000                768.000000  768.000000  768.000000  \n",
       "mean    31.992578                  0.471876   33.240885    0.348958  \n",
       "std      7.884160                  0.331329   11.760232    0.476951  \n",
       "min      0.000000                  0.078000   21.000000    0.000000  \n",
       "25%     27.300000                  0.243750   24.000000    0.000000  \n",
       "50%     32.000000                  0.372500   29.000000    0.000000  \n",
       "75%     36.600000                  0.626250   41.000000    1.000000  \n",
       "max     67.100000                  2.420000   81.000000    1.000000  "
      ]
     },
     "execution_count": 14,
     "metadata": {},
     "output_type": "execute_result"
    }
   ],
   "source": [
    "df.describe()"
   ]
  },
  {
   "cell_type": "code",
   "execution_count": 15,
   "metadata": {},
   "outputs": [],
   "source": [
    "# let's check all columns correlaton with 'Outcome'"
   ]
  },
  {
   "cell_type": "code",
   "execution_count": 16,
   "metadata": {},
   "outputs": [
    {
     "data": {
      "text/plain": [
       "Pregnancies                 0.221898\n",
       "Glucose                     0.466581\n",
       "BloodPressure               0.065068\n",
       "SkinThickness               0.074752\n",
       "Insulin                     0.130548\n",
       "BMI                         0.292695\n",
       "DiabetesPedigreeFunction    0.173844\n",
       "Age                         0.238356\n",
       "Outcome                     1.000000\n",
       "Name: Outcome, dtype: float64"
      ]
     },
     "execution_count": 16,
     "metadata": {},
     "output_type": "execute_result"
    }
   ],
   "source": [
    "df.corr()['Outcome']"
   ]
  },
  {
   "cell_type": "code",
   "execution_count": 17,
   "metadata": {},
   "outputs": [
    {
     "data": {
      "text/plain": [
       "Pregnancies                 0\n",
       "Glucose                     0\n",
       "BloodPressure               0\n",
       "SkinThickness               0\n",
       "Insulin                     0\n",
       "BMI                         0\n",
       "DiabetesPedigreeFunction    0\n",
       "Age                         0\n",
       "Outcome                     0\n",
       "dtype: int64"
      ]
     },
     "execution_count": 17,
     "metadata": {},
     "output_type": "execute_result"
    }
   ],
   "source": [
    "# let's Check Null values\n",
    "df.isnull().sum()"
   ]
  },
  {
   "cell_type": "code",
   "execution_count": 18,
   "metadata": {},
   "outputs": [],
   "source": [
    "# there is no Null values"
   ]
  },
  {
   "cell_type": "code",
   "execution_count": 19,
   "metadata": {},
   "outputs": [
    {
     "data": {
      "text/plain": [
       "False    768\n",
       "Name: count, dtype: int64"
      ]
     },
     "execution_count": 19,
     "metadata": {},
     "output_type": "execute_result"
    }
   ],
   "source": [
    "df.duplicated().value_counts()"
   ]
  },
  {
   "cell_type": "code",
   "execution_count": 20,
   "metadata": {},
   "outputs": [],
   "source": [
    "# There is no duplicated"
   ]
  },
  {
   "cell_type": "code",
   "execution_count": 21,
   "metadata": {},
   "outputs": [],
   "source": [
    "# let's extract the columns\n",
    "X = df.iloc[:, :-1].values\n",
    "y = df.iloc[:, -1].values"
   ]
  },
  {
   "cell_type": "code",
   "execution_count": 22,
   "metadata": {},
   "outputs": [
    {
     "data": {
      "text/plain": [
       "((768, 8), (768,))"
      ]
     },
     "execution_count": 22,
     "metadata": {},
     "output_type": "execute_result"
    }
   ],
   "source": [
    "X.shape, y.shape"
   ]
  },
  {
   "cell_type": "code",
   "execution_count": 23,
   "metadata": {},
   "outputs": [
    {
     "data": {
      "text/plain": [
       "array([[  6.   , 148.   ,  72.   , ...,  33.6  ,   0.627,  50.   ],\n",
       "       [  1.   ,  85.   ,  66.   , ...,  26.6  ,   0.351,  31.   ],\n",
       "       [  8.   , 183.   ,  64.   , ...,  23.3  ,   0.672,  32.   ],\n",
       "       ...,\n",
       "       [  5.   , 121.   ,  72.   , ...,  26.2  ,   0.245,  30.   ],\n",
       "       [  1.   , 126.   ,  60.   , ...,  30.1  ,   0.349,  47.   ],\n",
       "       [  1.   ,  93.   ,  70.   , ...,  30.4  ,   0.315,  23.   ]])"
      ]
     },
     "execution_count": 23,
     "metadata": {},
     "output_type": "execute_result"
    }
   ],
   "source": [
    "X"
   ]
  },
  {
   "cell_type": "code",
   "execution_count": 24,
   "metadata": {},
   "outputs": [],
   "source": [
    "# let's scaling X data mean feature data"
   ]
  },
  {
   "cell_type": "code",
   "execution_count": 25,
   "metadata": {},
   "outputs": [],
   "source": [
    "scaler = StandardScaler()\n",
    "X = scaler.fit_transform(X)"
   ]
  },
  {
   "cell_type": "code",
   "execution_count": 26,
   "metadata": {},
   "outputs": [
    {
     "data": {
      "text/plain": [
       "array([[ 0.63994726,  0.84832379,  0.14964075, ...,  0.20401277,\n",
       "         0.46849198,  1.4259954 ],\n",
       "       [-0.84488505, -1.12339636, -0.16054575, ..., -0.68442195,\n",
       "        -0.36506078, -0.19067191],\n",
       "       [ 1.23388019,  1.94372388, -0.26394125, ..., -1.10325546,\n",
       "         0.60439732, -0.10558415],\n",
       "       ...,\n",
       "       [ 0.3429808 ,  0.00330087,  0.14964075, ..., -0.73518964,\n",
       "        -0.68519336, -0.27575966],\n",
       "       [-0.84488505,  0.1597866 , -0.47073225, ..., -0.24020459,\n",
       "        -0.37110101,  1.17073215],\n",
       "       [-0.84488505, -0.8730192 ,  0.04624525, ..., -0.20212881,\n",
       "        -0.47378505, -0.87137393]])"
      ]
     },
     "execution_count": 26,
     "metadata": {},
     "output_type": "execute_result"
    }
   ],
   "source": [
    "X"
   ]
  },
  {
   "cell_type": "code",
   "execution_count": 27,
   "metadata": {},
   "outputs": [
    {
     "data": {
      "text/plain": [
       "(768, 8)"
      ]
     },
     "execution_count": 27,
     "metadata": {},
     "output_type": "execute_result"
    }
   ],
   "source": [
    "X.shape"
   ]
  },
  {
   "cell_type": "code",
   "execution_count": 28,
   "metadata": {},
   "outputs": [],
   "source": [
    "# lets' splitting the data"
   ]
  },
  {
   "cell_type": "code",
   "execution_count": 29,
   "metadata": {},
   "outputs": [],
   "source": [
    "X_train, X_test, y_train, y_test = train_test_split(\n",
    "    X, y, test_size=0.2, random_state=1)"
   ]
  },
  {
   "cell_type": "markdown",
   "metadata": {},
   "source": [
    "# Modeling with keras Tuner\n"
   ]
  },
  {
   "cell_type": "code",
   "execution_count": 132,
   "metadata": {},
   "outputs": [],
   "source": [
    "# Normal model witout keras_tuner\n",
    "model = Sequential()\n",
    "\n",
    "model.add(Dense(32, activation='relu', input_dim=8))\n",
    "model.add(Dense(1, activation='sigmoid'))\n",
    "\n",
    "model.compile(optimizer='Adam',\n",
    "              loss='binary_crossentropy', metrics=['accuracy'])"
   ]
  },
  {
   "cell_type": "code",
   "execution_count": 133,
   "metadata": {},
   "outputs": [
    {
     "name": "stdout",
     "output_type": "stream",
     "text": [
      "Epoch 1/10\n",
      "20/20 [==============================] - 2s 19ms/step - loss: 0.6294 - accuracy: 0.6580 - val_loss: 0.6014 - val_accuracy: 0.6948\n",
      "Epoch 2/10\n",
      "20/20 [==============================] - 0s 7ms/step - loss: 0.5850 - accuracy: 0.7166 - val_loss: 0.5640 - val_accuracy: 0.7532\n",
      "Epoch 3/10\n",
      "20/20 [==============================] - 0s 6ms/step - loss: 0.5559 - accuracy: 0.7508 - val_loss: 0.5363 - val_accuracy: 0.7532\n",
      "Epoch 4/10\n",
      "20/20 [==============================] - 0s 7ms/step - loss: 0.5341 - accuracy: 0.7638 - val_loss: 0.5162 - val_accuracy: 0.7662\n",
      "Epoch 5/10\n",
      "20/20 [==============================] - 0s 7ms/step - loss: 0.5185 - accuracy: 0.7606 - val_loss: 0.5015 - val_accuracy: 0.7597\n",
      "Epoch 6/10\n",
      "20/20 [==============================] - 0s 7ms/step - loss: 0.5065 - accuracy: 0.7557 - val_loss: 0.4914 - val_accuracy: 0.7662\n",
      "Epoch 7/10\n",
      "20/20 [==============================] - 0s 6ms/step - loss: 0.4968 - accuracy: 0.7671 - val_loss: 0.4838 - val_accuracy: 0.7727\n",
      "Epoch 8/10\n",
      "20/20 [==============================] - 0s 6ms/step - loss: 0.4890 - accuracy: 0.7655 - val_loss: 0.4776 - val_accuracy: 0.7857\n",
      "Epoch 9/10\n",
      "20/20 [==============================] - 0s 7ms/step - loss: 0.4822 - accuracy: 0.7638 - val_loss: 0.4722 - val_accuracy: 0.7792\n",
      "Epoch 10/10\n",
      "20/20 [==============================] - 0s 7ms/step - loss: 0.4768 - accuracy: 0.7655 - val_loss: 0.4688 - val_accuracy: 0.7857\n"
     ]
    },
    {
     "data": {
      "text/plain": [
       "<keras.src.callbacks.History at 0x1f6d3b0d0f0>"
      ]
     },
     "execution_count": 133,
     "metadata": {},
     "output_type": "execute_result"
    }
   ],
   "source": [
    "model.fit(X_train, y_train, batch_size=32,\n",
    "          epochs=10, validation_data=(X_test, y_test))"
   ]
  },
  {
   "cell_type": "code",
   "execution_count": 134,
   "metadata": {},
   "outputs": [],
   "source": [
    "# val_accuracy: 0.7857"
   ]
  },
  {
   "cell_type": "code",
   "execution_count": 135,
   "metadata": {},
   "outputs": [],
   "source": [
    "# let's build Model with keras_tuner\n",
    "\n",
    "def build_model(hp):\n",
    "    model = Sequential()\n",
    "    model.add(Dense(32, activation='relu', input_dim=8))\n",
    "    model.add(Dense(1, activation='sigmoid'))\n",
    "\n",
    "    optimizer = hp.Choice('optimizer',\n",
    "                          values=['rmsprop', 'adam', 'sgd', 'adadelta'])\n",
    "    model.compile(optimizer=optimizer,\n",
    "                  loss='binary_crossentropy', metrics=['accuracy'])\n",
    "    return model"
   ]
  },
  {
   "cell_type": "code",
   "execution_count": 136,
   "metadata": {},
   "outputs": [],
   "source": [
    "tuner = kt.RandomSearch(\n",
    "    build_model,\n",
    "    objective='val_accuracy',\n",
    "    max_trials=5,\n",
    "    directory='optimizerTuning',\n",
    ")"
   ]
  },
  {
   "cell_type": "code",
   "execution_count": 137,
   "metadata": {},
   "outputs": [
    {
     "name": "stdout",
     "output_type": "stream",
     "text": [
      "Trial 4 Complete [00h 00m 03s]\n",
      "val_accuracy: 0.701298713684082\n",
      "\n",
      "Best val_accuracy So Far: 0.8051947951316833\n",
      "Total elapsed time: 00h 00m 12s\n"
     ]
    }
   ],
   "source": [
    "tuner.search(X_train, y_train, epochs=5,\n",
    "             validation_data=(X_test, y_test))"
   ]
  },
  {
   "cell_type": "code",
   "execution_count": 138,
   "metadata": {},
   "outputs": [
    {
     "data": {
      "text/plain": [
       "{'optimizer': 'adam'}"
      ]
     },
     "execution_count": 138,
     "metadata": {},
     "output_type": "execute_result"
    }
   ],
   "source": [
    "tuner.get_best_hyperparameters()[0].values"
   ]
  },
  {
   "cell_type": "code",
   "execution_count": 139,
   "metadata": {},
   "outputs": [],
   "source": [
    "model = tuner.get_best_models(num_models=1)[0]"
   ]
  },
  {
   "cell_type": "code",
   "execution_count": 140,
   "metadata": {},
   "outputs": [
    {
     "name": "stdout",
     "output_type": "stream",
     "text": [
      "Model: \"sequential\"\n",
      "_________________________________________________________________\n",
      " Layer (type)                Output Shape              Param #   \n",
      "=================================================================\n",
      " dense (Dense)               (None, 32)                288       \n",
      "                                                                 \n",
      " dense_1 (Dense)             (None, 1)                 33        \n",
      "                                                                 \n",
      "=================================================================\n",
      "Total params: 321 (1.25 KB)\n",
      "Trainable params: 321 (1.25 KB)\n",
      "Non-trainable params: 0 (0.00 Byte)\n",
      "_________________________________________________________________\n"
     ]
    }
   ],
   "source": [
    "model.summary()"
   ]
  },
  {
   "cell_type": "code",
   "execution_count": 141,
   "metadata": {},
   "outputs": [
    {
     "name": "stdout",
     "output_type": "stream",
     "text": [
      "Epoch 7/100\n",
      "20/20 [==============================] - 2s 19ms/step - loss: 0.5280 - accuracy: 0.7410 - val_loss: 0.5091 - val_accuracy: 0.8052\n",
      "Epoch 8/100\n",
      "20/20 [==============================] - 0s 7ms/step - loss: 0.5137 - accuracy: 0.7557 - val_loss: 0.5005 - val_accuracy: 0.7987\n",
      "Epoch 9/100\n",
      "20/20 [==============================] - 0s 6ms/step - loss: 0.5039 - accuracy: 0.7541 - val_loss: 0.4922 - val_accuracy: 0.8052\n",
      "Epoch 10/100\n",
      "20/20 [==============================] - 0s 6ms/step - loss: 0.4948 - accuracy: 0.7557 - val_loss: 0.4872 - val_accuracy: 0.8052\n",
      "Epoch 11/100\n",
      "20/20 [==============================] - 0s 6ms/step - loss: 0.4875 - accuracy: 0.7606 - val_loss: 0.4840 - val_accuracy: 0.8117\n",
      "Epoch 12/100\n",
      "20/20 [==============================] - 0s 6ms/step - loss: 0.4815 - accuracy: 0.7638 - val_loss: 0.4809 - val_accuracy: 0.8117\n",
      "Epoch 13/100\n",
      "20/20 [==============================] - 0s 6ms/step - loss: 0.4762 - accuracy: 0.7622 - val_loss: 0.4780 - val_accuracy: 0.8182\n",
      "Epoch 14/100\n",
      "20/20 [==============================] - 0s 6ms/step - loss: 0.4724 - accuracy: 0.7638 - val_loss: 0.4762 - val_accuracy: 0.8182\n",
      "Epoch 15/100\n",
      "20/20 [==============================] - 0s 7ms/step - loss: 0.4688 - accuracy: 0.7671 - val_loss: 0.4740 - val_accuracy: 0.8182\n",
      "Epoch 16/100\n",
      "20/20 [==============================] - 0s 7ms/step - loss: 0.4649 - accuracy: 0.7704 - val_loss: 0.4722 - val_accuracy: 0.8117\n",
      "Epoch 17/100\n",
      "20/20 [==============================] - 0s 6ms/step - loss: 0.4628 - accuracy: 0.7736 - val_loss: 0.4716 - val_accuracy: 0.8182\n",
      "Epoch 18/100\n",
      "20/20 [==============================] - 0s 7ms/step - loss: 0.4610 - accuracy: 0.7752 - val_loss: 0.4705 - val_accuracy: 0.8247\n",
      "Epoch 19/100\n",
      "20/20 [==============================] - 0s 6ms/step - loss: 0.4585 - accuracy: 0.7769 - val_loss: 0.4693 - val_accuracy: 0.8182\n",
      "Epoch 20/100\n",
      "20/20 [==============================] - 0s 13ms/step - loss: 0.4566 - accuracy: 0.7785 - val_loss: 0.4690 - val_accuracy: 0.8182\n",
      "Epoch 21/100\n",
      "20/20 [==============================] - 0s 6ms/step - loss: 0.4548 - accuracy: 0.7769 - val_loss: 0.4694 - val_accuracy: 0.8182\n",
      "Epoch 22/100\n",
      "20/20 [==============================] - 0s 6ms/step - loss: 0.4538 - accuracy: 0.7801 - val_loss: 0.4688 - val_accuracy: 0.8247\n",
      "Epoch 23/100\n",
      "20/20 [==============================] - 0s 6ms/step - loss: 0.4526 - accuracy: 0.7818 - val_loss: 0.4670 - val_accuracy: 0.8247\n",
      "Epoch 24/100\n",
      "20/20 [==============================] - 0s 6ms/step - loss: 0.4511 - accuracy: 0.7769 - val_loss: 0.4668 - val_accuracy: 0.8052\n",
      "Epoch 25/100\n",
      "20/20 [==============================] - 0s 6ms/step - loss: 0.4499 - accuracy: 0.7785 - val_loss: 0.4665 - val_accuracy: 0.7922\n",
      "Epoch 26/100\n",
      "20/20 [==============================] - 0s 6ms/step - loss: 0.4488 - accuracy: 0.7785 - val_loss: 0.4672 - val_accuracy: 0.7922\n",
      "Epoch 27/100\n",
      "20/20 [==============================] - 0s 6ms/step - loss: 0.4482 - accuracy: 0.7769 - val_loss: 0.4673 - val_accuracy: 0.7922\n",
      "Epoch 28/100\n",
      "20/20 [==============================] - 0s 6ms/step - loss: 0.4471 - accuracy: 0.7785 - val_loss: 0.4667 - val_accuracy: 0.7922\n",
      "Epoch 29/100\n",
      "20/20 [==============================] - 0s 6ms/step - loss: 0.4468 - accuracy: 0.7801 - val_loss: 0.4670 - val_accuracy: 0.7922\n",
      "Epoch 30/100\n",
      "20/20 [==============================] - 0s 6ms/step - loss: 0.4464 - accuracy: 0.7785 - val_loss: 0.4670 - val_accuracy: 0.7922\n",
      "Epoch 31/100\n",
      "20/20 [==============================] - 0s 7ms/step - loss: 0.4451 - accuracy: 0.7801 - val_loss: 0.4668 - val_accuracy: 0.7922\n",
      "Epoch 32/100\n",
      "20/20 [==============================] - 0s 13ms/step - loss: 0.4450 - accuracy: 0.7850 - val_loss: 0.4664 - val_accuracy: 0.7987\n",
      "Epoch 33/100\n",
      "20/20 [==============================] - 0s 6ms/step - loss: 0.4436 - accuracy: 0.7834 - val_loss: 0.4663 - val_accuracy: 0.7922\n",
      "Epoch 34/100\n",
      "20/20 [==============================] - 0s 6ms/step - loss: 0.4433 - accuracy: 0.7834 - val_loss: 0.4670 - val_accuracy: 0.7987\n",
      "Epoch 35/100\n",
      "20/20 [==============================] - 0s 6ms/step - loss: 0.4423 - accuracy: 0.7866 - val_loss: 0.4667 - val_accuracy: 0.7922\n",
      "Epoch 36/100\n",
      "20/20 [==============================] - 0s 6ms/step - loss: 0.4418 - accuracy: 0.7850 - val_loss: 0.4674 - val_accuracy: 0.7922\n",
      "Epoch 37/100\n",
      "20/20 [==============================] - 0s 6ms/step - loss: 0.4412 - accuracy: 0.7866 - val_loss: 0.4669 - val_accuracy: 0.7922\n",
      "Epoch 38/100\n",
      "20/20 [==============================] - 0s 12ms/step - loss: 0.4406 - accuracy: 0.7866 - val_loss: 0.4674 - val_accuracy: 0.7922\n",
      "Epoch 39/100\n",
      "20/20 [==============================] - 0s 6ms/step - loss: 0.4404 - accuracy: 0.7850 - val_loss: 0.4689 - val_accuracy: 0.7922\n",
      "Epoch 40/100\n",
      "20/20 [==============================] - 0s 7ms/step - loss: 0.4396 - accuracy: 0.7866 - val_loss: 0.4685 - val_accuracy: 0.7987\n",
      "Epoch 41/100\n",
      "20/20 [==============================] - 0s 7ms/step - loss: 0.4391 - accuracy: 0.7850 - val_loss: 0.4678 - val_accuracy: 0.7922\n",
      "Epoch 42/100\n",
      "20/20 [==============================] - 0s 6ms/step - loss: 0.4383 - accuracy: 0.7818 - val_loss: 0.4674 - val_accuracy: 0.7922\n",
      "Epoch 43/100\n",
      "20/20 [==============================] - 0s 7ms/step - loss: 0.4380 - accuracy: 0.7818 - val_loss: 0.4664 - val_accuracy: 0.7987\n",
      "Epoch 44/100\n",
      "20/20 [==============================] - 0s 6ms/step - loss: 0.4378 - accuracy: 0.7850 - val_loss: 0.4658 - val_accuracy: 0.7922\n",
      "Epoch 45/100\n",
      "20/20 [==============================] - 0s 6ms/step - loss: 0.4372 - accuracy: 0.7883 - val_loss: 0.4665 - val_accuracy: 0.7987\n",
      "Epoch 46/100\n",
      "20/20 [==============================] - 0s 7ms/step - loss: 0.4363 - accuracy: 0.7866 - val_loss: 0.4669 - val_accuracy: 0.7987\n",
      "Epoch 47/100\n",
      "20/20 [==============================] - 0s 7ms/step - loss: 0.4363 - accuracy: 0.7834 - val_loss: 0.4664 - val_accuracy: 0.7987\n",
      "Epoch 48/100\n",
      "20/20 [==============================] - 0s 7ms/step - loss: 0.4358 - accuracy: 0.7866 - val_loss: 0.4665 - val_accuracy: 0.7987\n",
      "Epoch 49/100\n",
      "20/20 [==============================] - 0s 8ms/step - loss: 0.4351 - accuracy: 0.7883 - val_loss: 0.4669 - val_accuracy: 0.7987\n",
      "Epoch 50/100\n",
      "20/20 [==============================] - 0s 9ms/step - loss: 0.4347 - accuracy: 0.7899 - val_loss: 0.4673 - val_accuracy: 0.7922\n",
      "Epoch 51/100\n",
      "20/20 [==============================] - 0s 8ms/step - loss: 0.4340 - accuracy: 0.7899 - val_loss: 0.4671 - val_accuracy: 0.7922\n",
      "Epoch 52/100\n",
      "20/20 [==============================] - 0s 7ms/step - loss: 0.4338 - accuracy: 0.7899 - val_loss: 0.4669 - val_accuracy: 0.7987\n",
      "Epoch 53/100\n",
      "20/20 [==============================] - 0s 6ms/step - loss: 0.4332 - accuracy: 0.7866 - val_loss: 0.4682 - val_accuracy: 0.7987\n",
      "Epoch 54/100\n",
      "20/20 [==============================] - 0s 6ms/step - loss: 0.4328 - accuracy: 0.7866 - val_loss: 0.4686 - val_accuracy: 0.7922\n",
      "Epoch 55/100\n",
      "20/20 [==============================] - 0s 12ms/step - loss: 0.4324 - accuracy: 0.7915 - val_loss: 0.4680 - val_accuracy: 0.7987\n",
      "Epoch 56/100\n",
      "20/20 [==============================] - 0s 7ms/step - loss: 0.4318 - accuracy: 0.7883 - val_loss: 0.4653 - val_accuracy: 0.7987\n",
      "Epoch 57/100\n",
      "20/20 [==============================] - 0s 6ms/step - loss: 0.4320 - accuracy: 0.7850 - val_loss: 0.4646 - val_accuracy: 0.7987\n",
      "Epoch 58/100\n",
      "20/20 [==============================] - 0s 7ms/step - loss: 0.4312 - accuracy: 0.7866 - val_loss: 0.4661 - val_accuracy: 0.7987\n",
      "Epoch 59/100\n",
      "20/20 [==============================] - 0s 6ms/step - loss: 0.4313 - accuracy: 0.7932 - val_loss: 0.4653 - val_accuracy: 0.7987\n",
      "Epoch 60/100\n",
      "20/20 [==============================] - 0s 6ms/step - loss: 0.4303 - accuracy: 0.7932 - val_loss: 0.4655 - val_accuracy: 0.7987\n",
      "Epoch 61/100\n",
      "20/20 [==============================] - 0s 6ms/step - loss: 0.4299 - accuracy: 0.7932 - val_loss: 0.4661 - val_accuracy: 0.7987\n",
      "Epoch 62/100\n",
      "20/20 [==============================] - 0s 6ms/step - loss: 0.4302 - accuracy: 0.7834 - val_loss: 0.4669 - val_accuracy: 0.8052\n",
      "Epoch 63/100\n",
      "20/20 [==============================] - 0s 8ms/step - loss: 0.4290 - accuracy: 0.7834 - val_loss: 0.4655 - val_accuracy: 0.7987\n",
      "Epoch 64/100\n",
      "20/20 [==============================] - 0s 6ms/step - loss: 0.4296 - accuracy: 0.7818 - val_loss: 0.4653 - val_accuracy: 0.8052\n",
      "Epoch 65/100\n",
      "20/20 [==============================] - 0s 6ms/step - loss: 0.4283 - accuracy: 0.7883 - val_loss: 0.4664 - val_accuracy: 0.8052\n",
      "Epoch 66/100\n",
      "20/20 [==============================] - 0s 7ms/step - loss: 0.4277 - accuracy: 0.7883 - val_loss: 0.4657 - val_accuracy: 0.7987\n",
      "Epoch 67/100\n",
      "20/20 [==============================] - 0s 7ms/step - loss: 0.4279 - accuracy: 0.7899 - val_loss: 0.4658 - val_accuracy: 0.8052\n",
      "Epoch 68/100\n",
      "20/20 [==============================] - 0s 7ms/step - loss: 0.4271 - accuracy: 0.7866 - val_loss: 0.4653 - val_accuracy: 0.8052\n",
      "Epoch 69/100\n",
      "20/20 [==============================] - 0s 6ms/step - loss: 0.4269 - accuracy: 0.7932 - val_loss: 0.4648 - val_accuracy: 0.8052\n",
      "Epoch 70/100\n",
      "20/20 [==============================] - 0s 7ms/step - loss: 0.4268 - accuracy: 0.7915 - val_loss: 0.4656 - val_accuracy: 0.7987\n",
      "Epoch 71/100\n",
      "20/20 [==============================] - 0s 12ms/step - loss: 0.4264 - accuracy: 0.7948 - val_loss: 0.4652 - val_accuracy: 0.7987\n",
      "Epoch 72/100\n",
      "20/20 [==============================] - 0s 6ms/step - loss: 0.4259 - accuracy: 0.7915 - val_loss: 0.4639 - val_accuracy: 0.7987\n",
      "Epoch 73/100\n",
      "20/20 [==============================] - 0s 6ms/step - loss: 0.4253 - accuracy: 0.7915 - val_loss: 0.4627 - val_accuracy: 0.8117\n",
      "Epoch 74/100\n",
      "20/20 [==============================] - 0s 6ms/step - loss: 0.4251 - accuracy: 0.7899 - val_loss: 0.4631 - val_accuracy: 0.8117\n",
      "Epoch 75/100\n",
      "20/20 [==============================] - 0s 7ms/step - loss: 0.4250 - accuracy: 0.7915 - val_loss: 0.4645 - val_accuracy: 0.8117\n",
      "Epoch 76/100\n",
      "20/20 [==============================] - 0s 6ms/step - loss: 0.4243 - accuracy: 0.7964 - val_loss: 0.4642 - val_accuracy: 0.8117\n",
      "Epoch 77/100\n",
      "20/20 [==============================] - 0s 7ms/step - loss: 0.4245 - accuracy: 0.7915 - val_loss: 0.4669 - val_accuracy: 0.7987\n",
      "Epoch 78/100\n",
      "20/20 [==============================] - 0s 6ms/step - loss: 0.4242 - accuracy: 0.7915 - val_loss: 0.4652 - val_accuracy: 0.8117\n",
      "Epoch 79/100\n",
      "20/20 [==============================] - 0s 6ms/step - loss: 0.4236 - accuracy: 0.7899 - val_loss: 0.4652 - val_accuracy: 0.8117\n",
      "Epoch 80/100\n",
      "20/20 [==============================] - 0s 6ms/step - loss: 0.4233 - accuracy: 0.7915 - val_loss: 0.4662 - val_accuracy: 0.8117\n",
      "Epoch 81/100\n",
      "20/20 [==============================] - 0s 6ms/step - loss: 0.4232 - accuracy: 0.7899 - val_loss: 0.4661 - val_accuracy: 0.8117\n",
      "Epoch 82/100\n",
      "20/20 [==============================] - 0s 6ms/step - loss: 0.4223 - accuracy: 0.7915 - val_loss: 0.4660 - val_accuracy: 0.8117\n",
      "Epoch 83/100\n",
      "20/20 [==============================] - 0s 6ms/step - loss: 0.4225 - accuracy: 0.7915 - val_loss: 0.4670 - val_accuracy: 0.8182\n",
      "Epoch 84/100\n",
      "20/20 [==============================] - 0s 6ms/step - loss: 0.4225 - accuracy: 0.7915 - val_loss: 0.4672 - val_accuracy: 0.8117\n",
      "Epoch 85/100\n",
      "20/20 [==============================] - 0s 6ms/step - loss: 0.4220 - accuracy: 0.7932 - val_loss: 0.4663 - val_accuracy: 0.8117\n",
      "Epoch 86/100\n",
      "20/20 [==============================] - 0s 6ms/step - loss: 0.4222 - accuracy: 0.7899 - val_loss: 0.4637 - val_accuracy: 0.8117\n",
      "Epoch 87/100\n",
      "20/20 [==============================] - 0s 12ms/step - loss: 0.4216 - accuracy: 0.7899 - val_loss: 0.4644 - val_accuracy: 0.8117\n",
      "Epoch 88/100\n",
      "20/20 [==============================] - 0s 7ms/step - loss: 0.4211 - accuracy: 0.7915 - val_loss: 0.4642 - val_accuracy: 0.8182\n",
      "Epoch 89/100\n",
      "20/20 [==============================] - 0s 6ms/step - loss: 0.4206 - accuracy: 0.7883 - val_loss: 0.4635 - val_accuracy: 0.8117\n",
      "Epoch 90/100\n",
      "20/20 [==============================] - 0s 6ms/step - loss: 0.4212 - accuracy: 0.7850 - val_loss: 0.4637 - val_accuracy: 0.8117\n",
      "Epoch 91/100\n",
      "20/20 [==============================] - 0s 6ms/step - loss: 0.4203 - accuracy: 0.7948 - val_loss: 0.4649 - val_accuracy: 0.8182\n",
      "Epoch 92/100\n",
      "20/20 [==============================] - 0s 6ms/step - loss: 0.4199 - accuracy: 0.7948 - val_loss: 0.4652 - val_accuracy: 0.8182\n",
      "Epoch 93/100\n",
      "20/20 [==============================] - 0s 6ms/step - loss: 0.4193 - accuracy: 0.7948 - val_loss: 0.4664 - val_accuracy: 0.8182\n",
      "Epoch 94/100\n",
      "20/20 [==============================] - 0s 7ms/step - loss: 0.4194 - accuracy: 0.7980 - val_loss: 0.4662 - val_accuracy: 0.8182\n",
      "Epoch 95/100\n",
      "20/20 [==============================] - 0s 7ms/step - loss: 0.4195 - accuracy: 0.7899 - val_loss: 0.4658 - val_accuracy: 0.8182\n",
      "Epoch 96/100\n",
      "20/20 [==============================] - 0s 6ms/step - loss: 0.4190 - accuracy: 0.7948 - val_loss: 0.4641 - val_accuracy: 0.8117\n",
      "Epoch 97/100\n",
      "20/20 [==============================] - 0s 6ms/step - loss: 0.4183 - accuracy: 0.7980 - val_loss: 0.4652 - val_accuracy: 0.8117\n",
      "Epoch 98/100\n",
      "20/20 [==============================] - 0s 6ms/step - loss: 0.4189 - accuracy: 0.7964 - val_loss: 0.4642 - val_accuracy: 0.8117\n",
      "Epoch 99/100\n",
      "20/20 [==============================] - 0s 6ms/step - loss: 0.4177 - accuracy: 0.7932 - val_loss: 0.4668 - val_accuracy: 0.8182\n",
      "Epoch 100/100\n",
      "20/20 [==============================] - 0s 6ms/step - loss: 0.4174 - accuracy: 0.7948 - val_loss: 0.4668 - val_accuracy: 0.8182\n"
     ]
    },
    {
     "data": {
      "text/plain": [
       "<keras.src.callbacks.History at 0x1f6d6e14cd0>"
      ]
     },
     "execution_count": 141,
     "metadata": {},
     "output_type": "execute_result"
    }
   ],
   "source": [
    "model.fit(X_train, y_train, batch_size=32,\n",
    "          epochs=100, initial_epoch=6,\n",
    "          validation_data=(X_test, y_test))"
   ]
  },
  {
   "cell_type": "code",
   "execution_count": 142,
   "metadata": {},
   "outputs": [],
   "source": [
    "# After optimizer tuner val_accuracy: 0.8182"
   ]
  },
  {
   "cell_type": "code",
   "execution_count": 153,
   "metadata": {},
   "outputs": [],
   "source": [
    "# let's tuning neuron\n",
    "def build_model(hp):\n",
    "    model = Sequential()\n",
    "    # Tune the number of units in the first Dense layer\n",
    "    units = hp.Int('units',\n",
    "                   min_value=8, max_value=128, step=8)\n",
    "    model.add(Dense(units=units,\n",
    "                    activation='relu', input_dim=8))\n",
    "    model.add(Dense(1, activation='sigmoid'))\n",
    "\n",
    "    model.compile(optimizer='Adam',\n",
    "                  loss='binary_crossentropy', metrics=['accuracy'])\n",
    "    return model"
   ]
  },
  {
   "cell_type": "code",
   "execution_count": 154,
   "metadata": {},
   "outputs": [],
   "source": [
    "tuner = kt.RandomSearch(\n",
    "    build_model,\n",
    "    objective='val_accuracy',\n",
    "    max_trials=5,\n",
    "    directory='NeuronTuning',\n",
    ")"
   ]
  },
  {
   "cell_type": "code",
   "execution_count": 155,
   "metadata": {},
   "outputs": [
    {
     "name": "stdout",
     "output_type": "stream",
     "text": [
      "Trial 5 Complete [00h 00m 03s]\n",
      "val_accuracy: 0.7272727489471436\n",
      "\n",
      "Best val_accuracy So Far: 0.8051947951316833\n",
      "Total elapsed time: 00h 00m 15s\n"
     ]
    }
   ],
   "source": [
    "tuner.search(X_train, y_train, epochs=5,\n",
    "             validation_data=(X_test, y_test))"
   ]
  },
  {
   "cell_type": "code",
   "execution_count": 156,
   "metadata": {},
   "outputs": [
    {
     "data": {
      "text/plain": [
       "{'units': 104}"
      ]
     },
     "execution_count": 156,
     "metadata": {},
     "output_type": "execute_result"
    }
   ],
   "source": [
    "tuner.get_best_hyperparameters()[0].values"
   ]
  },
  {
   "cell_type": "code",
   "execution_count": 157,
   "metadata": {},
   "outputs": [],
   "source": [
    "model = tuner.get_best_models(num_models=1)[0]"
   ]
  },
  {
   "cell_type": "code",
   "execution_count": 158,
   "metadata": {},
   "outputs": [
    {
     "name": "stdout",
     "output_type": "stream",
     "text": [
      "Model: \"sequential\"\n",
      "_________________________________________________________________\n",
      " Layer (type)                Output Shape              Param #   \n",
      "=================================================================\n",
      " dense (Dense)               (None, 104)               936       \n",
      "                                                                 \n",
      " dense_1 (Dense)             (None, 1)                 105       \n",
      "                                                                 \n",
      "=================================================================\n",
      "Total params: 1041 (4.07 KB)\n",
      "Trainable params: 1041 (4.07 KB)\n",
      "Non-trainable params: 0 (0.00 Byte)\n",
      "_________________________________________________________________\n"
     ]
    }
   ],
   "source": [
    "model.summary()"
   ]
  },
  {
   "cell_type": "code",
   "execution_count": 161,
   "metadata": {},
   "outputs": [
    {
     "name": "stdout",
     "output_type": "stream",
     "text": [
      "Epoch 7/100\n",
      "20/20 [==============================] - 0s 18ms/step - loss: 0.3518 - accuracy: 0.8404 - val_loss: 0.4659 - val_accuracy: 0.8117\n",
      "Epoch 8/100\n",
      "20/20 [==============================] - 0s 10ms/step - loss: 0.3499 - accuracy: 0.8404 - val_loss: 0.4658 - val_accuracy: 0.8052\n",
      "Epoch 9/100\n",
      "20/20 [==============================] - 0s 14ms/step - loss: 0.3510 - accuracy: 0.8388 - val_loss: 0.4634 - val_accuracy: 0.8117\n",
      "Epoch 10/100\n",
      "20/20 [==============================] - 0s 8ms/step - loss: 0.3490 - accuracy: 0.8420 - val_loss: 0.4624 - val_accuracy: 0.8182\n",
      "Epoch 11/100\n",
      "20/20 [==============================] - 0s 7ms/step - loss: 0.3488 - accuracy: 0.8453 - val_loss: 0.4660 - val_accuracy: 0.8182\n",
      "Epoch 12/100\n",
      "20/20 [==============================] - 0s 6ms/step - loss: 0.3484 - accuracy: 0.8485 - val_loss: 0.4674 - val_accuracy: 0.8117\n",
      "Epoch 13/100\n",
      "20/20 [==============================] - 0s 6ms/step - loss: 0.3504 - accuracy: 0.8453 - val_loss: 0.4614 - val_accuracy: 0.8117\n",
      "Epoch 14/100\n",
      "20/20 [==============================] - 0s 6ms/step - loss: 0.3485 - accuracy: 0.8453 - val_loss: 0.4630 - val_accuracy: 0.8182\n",
      "Epoch 15/100\n",
      "20/20 [==============================] - 0s 6ms/step - loss: 0.3483 - accuracy: 0.8485 - val_loss: 0.4619 - val_accuracy: 0.8182\n",
      "Epoch 16/100\n",
      "20/20 [==============================] - 0s 7ms/step - loss: 0.3468 - accuracy: 0.8453 - val_loss: 0.4656 - val_accuracy: 0.8117\n",
      "Epoch 17/100\n",
      "20/20 [==============================] - 0s 6ms/step - loss: 0.3465 - accuracy: 0.8404 - val_loss: 0.4617 - val_accuracy: 0.8117\n",
      "Epoch 18/100\n",
      "20/20 [==============================] - 0s 6ms/step - loss: 0.3455 - accuracy: 0.8404 - val_loss: 0.4638 - val_accuracy: 0.8182\n",
      "Epoch 19/100\n",
      "20/20 [==============================] - 0s 6ms/step - loss: 0.3451 - accuracy: 0.8388 - val_loss: 0.4640 - val_accuracy: 0.8182\n",
      "Epoch 20/100\n",
      "20/20 [==============================] - 0s 6ms/step - loss: 0.3444 - accuracy: 0.8453 - val_loss: 0.4662 - val_accuracy: 0.8182\n",
      "Epoch 21/100\n",
      "20/20 [==============================] - 0s 6ms/step - loss: 0.3444 - accuracy: 0.8420 - val_loss: 0.4660 - val_accuracy: 0.8117\n",
      "Epoch 22/100\n",
      "20/20 [==============================] - 0s 7ms/step - loss: 0.3446 - accuracy: 0.8436 - val_loss: 0.4634 - val_accuracy: 0.8117\n",
      "Epoch 23/100\n",
      "20/20 [==============================] - 0s 6ms/step - loss: 0.3457 - accuracy: 0.8420 - val_loss: 0.4633 - val_accuracy: 0.8117\n",
      "Epoch 24/100\n",
      "20/20 [==============================] - 0s 7ms/step - loss: 0.3450 - accuracy: 0.8436 - val_loss: 0.4665 - val_accuracy: 0.8117\n",
      "Epoch 25/100\n",
      "20/20 [==============================] - 0s 6ms/step - loss: 0.3427 - accuracy: 0.8453 - val_loss: 0.4637 - val_accuracy: 0.8117\n",
      "Epoch 26/100\n",
      "20/20 [==============================] - 0s 6ms/step - loss: 0.3417 - accuracy: 0.8420 - val_loss: 0.4677 - val_accuracy: 0.8117\n",
      "Epoch 27/100\n",
      "20/20 [==============================] - 0s 6ms/step - loss: 0.3418 - accuracy: 0.8469 - val_loss: 0.4611 - val_accuracy: 0.8117\n",
      "Epoch 28/100\n",
      "20/20 [==============================] - 0s 6ms/step - loss: 0.3426 - accuracy: 0.8469 - val_loss: 0.4637 - val_accuracy: 0.8117\n",
      "Epoch 29/100\n",
      "20/20 [==============================] - 0s 13ms/step - loss: 0.3429 - accuracy: 0.8518 - val_loss: 0.4632 - val_accuracy: 0.8117\n",
      "Epoch 30/100\n",
      "20/20 [==============================] - 0s 6ms/step - loss: 0.3417 - accuracy: 0.8485 - val_loss: 0.4652 - val_accuracy: 0.8052\n",
      "Epoch 31/100\n",
      "20/20 [==============================] - 0s 7ms/step - loss: 0.3407 - accuracy: 0.8453 - val_loss: 0.4662 - val_accuracy: 0.8117\n",
      "Epoch 32/100\n",
      "20/20 [==============================] - 0s 6ms/step - loss: 0.3404 - accuracy: 0.8502 - val_loss: 0.4633 - val_accuracy: 0.8117\n",
      "Epoch 33/100\n",
      "20/20 [==============================] - 0s 6ms/step - loss: 0.3407 - accuracy: 0.8502 - val_loss: 0.4686 - val_accuracy: 0.8117\n",
      "Epoch 34/100\n",
      "20/20 [==============================] - 0s 6ms/step - loss: 0.3403 - accuracy: 0.8534 - val_loss: 0.4689 - val_accuracy: 0.8182\n",
      "Epoch 35/100\n",
      "20/20 [==============================] - 0s 6ms/step - loss: 0.3380 - accuracy: 0.8502 - val_loss: 0.4671 - val_accuracy: 0.8182\n",
      "Epoch 36/100\n",
      "20/20 [==============================] - 0s 6ms/step - loss: 0.3405 - accuracy: 0.8453 - val_loss: 0.4707 - val_accuracy: 0.8117\n",
      "Epoch 37/100\n",
      "20/20 [==============================] - 0s 7ms/step - loss: 0.3384 - accuracy: 0.8502 - val_loss: 0.4691 - val_accuracy: 0.8182\n",
      "Epoch 38/100\n",
      "20/20 [==============================] - 0s 6ms/step - loss: 0.3373 - accuracy: 0.8502 - val_loss: 0.4653 - val_accuracy: 0.8182\n",
      "Epoch 39/100\n",
      "20/20 [==============================] - 0s 6ms/step - loss: 0.3379 - accuracy: 0.8518 - val_loss: 0.4664 - val_accuracy: 0.8117\n",
      "Epoch 40/100\n",
      "20/20 [==============================] - 0s 6ms/step - loss: 0.3366 - accuracy: 0.8469 - val_loss: 0.4624 - val_accuracy: 0.8117\n",
      "Epoch 41/100\n",
      "20/20 [==============================] - 0s 6ms/step - loss: 0.3366 - accuracy: 0.8518 - val_loss: 0.4626 - val_accuracy: 0.8117\n",
      "Epoch 42/100\n",
      "20/20 [==============================] - 0s 6ms/step - loss: 0.3353 - accuracy: 0.8550 - val_loss: 0.4662 - val_accuracy: 0.8182\n",
      "Epoch 43/100\n",
      "20/20 [==============================] - 0s 7ms/step - loss: 0.3349 - accuracy: 0.8550 - val_loss: 0.4680 - val_accuracy: 0.8182\n",
      "Epoch 44/100\n",
      "20/20 [==============================] - 0s 7ms/step - loss: 0.3351 - accuracy: 0.8534 - val_loss: 0.4710 - val_accuracy: 0.8182\n",
      "Epoch 45/100\n",
      "20/20 [==============================] - 0s 6ms/step - loss: 0.3345 - accuracy: 0.8534 - val_loss: 0.4708 - val_accuracy: 0.8247\n",
      "Epoch 46/100\n",
      "20/20 [==============================] - 0s 7ms/step - loss: 0.3370 - accuracy: 0.8534 - val_loss: 0.4777 - val_accuracy: 0.8182\n",
      "Epoch 47/100\n",
      "20/20 [==============================] - 0s 6ms/step - loss: 0.3355 - accuracy: 0.8567 - val_loss: 0.4710 - val_accuracy: 0.8182\n",
      "Epoch 48/100\n",
      "20/20 [==============================] - 0s 12ms/step - loss: 0.3337 - accuracy: 0.8567 - val_loss: 0.4708 - val_accuracy: 0.8117\n",
      "Epoch 49/100\n",
      "20/20 [==============================] - 0s 7ms/step - loss: 0.3351 - accuracy: 0.8550 - val_loss: 0.4723 - val_accuracy: 0.8182\n",
      "Epoch 50/100\n",
      "20/20 [==============================] - 0s 7ms/step - loss: 0.3370 - accuracy: 0.8518 - val_loss: 0.4784 - val_accuracy: 0.8182\n",
      "Epoch 51/100\n",
      "20/20 [==============================] - 0s 7ms/step - loss: 0.3329 - accuracy: 0.8550 - val_loss: 0.4705 - val_accuracy: 0.8247\n",
      "Epoch 52/100\n",
      "20/20 [==============================] - 0s 7ms/step - loss: 0.3322 - accuracy: 0.8518 - val_loss: 0.4757 - val_accuracy: 0.8182\n",
      "Epoch 53/100\n",
      "20/20 [==============================] - 0s 6ms/step - loss: 0.3340 - accuracy: 0.8567 - val_loss: 0.4708 - val_accuracy: 0.8117\n",
      "Epoch 54/100\n",
      "20/20 [==============================] - 0s 6ms/step - loss: 0.3321 - accuracy: 0.8567 - val_loss: 0.4721 - val_accuracy: 0.8182\n",
      "Epoch 55/100\n",
      "20/20 [==============================] - 0s 7ms/step - loss: 0.3307 - accuracy: 0.8534 - val_loss: 0.4716 - val_accuracy: 0.8117\n",
      "Epoch 56/100\n",
      "20/20 [==============================] - 0s 8ms/step - loss: 0.3306 - accuracy: 0.8567 - val_loss: 0.4753 - val_accuracy: 0.8247\n",
      "Epoch 57/100\n",
      "20/20 [==============================] - 0s 6ms/step - loss: 0.3292 - accuracy: 0.8599 - val_loss: 0.4741 - val_accuracy: 0.8182\n",
      "Epoch 58/100\n",
      "20/20 [==============================] - 0s 6ms/step - loss: 0.3309 - accuracy: 0.8567 - val_loss: 0.4729 - val_accuracy: 0.8247\n",
      "Epoch 59/100\n",
      "20/20 [==============================] - 0s 7ms/step - loss: 0.3302 - accuracy: 0.8599 - val_loss: 0.4756 - val_accuracy: 0.8182\n",
      "Epoch 60/100\n",
      "20/20 [==============================] - 0s 7ms/step - loss: 0.3294 - accuracy: 0.8599 - val_loss: 0.4723 - val_accuracy: 0.8247\n",
      "Epoch 61/100\n",
      "20/20 [==============================] - 0s 6ms/step - loss: 0.3289 - accuracy: 0.8567 - val_loss: 0.4765 - val_accuracy: 0.8247\n",
      "Epoch 62/100\n",
      "20/20 [==============================] - 0s 6ms/step - loss: 0.3282 - accuracy: 0.8616 - val_loss: 0.4717 - val_accuracy: 0.8247\n",
      "Epoch 63/100\n",
      "20/20 [==============================] - 0s 6ms/step - loss: 0.3297 - accuracy: 0.8583 - val_loss: 0.4737 - val_accuracy: 0.8247\n",
      "Epoch 64/100\n",
      "20/20 [==============================] - 0s 7ms/step - loss: 0.3279 - accuracy: 0.8567 - val_loss: 0.4762 - val_accuracy: 0.8247\n",
      "Epoch 65/100\n",
      "20/20 [==============================] - 0s 6ms/step - loss: 0.3269 - accuracy: 0.8648 - val_loss: 0.4768 - val_accuracy: 0.8117\n",
      "Epoch 66/100\n",
      "20/20 [==============================] - 0s 12ms/step - loss: 0.3267 - accuracy: 0.8550 - val_loss: 0.4786 - val_accuracy: 0.8182\n",
      "Epoch 67/100\n",
      "20/20 [==============================] - 0s 7ms/step - loss: 0.3260 - accuracy: 0.8567 - val_loss: 0.4759 - val_accuracy: 0.8247\n",
      "Epoch 68/100\n",
      "20/20 [==============================] - 0s 6ms/step - loss: 0.3261 - accuracy: 0.8583 - val_loss: 0.4776 - val_accuracy: 0.8247\n",
      "Epoch 69/100\n",
      "20/20 [==============================] - 0s 7ms/step - loss: 0.3257 - accuracy: 0.8567 - val_loss: 0.4733 - val_accuracy: 0.8247\n",
      "Epoch 70/100\n",
      "20/20 [==============================] - 0s 6ms/step - loss: 0.3244 - accuracy: 0.8583 - val_loss: 0.4753 - val_accuracy: 0.8247\n",
      "Epoch 71/100\n",
      "20/20 [==============================] - 0s 6ms/step - loss: 0.3255 - accuracy: 0.8632 - val_loss: 0.4774 - val_accuracy: 0.8247\n",
      "Epoch 72/100\n",
      "20/20 [==============================] - 0s 7ms/step - loss: 0.3240 - accuracy: 0.8616 - val_loss: 0.4791 - val_accuracy: 0.8247\n",
      "Epoch 73/100\n",
      "20/20 [==============================] - 0s 7ms/step - loss: 0.3237 - accuracy: 0.8648 - val_loss: 0.4764 - val_accuracy: 0.8247\n",
      "Epoch 74/100\n",
      "20/20 [==============================] - 0s 7ms/step - loss: 0.3240 - accuracy: 0.8518 - val_loss: 0.4753 - val_accuracy: 0.8117\n",
      "Epoch 75/100\n",
      "20/20 [==============================] - 0s 7ms/step - loss: 0.3246 - accuracy: 0.8713 - val_loss: 0.4857 - val_accuracy: 0.8052\n",
      "Epoch 76/100\n",
      "20/20 [==============================] - 0s 7ms/step - loss: 0.3234 - accuracy: 0.8616 - val_loss: 0.4758 - val_accuracy: 0.8182\n",
      "Epoch 77/100\n",
      "20/20 [==============================] - 0s 6ms/step - loss: 0.3227 - accuracy: 0.8616 - val_loss: 0.4767 - val_accuracy: 0.8247\n",
      "Epoch 78/100\n",
      "20/20 [==============================] - 0s 7ms/step - loss: 0.3221 - accuracy: 0.8648 - val_loss: 0.4803 - val_accuracy: 0.8182\n",
      "Epoch 79/100\n",
      "20/20 [==============================] - 0s 6ms/step - loss: 0.3204 - accuracy: 0.8681 - val_loss: 0.4777 - val_accuracy: 0.8247\n",
      "Epoch 80/100\n",
      "20/20 [==============================] - 0s 6ms/step - loss: 0.3220 - accuracy: 0.8648 - val_loss: 0.4777 - val_accuracy: 0.8182\n",
      "Epoch 81/100\n",
      "20/20 [==============================] - 0s 6ms/step - loss: 0.3202 - accuracy: 0.8616 - val_loss: 0.4771 - val_accuracy: 0.8247\n",
      "Epoch 82/100\n",
      "20/20 [==============================] - 0s 6ms/step - loss: 0.3218 - accuracy: 0.8599 - val_loss: 0.4751 - val_accuracy: 0.8117\n",
      "Epoch 83/100\n",
      "20/20 [==============================] - 0s 6ms/step - loss: 0.3211 - accuracy: 0.8632 - val_loss: 0.4803 - val_accuracy: 0.8117\n",
      "Epoch 84/100\n",
      "20/20 [==============================] - 0s 6ms/step - loss: 0.3209 - accuracy: 0.8681 - val_loss: 0.4788 - val_accuracy: 0.8247\n",
      "Epoch 85/100\n",
      "20/20 [==============================] - 0s 12ms/step - loss: 0.3196 - accuracy: 0.8616 - val_loss: 0.4747 - val_accuracy: 0.8247\n",
      "Epoch 86/100\n",
      "20/20 [==============================] - 0s 7ms/step - loss: 0.3184 - accuracy: 0.8697 - val_loss: 0.4786 - val_accuracy: 0.8247\n",
      "Epoch 87/100\n",
      "20/20 [==============================] - 0s 7ms/step - loss: 0.3177 - accuracy: 0.8664 - val_loss: 0.4742 - val_accuracy: 0.8247\n",
      "Epoch 88/100\n",
      "20/20 [==============================] - 0s 6ms/step - loss: 0.3179 - accuracy: 0.8632 - val_loss: 0.4802 - val_accuracy: 0.8247\n",
      "Epoch 89/100\n",
      "20/20 [==============================] - 0s 6ms/step - loss: 0.3171 - accuracy: 0.8632 - val_loss: 0.4768 - val_accuracy: 0.8247\n",
      "Epoch 90/100\n",
      "20/20 [==============================] - 0s 6ms/step - loss: 0.3178 - accuracy: 0.8664 - val_loss: 0.4763 - val_accuracy: 0.8247\n",
      "Epoch 91/100\n",
      "20/20 [==============================] - 0s 6ms/step - loss: 0.3166 - accuracy: 0.8648 - val_loss: 0.4802 - val_accuracy: 0.8247\n",
      "Epoch 92/100\n",
      "20/20 [==============================] - 0s 6ms/step - loss: 0.3162 - accuracy: 0.8648 - val_loss: 0.4784 - val_accuracy: 0.8247\n",
      "Epoch 93/100\n",
      "20/20 [==============================] - 0s 6ms/step - loss: 0.3156 - accuracy: 0.8599 - val_loss: 0.4745 - val_accuracy: 0.8247\n",
      "Epoch 94/100\n",
      "20/20 [==============================] - 0s 7ms/step - loss: 0.3149 - accuracy: 0.8664 - val_loss: 0.4840 - val_accuracy: 0.8247\n",
      "Epoch 95/100\n",
      "20/20 [==============================] - 0s 6ms/step - loss: 0.3163 - accuracy: 0.8632 - val_loss: 0.4821 - val_accuracy: 0.8247\n",
      "Epoch 96/100\n",
      "20/20 [==============================] - 0s 7ms/step - loss: 0.3157 - accuracy: 0.8632 - val_loss: 0.4811 - val_accuracy: 0.8247\n",
      "Epoch 97/100\n",
      "20/20 [==============================] - 0s 7ms/step - loss: 0.3162 - accuracy: 0.8632 - val_loss: 0.4808 - val_accuracy: 0.8247\n",
      "Epoch 98/100\n",
      "20/20 [==============================] - 0s 6ms/step - loss: 0.3128 - accuracy: 0.8664 - val_loss: 0.4799 - val_accuracy: 0.8247\n",
      "Epoch 99/100\n",
      "20/20 [==============================] - 0s 6ms/step - loss: 0.3126 - accuracy: 0.8648 - val_loss: 0.4820 - val_accuracy: 0.8247\n",
      "Epoch 100/100\n",
      "20/20 [==============================] - 0s 13ms/step - loss: 0.3129 - accuracy: 0.8681 - val_loss: 0.4854 - val_accuracy: 0.8247\n"
     ]
    },
    {
     "data": {
      "text/plain": [
       "<keras.src.callbacks.History at 0x1f6d9590d00>"
      ]
     },
     "execution_count": 161,
     "metadata": {},
     "output_type": "execute_result"
    }
   ],
   "source": [
    "model.fit(X_train, y_train, batch_size=32,\n",
    "          epochs=100, initial_epoch=6,\n",
    "          validation_data=(X_test, y_test))"
   ]
  },
  {
   "cell_type": "code",
   "execution_count": 162,
   "metadata": {},
   "outputs": [],
   "source": [
    "# after neuron tuning it's improved have a look: val_accuracy: 0.8247"
   ]
  },
  {
   "cell_type": "markdown",
   "metadata": {},
   "source": [
    "### Let's Tuning All Togather\n"
   ]
  },
  {
   "cell_type": "code",
   "execution_count": 48,
   "metadata": {},
   "outputs": [],
   "source": [
    "def build_model(hp):\n",
    "    model = keras.Sequential()\n",
    "\n",
    "    for i in range(hp.Int('num_layers', 1, 10)):\n",
    "        model.add(keras.layers.Dense(units=hp.Int('units_' + str(i),\n",
    "                                                  min_value=8,\n",
    "                                                  max_value=128,\n",
    "                                                  step=8),\n",
    "                                     activation=hp.Choice('activation_' + str(i),\n",
    "                                                          values=['relu', 'tanh', 'sigmoid']),\n",
    "                                     input_dim=8))\n",
    "        # model.add(keras.layers.Dropout(hp.Choice('Dropout' + str(i),\n",
    "                                                #  values=[0.1,0.2,0.3,0.4,0.5,0.6,0.7,0.8,0.9])))\n",
    "    model.add(keras.layers.Dense(1, activation='sigmoid'))\n",
    "    \n",
    "    model.compile(\n",
    "        optimizer=(hp.Choice('optimizer',\n",
    "                             values=['sgd', 'rmsprop', 'adam', 'nadam', 'adadelta'])),\n",
    "        loss='binary_crossentropy',\n",
    "        metrics=['accuracy'])\n",
    "    return model"
   ]
  },
  {
   "cell_type": "code",
   "execution_count": 49,
   "metadata": {},
   "outputs": [],
   "source": [
    "tuner = kt.RandomSearch(\n",
    "    build_model,\n",
    "    objective='val_accuracy',\n",
    "    max_trials=3,\n",
    "    directory='FinalTune',\n",
    "    project_name='Final_Tune'\n",
    ")"
   ]
  },
  {
   "cell_type": "code",
   "execution_count": 50,
   "metadata": {},
   "outputs": [
    {
     "name": "stdout",
     "output_type": "stream",
     "text": [
      "Trial 3 Complete [00h 00m 05s]\n",
      "val_accuracy: 0.8116883039474487\n",
      "\n",
      "Best val_accuracy So Far: 0.8116883039474487\n",
      "Total elapsed time: 00h 00m 13s\n"
     ]
    }
   ],
   "source": [
    "tuner.search(X_train, y_train, epochs=5,\n",
    "             validation_data=(X_test, y_test))"
   ]
  },
  {
   "cell_type": "code",
   "execution_count": 51,
   "metadata": {},
   "outputs": [
    {
     "data": {
      "text/plain": [
       "{'num_layers': 6,\n",
       " 'units_0': 88,\n",
       " 'activation_0': 'relu',\n",
       " 'optimizer': 'adam',\n",
       " 'units_1': 80,\n",
       " 'activation_1': 'relu',\n",
       " 'units_2': 128,\n",
       " 'activation_2': 'relu',\n",
       " 'units_3': 32,\n",
       " 'activation_3': 'relu',\n",
       " 'units_4': 120,\n",
       " 'activation_4': 'sigmoid',\n",
       " 'units_5': 24,\n",
       " 'activation_5': 'tanh',\n",
       " 'units_6': 80,\n",
       " 'activation_6': 'tanh',\n",
       " 'units_7': 120,\n",
       " 'activation_7': 'sigmoid'}"
      ]
     },
     "execution_count": 51,
     "metadata": {},
     "output_type": "execute_result"
    }
   ],
   "source": [
    "tuner.get_best_hyperparameters()[0].values"
   ]
  },
  {
   "cell_type": "code",
   "execution_count": 52,
   "metadata": {},
   "outputs": [],
   "source": [
    "model = tuner.get_best_models(num_models=1)[0]"
   ]
  },
  {
   "cell_type": "code",
   "execution_count": 53,
   "metadata": {},
   "outputs": [
    {
     "name": "stdout",
     "output_type": "stream",
     "text": [
      "Model: \"sequential\"\n",
      "_________________________________________________________________\n",
      " Layer (type)                Output Shape              Param #   \n",
      "=================================================================\n",
      " dense (Dense)               (None, 88)                792       \n",
      "                                                                 \n",
      " dense_1 (Dense)             (None, 80)                7120      \n",
      "                                                                 \n",
      " dense_2 (Dense)             (None, 128)               10368     \n",
      "                                                                 \n",
      " dense_3 (Dense)             (None, 32)                4128      \n",
      "                                                                 \n",
      " dense_4 (Dense)             (None, 120)               3960      \n",
      "                                                                 \n",
      " dense_5 (Dense)             (None, 24)                2904      \n",
      "                                                                 \n",
      " dense_6 (Dense)             (None, 1)                 25        \n",
      "                                                                 \n",
      "=================================================================\n",
      "Total params: 29297 (114.44 KB)\n",
      "Trainable params: 29297 (114.44 KB)\n",
      "Non-trainable params: 0 (0.00 Byte)\n",
      "_________________________________________________________________\n"
     ]
    }
   ],
   "source": [
    "model.summary()"
   ]
  },
  {
   "cell_type": "code",
   "execution_count": 56,
   "metadata": {},
   "outputs": [
    {
     "name": "stdout",
     "output_type": "stream",
     "text": [
      "Epoch 7/200\n",
      "20/20 [==============================] - 1s 25ms/step - loss: 0.0489 - accuracy: 0.9886 - val_loss: 1.0252 - val_accuracy: 0.7468\n",
      "Epoch 8/200\n",
      "20/20 [==============================] - 0s 10ms/step - loss: 0.0470 - accuracy: 0.9886 - val_loss: 1.0380 - val_accuracy: 0.7468\n",
      "Epoch 9/200\n",
      "20/20 [==============================] - 0s 9ms/step - loss: 0.0457 - accuracy: 0.9886 - val_loss: 1.0512 - val_accuracy: 0.7468\n",
      "Epoch 10/200\n",
      "20/20 [==============================] - 0s 9ms/step - loss: 0.0437 - accuracy: 0.9886 - val_loss: 1.0977 - val_accuracy: 0.7532\n",
      "Epoch 11/200\n",
      "20/20 [==============================] - 0s 8ms/step - loss: 0.0401 - accuracy: 0.9886 - val_loss: 1.1768 - val_accuracy: 0.7403\n",
      "Epoch 12/200\n",
      "20/20 [==============================] - 0s 7ms/step - loss: 0.0368 - accuracy: 0.9886 - val_loss: 1.2331 - val_accuracy: 0.7403\n",
      "Epoch 13/200\n",
      "20/20 [==============================] - 0s 8ms/step - loss: 0.0345 - accuracy: 0.9886 - val_loss: 1.2677 - val_accuracy: 0.7403\n",
      "Epoch 14/200\n",
      "20/20 [==============================] - 0s 8ms/step - loss: 0.0328 - accuracy: 0.9886 - val_loss: 1.3009 - val_accuracy: 0.7403\n",
      "Epoch 15/200\n",
      "20/20 [==============================] - 0s 8ms/step - loss: 0.0311 - accuracy: 0.9886 - val_loss: 1.3209 - val_accuracy: 0.7403\n",
      "Epoch 16/200\n",
      "20/20 [==============================] - 0s 8ms/step - loss: 0.0298 - accuracy: 0.9886 - val_loss: 1.3387 - val_accuracy: 0.7403\n",
      "Epoch 17/200\n",
      "20/20 [==============================] - 0s 8ms/step - loss: 0.0304 - accuracy: 0.9886 - val_loss: 1.3389 - val_accuracy: 0.7468\n",
      "Epoch 18/200\n",
      "20/20 [==============================] - 0s 8ms/step - loss: 0.0278 - accuracy: 0.9886 - val_loss: 1.3619 - val_accuracy: 0.7338\n",
      "Epoch 19/200\n",
      "20/20 [==============================] - 0s 8ms/step - loss: 0.0253 - accuracy: 0.9886 - val_loss: 1.3826 - val_accuracy: 0.7208\n",
      "Epoch 20/200\n",
      "20/20 [==============================] - 0s 8ms/step - loss: 0.0238 - accuracy: 0.9886 - val_loss: 1.4010 - val_accuracy: 0.7208\n",
      "Epoch 21/200\n",
      "20/20 [==============================] - 0s 8ms/step - loss: 0.0225 - accuracy: 0.9886 - val_loss: 1.4140 - val_accuracy: 0.7273\n",
      "Epoch 22/200\n",
      "20/20 [==============================] - 0s 8ms/step - loss: 0.0218 - accuracy: 0.9886 - val_loss: 1.4081 - val_accuracy: 0.7338\n",
      "Epoch 23/200\n",
      "20/20 [==============================] - 0s 14ms/step - loss: 0.0206 - accuracy: 0.9886 - val_loss: 1.3876 - val_accuracy: 0.7273\n",
      "Epoch 24/200\n",
      "20/20 [==============================] - 0s 8ms/step - loss: 0.0204 - accuracy: 0.9886 - val_loss: 1.4656 - val_accuracy: 0.7208\n",
      "Epoch 25/200\n",
      "20/20 [==============================] - 0s 8ms/step - loss: 0.0216 - accuracy: 0.9886 - val_loss: 1.3826 - val_accuracy: 0.7338\n",
      "Epoch 26/200\n",
      "20/20 [==============================] - 0s 9ms/step - loss: 0.0179 - accuracy: 0.9886 - val_loss: 1.4496 - val_accuracy: 0.7273\n",
      "Epoch 27/200\n",
      "20/20 [==============================] - 0s 8ms/step - loss: 0.0260 - accuracy: 0.9886 - val_loss: 1.4545 - val_accuracy: 0.7403\n",
      "Epoch 28/200\n",
      "20/20 [==============================] - 0s 8ms/step - loss: 0.0194 - accuracy: 0.9886 - val_loss: 1.3742 - val_accuracy: 0.7403\n",
      "Epoch 29/200\n",
      "20/20 [==============================] - 0s 8ms/step - loss: 0.0199 - accuracy: 0.9886 - val_loss: 1.3991 - val_accuracy: 0.7338\n",
      "Epoch 30/200\n",
      "20/20 [==============================] - 0s 7ms/step - loss: 0.0244 - accuracy: 0.9886 - val_loss: 1.4389 - val_accuracy: 0.7208\n",
      "Epoch 31/200\n",
      "20/20 [==============================] - 0s 7ms/step - loss: 0.0723 - accuracy: 0.9772 - val_loss: 1.3000 - val_accuracy: 0.7468\n",
      "Epoch 32/200\n",
      "20/20 [==============================] - 0s 8ms/step - loss: 0.1740 - accuracy: 0.9463 - val_loss: 0.9479 - val_accuracy: 0.7792\n",
      "Epoch 33/200\n",
      "20/20 [==============================] - 0s 8ms/step - loss: 0.1808 - accuracy: 0.9349 - val_loss: 0.8041 - val_accuracy: 0.7403\n",
      "Epoch 34/200\n",
      "20/20 [==============================] - 0s 8ms/step - loss: 0.1803 - accuracy: 0.9316 - val_loss: 0.7962 - val_accuracy: 0.7597\n",
      "Epoch 35/200\n",
      "20/20 [==============================] - 0s 8ms/step - loss: 0.1076 - accuracy: 0.9593 - val_loss: 0.9952 - val_accuracy: 0.7338\n",
      "Epoch 36/200\n",
      "20/20 [==============================] - 0s 8ms/step - loss: 0.0958 - accuracy: 0.9642 - val_loss: 0.9226 - val_accuracy: 0.7597\n",
      "Epoch 37/200\n",
      "20/20 [==============================] - 0s 9ms/step - loss: 0.0641 - accuracy: 0.9739 - val_loss: 1.0707 - val_accuracy: 0.7338\n",
      "Epoch 38/200\n",
      "20/20 [==============================] - 0s 9ms/step - loss: 0.0434 - accuracy: 0.9805 - val_loss: 1.0575 - val_accuracy: 0.7662\n",
      "Epoch 39/200\n",
      "20/20 [==============================] - 0s 13ms/step - loss: 0.0404 - accuracy: 0.9805 - val_loss: 1.0943 - val_accuracy: 0.7727\n",
      "Epoch 40/200\n",
      "20/20 [==============================] - 0s 8ms/step - loss: 0.0172 - accuracy: 0.9886 - val_loss: 1.1623 - val_accuracy: 0.7532\n",
      "Epoch 41/200\n",
      "20/20 [==============================] - 0s 8ms/step - loss: 0.0147 - accuracy: 0.9886 - val_loss: 1.1876 - val_accuracy: 0.7532\n",
      "Epoch 42/200\n",
      "20/20 [==============================] - 0s 8ms/step - loss: 0.0137 - accuracy: 0.9886 - val_loss: 1.2110 - val_accuracy: 0.7403\n",
      "Epoch 43/200\n",
      "20/20 [==============================] - 0s 8ms/step - loss: 0.0123 - accuracy: 0.9935 - val_loss: 1.2290 - val_accuracy: 0.7403\n",
      "Epoch 44/200\n",
      "20/20 [==============================] - 0s 8ms/step - loss: 0.0118 - accuracy: 0.9967 - val_loss: 1.2374 - val_accuracy: 0.7338\n",
      "Epoch 45/200\n",
      "20/20 [==============================] - 0s 8ms/step - loss: 0.0112 - accuracy: 0.9967 - val_loss: 1.2443 - val_accuracy: 0.7338\n",
      "Epoch 46/200\n",
      "20/20 [==============================] - 0s 8ms/step - loss: 0.0108 - accuracy: 0.9967 - val_loss: 1.2534 - val_accuracy: 0.7338\n",
      "Epoch 47/200\n",
      "20/20 [==============================] - 0s 8ms/step - loss: 0.0105 - accuracy: 0.9967 - val_loss: 1.2613 - val_accuracy: 0.7338\n",
      "Epoch 48/200\n",
      "20/20 [==============================] - 0s 8ms/step - loss: 0.0100 - accuracy: 0.9967 - val_loss: 1.2610 - val_accuracy: 0.7403\n",
      "Epoch 49/200\n",
      "20/20 [==============================] - 0s 7ms/step - loss: 0.0096 - accuracy: 0.9984 - val_loss: 1.2705 - val_accuracy: 0.7338\n",
      "Epoch 50/200\n",
      "20/20 [==============================] - 0s 8ms/step - loss: 0.0092 - accuracy: 0.9967 - val_loss: 1.2832 - val_accuracy: 0.7338\n",
      "Epoch 51/200\n",
      "20/20 [==============================] - 0s 8ms/step - loss: 0.0091 - accuracy: 0.9984 - val_loss: 1.2958 - val_accuracy: 0.7338\n",
      "Epoch 52/200\n",
      "20/20 [==============================] - 0s 8ms/step - loss: 0.0087 - accuracy: 0.9984 - val_loss: 1.3099 - val_accuracy: 0.7338\n",
      "Epoch 53/200\n",
      "20/20 [==============================] - 0s 8ms/step - loss: 0.0087 - accuracy: 0.9984 - val_loss: 1.3180 - val_accuracy: 0.7338\n",
      "Epoch 54/200\n",
      "20/20 [==============================] - 0s 7ms/step - loss: 0.0083 - accuracy: 0.9984 - val_loss: 1.3266 - val_accuracy: 0.7338\n",
      "Epoch 55/200\n",
      "20/20 [==============================] - 0s 13ms/step - loss: 0.0088 - accuracy: 0.9984 - val_loss: 1.3311 - val_accuracy: 0.7338\n",
      "Epoch 56/200\n",
      "20/20 [==============================] - 0s 8ms/step - loss: 0.0080 - accuracy: 0.9984 - val_loss: 1.3496 - val_accuracy: 0.7338\n",
      "Epoch 57/200\n",
      "20/20 [==============================] - 0s 8ms/step - loss: 0.0079 - accuracy: 0.9984 - val_loss: 1.3537 - val_accuracy: 0.7338\n",
      "Epoch 58/200\n",
      "20/20 [==============================] - 0s 8ms/step - loss: 0.0076 - accuracy: 0.9984 - val_loss: 1.3620 - val_accuracy: 0.7338\n",
      "Epoch 59/200\n",
      "20/20 [==============================] - 0s 8ms/step - loss: 0.0074 - accuracy: 0.9984 - val_loss: 1.3790 - val_accuracy: 0.7273\n",
      "Epoch 60/200\n",
      "20/20 [==============================] - 0s 8ms/step - loss: 0.0158 - accuracy: 0.9967 - val_loss: 1.3694 - val_accuracy: 0.7273\n",
      "Epoch 61/200\n",
      "20/20 [==============================] - 0s 8ms/step - loss: 0.0188 - accuracy: 0.9886 - val_loss: 1.4775 - val_accuracy: 0.7208\n",
      "Epoch 62/200\n",
      "20/20 [==============================] - 0s 8ms/step - loss: 0.0127 - accuracy: 0.9951 - val_loss: 1.4727 - val_accuracy: 0.7143\n",
      "Epoch 63/200\n",
      "20/20 [==============================] - 0s 8ms/step - loss: 0.0123 - accuracy: 0.9935 - val_loss: 1.5478 - val_accuracy: 0.6948\n",
      "Epoch 64/200\n",
      "20/20 [==============================] - 0s 8ms/step - loss: 0.0086 - accuracy: 0.9984 - val_loss: 1.5326 - val_accuracy: 0.7013\n",
      "Epoch 65/200\n",
      "20/20 [==============================] - 0s 10ms/step - loss: 0.0082 - accuracy: 0.9984 - val_loss: 1.5438 - val_accuracy: 0.7143\n",
      "Epoch 66/200\n",
      "20/20 [==============================] - 0s 7ms/step - loss: 0.0072 - accuracy: 0.9984 - val_loss: 1.5081 - val_accuracy: 0.7078\n",
      "Epoch 67/200\n",
      "20/20 [==============================] - 0s 7ms/step - loss: 0.0070 - accuracy: 0.9984 - val_loss: 1.5147 - val_accuracy: 0.7143\n",
      "Epoch 68/200\n",
      "20/20 [==============================] - 0s 8ms/step - loss: 0.0067 - accuracy: 0.9984 - val_loss: 1.5230 - val_accuracy: 0.7143\n",
      "Epoch 69/200\n",
      "20/20 [==============================] - 0s 8ms/step - loss: 0.0062 - accuracy: 0.9984 - val_loss: 1.5586 - val_accuracy: 0.7078\n",
      "Epoch 70/200\n",
      "20/20 [==============================] - 0s 13ms/step - loss: 0.0062 - accuracy: 1.0000 - val_loss: 1.5415 - val_accuracy: 0.7208\n",
      "Epoch 71/200\n",
      "20/20 [==============================] - 0s 8ms/step - loss: 0.0493 - accuracy: 0.9902 - val_loss: 1.4851 - val_accuracy: 0.7143\n",
      "Epoch 72/200\n",
      "20/20 [==============================] - 0s 7ms/step - loss: 0.1218 - accuracy: 0.9723 - val_loss: 0.9747 - val_accuracy: 0.7143\n",
      "Epoch 73/200\n",
      "20/20 [==============================] - 0s 8ms/step - loss: 0.0870 - accuracy: 0.9772 - val_loss: 1.0516 - val_accuracy: 0.7468\n",
      "Epoch 74/200\n",
      "20/20 [==============================] - 0s 8ms/step - loss: 0.0539 - accuracy: 0.9837 - val_loss: 1.1454 - val_accuracy: 0.7273\n",
      "Epoch 75/200\n",
      "20/20 [==============================] - 0s 8ms/step - loss: 0.0389 - accuracy: 0.9902 - val_loss: 1.1484 - val_accuracy: 0.7403\n",
      "Epoch 76/200\n",
      "20/20 [==============================] - 0s 11ms/step - loss: 0.0416 - accuracy: 0.9919 - val_loss: 1.1584 - val_accuracy: 0.7468\n",
      "Epoch 77/200\n",
      "20/20 [==============================] - 0s 9ms/step - loss: 0.0835 - accuracy: 0.9837 - val_loss: 1.2283 - val_accuracy: 0.7338\n",
      "Epoch 78/200\n",
      "20/20 [==============================] - 0s 8ms/step - loss: 0.1136 - accuracy: 0.9642 - val_loss: 0.8809 - val_accuracy: 0.7792\n",
      "Epoch 79/200\n",
      "20/20 [==============================] - 0s 7ms/step - loss: 0.0955 - accuracy: 0.9674 - val_loss: 0.9172 - val_accuracy: 0.7468\n",
      "Epoch 80/200\n",
      "20/20 [==============================] - 0s 8ms/step - loss: 0.0368 - accuracy: 0.9886 - val_loss: 1.0168 - val_accuracy: 0.7468\n",
      "Epoch 81/200\n",
      "20/20 [==============================] - 0s 9ms/step - loss: 0.0117 - accuracy: 0.9984 - val_loss: 1.0897 - val_accuracy: 0.7532\n",
      "Epoch 82/200\n",
      "20/20 [==============================] - 0s 8ms/step - loss: 0.0089 - accuracy: 0.9984 - val_loss: 1.1473 - val_accuracy: 0.7532\n",
      "Epoch 83/200\n",
      "20/20 [==============================] - 0s 8ms/step - loss: 0.0079 - accuracy: 0.9984 - val_loss: 1.1780 - val_accuracy: 0.7532\n",
      "Epoch 84/200\n",
      "20/20 [==============================] - 0s 7ms/step - loss: 0.0074 - accuracy: 0.9984 - val_loss: 1.1951 - val_accuracy: 0.7532\n",
      "Epoch 85/200\n",
      "20/20 [==============================] - 0s 13ms/step - loss: 0.0070 - accuracy: 1.0000 - val_loss: 1.2156 - val_accuracy: 0.7532\n",
      "Epoch 86/200\n",
      "20/20 [==============================] - 0s 8ms/step - loss: 0.0050 - accuracy: 1.0000 - val_loss: 1.2342 - val_accuracy: 0.7532\n",
      "Epoch 87/200\n",
      "20/20 [==============================] - 0s 8ms/step - loss: 0.0047 - accuracy: 1.0000 - val_loss: 1.2442 - val_accuracy: 0.7532\n",
      "Epoch 88/200\n",
      "20/20 [==============================] - 0s 8ms/step - loss: 0.0045 - accuracy: 1.0000 - val_loss: 1.2559 - val_accuracy: 0.7532\n",
      "Epoch 89/200\n",
      "20/20 [==============================] - 0s 8ms/step - loss: 0.0042 - accuracy: 1.0000 - val_loss: 1.2684 - val_accuracy: 0.7532\n",
      "Epoch 90/200\n",
      "20/20 [==============================] - 0s 8ms/step - loss: 0.0040 - accuracy: 1.0000 - val_loss: 1.2792 - val_accuracy: 0.7532\n",
      "Epoch 91/200\n",
      "20/20 [==============================] - 0s 7ms/step - loss: 0.0038 - accuracy: 1.0000 - val_loss: 1.2895 - val_accuracy: 0.7532\n",
      "Epoch 92/200\n",
      "20/20 [==============================] - 0s 8ms/step - loss: 0.0038 - accuracy: 1.0000 - val_loss: 1.2924 - val_accuracy: 0.7597\n",
      "Epoch 93/200\n",
      "20/20 [==============================] - 0s 8ms/step - loss: 0.0035 - accuracy: 1.0000 - val_loss: 1.3039 - val_accuracy: 0.7597\n",
      "Epoch 94/200\n",
      "20/20 [==============================] - 0s 8ms/step - loss: 0.0033 - accuracy: 1.0000 - val_loss: 1.3163 - val_accuracy: 0.7532\n",
      "Epoch 95/200\n",
      "20/20 [==============================] - 0s 7ms/step - loss: 0.0032 - accuracy: 1.0000 - val_loss: 1.3258 - val_accuracy: 0.7532\n",
      "Epoch 96/200\n",
      "20/20 [==============================] - 0s 7ms/step - loss: 0.0031 - accuracy: 1.0000 - val_loss: 1.3319 - val_accuracy: 0.7532\n",
      "Epoch 97/200\n",
      "20/20 [==============================] - 0s 7ms/step - loss: 0.0030 - accuracy: 1.0000 - val_loss: 1.3370 - val_accuracy: 0.7532\n",
      "Epoch 98/200\n",
      "20/20 [==============================] - 0s 8ms/step - loss: 0.0029 - accuracy: 1.0000 - val_loss: 1.3423 - val_accuracy: 0.7532\n",
      "Epoch 99/200\n",
      "20/20 [==============================] - 0s 7ms/step - loss: 0.0028 - accuracy: 1.0000 - val_loss: 1.3482 - val_accuracy: 0.7532\n",
      "Epoch 100/200\n",
      "20/20 [==============================] - 0s 14ms/step - loss: 0.0027 - accuracy: 1.0000 - val_loss: 1.3547 - val_accuracy: 0.7532\n",
      "Epoch 101/200\n",
      "20/20 [==============================] - 0s 8ms/step - loss: 0.0026 - accuracy: 1.0000 - val_loss: 1.3604 - val_accuracy: 0.7532\n",
      "Epoch 102/200\n",
      "20/20 [==============================] - 0s 8ms/step - loss: 0.0025 - accuracy: 1.0000 - val_loss: 1.3650 - val_accuracy: 0.7532\n",
      "Epoch 103/200\n",
      "20/20 [==============================] - 0s 7ms/step - loss: 0.0025 - accuracy: 1.0000 - val_loss: 1.3703 - val_accuracy: 0.7532\n",
      "Epoch 104/200\n",
      "20/20 [==============================] - 0s 8ms/step - loss: 0.0024 - accuracy: 1.0000 - val_loss: 1.3752 - val_accuracy: 0.7597\n",
      "Epoch 105/200\n",
      "20/20 [==============================] - 0s 7ms/step - loss: 0.0023 - accuracy: 1.0000 - val_loss: 1.3782 - val_accuracy: 0.7597\n",
      "Epoch 106/200\n",
      "20/20 [==============================] - 0s 8ms/step - loss: 0.0023 - accuracy: 1.0000 - val_loss: 1.3834 - val_accuracy: 0.7597\n",
      "Epoch 107/200\n",
      "20/20 [==============================] - 0s 9ms/step - loss: 0.0022 - accuracy: 1.0000 - val_loss: 1.3874 - val_accuracy: 0.7597\n",
      "Epoch 108/200\n",
      "20/20 [==============================] - 0s 14ms/step - loss: 0.0022 - accuracy: 1.0000 - val_loss: 1.3921 - val_accuracy: 0.7597\n",
      "Epoch 109/200\n",
      "20/20 [==============================] - 0s 12ms/step - loss: 0.0021 - accuracy: 1.0000 - val_loss: 1.3967 - val_accuracy: 0.7597\n",
      "Epoch 110/200\n",
      "20/20 [==============================] - 0s 10ms/step - loss: 0.0021 - accuracy: 1.0000 - val_loss: 1.4012 - val_accuracy: 0.7597\n",
      "Epoch 111/200\n",
      "20/20 [==============================] - 0s 11ms/step - loss: 0.0020 - accuracy: 1.0000 - val_loss: 1.4048 - val_accuracy: 0.7662\n",
      "Epoch 112/200\n",
      "20/20 [==============================] - 0s 9ms/step - loss: 0.0020 - accuracy: 1.0000 - val_loss: 1.4095 - val_accuracy: 0.7662\n",
      "Epoch 113/200\n",
      "20/20 [==============================] - 0s 13ms/step - loss: 0.0019 - accuracy: 1.0000 - val_loss: 1.4123 - val_accuracy: 0.7662\n",
      "Epoch 114/200\n",
      "20/20 [==============================] - 0s 8ms/step - loss: 0.0019 - accuracy: 1.0000 - val_loss: 1.4170 - val_accuracy: 0.7662\n",
      "Epoch 115/200\n",
      "20/20 [==============================] - 0s 8ms/step - loss: 0.0018 - accuracy: 1.0000 - val_loss: 1.4216 - val_accuracy: 0.7662\n",
      "Epoch 116/200\n",
      "20/20 [==============================] - 0s 9ms/step - loss: 0.0018 - accuracy: 1.0000 - val_loss: 1.4254 - val_accuracy: 0.7662\n",
      "Epoch 117/200\n",
      "20/20 [==============================] - 0s 11ms/step - loss: 0.0017 - accuracy: 1.0000 - val_loss: 1.4287 - val_accuracy: 0.7662\n",
      "Epoch 118/200\n",
      "20/20 [==============================] - 0s 8ms/step - loss: 0.0017 - accuracy: 1.0000 - val_loss: 1.4323 - val_accuracy: 0.7597\n",
      "Epoch 119/200\n",
      "20/20 [==============================] - 0s 9ms/step - loss: 0.0017 - accuracy: 1.0000 - val_loss: 1.4362 - val_accuracy: 0.7597\n",
      "Epoch 120/200\n",
      "20/20 [==============================] - 0s 11ms/step - loss: 0.0016 - accuracy: 1.0000 - val_loss: 1.4397 - val_accuracy: 0.7597\n",
      "Epoch 121/200\n",
      "20/20 [==============================] - 0s 10ms/step - loss: 0.0016 - accuracy: 1.0000 - val_loss: 1.4439 - val_accuracy: 0.7597\n",
      "Epoch 122/200\n",
      "20/20 [==============================] - 0s 8ms/step - loss: 0.0016 - accuracy: 1.0000 - val_loss: 1.4480 - val_accuracy: 0.7597\n",
      "Epoch 123/200\n",
      "20/20 [==============================] - 0s 8ms/step - loss: 0.0015 - accuracy: 1.0000 - val_loss: 1.4521 - val_accuracy: 0.7597\n",
      "Epoch 124/200\n",
      "20/20 [==============================] - 0s 8ms/step - loss: 0.0015 - accuracy: 1.0000 - val_loss: 1.4557 - val_accuracy: 0.7597\n",
      "Epoch 125/200\n",
      "20/20 [==============================] - 0s 8ms/step - loss: 0.0015 - accuracy: 1.0000 - val_loss: 1.4597 - val_accuracy: 0.7597\n",
      "Epoch 126/200\n",
      "20/20 [==============================] - 0s 8ms/step - loss: 0.0014 - accuracy: 1.0000 - val_loss: 1.4639 - val_accuracy: 0.7597\n",
      "Epoch 127/200\n",
      "20/20 [==============================] - 0s 14ms/step - loss: 0.0014 - accuracy: 1.0000 - val_loss: 1.4676 - val_accuracy: 0.7597\n",
      "Epoch 128/200\n",
      "20/20 [==============================] - 0s 8ms/step - loss: 0.0014 - accuracy: 1.0000 - val_loss: 1.4716 - val_accuracy: 0.7597\n",
      "Epoch 129/200\n",
      "20/20 [==============================] - 0s 8ms/step - loss: 0.0014 - accuracy: 1.0000 - val_loss: 1.4755 - val_accuracy: 0.7597\n",
      "Epoch 130/200\n",
      "20/20 [==============================] - 0s 9ms/step - loss: 0.0013 - accuracy: 1.0000 - val_loss: 1.4788 - val_accuracy: 0.7597\n",
      "Epoch 131/200\n",
      "20/20 [==============================] - 0s 10ms/step - loss: 0.0013 - accuracy: 1.0000 - val_loss: 1.4828 - val_accuracy: 0.7597\n",
      "Epoch 132/200\n",
      "20/20 [==============================] - 0s 8ms/step - loss: 0.0013 - accuracy: 1.0000 - val_loss: 1.4861 - val_accuracy: 0.7597\n",
      "Epoch 133/200\n",
      "20/20 [==============================] - 0s 8ms/step - loss: 0.0013 - accuracy: 1.0000 - val_loss: 1.4902 - val_accuracy: 0.7597\n",
      "Epoch 134/200\n",
      "20/20 [==============================] - 0s 16ms/step - loss: 0.0012 - accuracy: 1.0000 - val_loss: 1.4940 - val_accuracy: 0.7597\n",
      "Epoch 135/200\n",
      "20/20 [==============================] - 0s 8ms/step - loss: 0.0012 - accuracy: 1.0000 - val_loss: 1.4979 - val_accuracy: 0.7597\n",
      "Epoch 136/200\n",
      "20/20 [==============================] - 0s 7ms/step - loss: 0.0012 - accuracy: 1.0000 - val_loss: 1.5008 - val_accuracy: 0.7597\n",
      "Epoch 137/200\n",
      "20/20 [==============================] - 0s 8ms/step - loss: 0.0012 - accuracy: 1.0000 - val_loss: 1.5044 - val_accuracy: 0.7597\n",
      "Epoch 138/200\n",
      "20/20 [==============================] - 0s 8ms/step - loss: 0.0012 - accuracy: 1.0000 - val_loss: 1.5082 - val_accuracy: 0.7597\n",
      "Epoch 139/200\n",
      "20/20 [==============================] - 0s 11ms/step - loss: 0.0011 - accuracy: 1.0000 - val_loss: 1.5122 - val_accuracy: 0.7597\n",
      "Epoch 140/200\n",
      "20/20 [==============================] - 0s 14ms/step - loss: 0.0011 - accuracy: 1.0000 - val_loss: 1.5154 - val_accuracy: 0.7597\n",
      "Epoch 141/200\n",
      "20/20 [==============================] - 0s 11ms/step - loss: 0.0011 - accuracy: 1.0000 - val_loss: 1.5192 - val_accuracy: 0.7597\n",
      "Epoch 142/200\n",
      "20/20 [==============================] - 0s 8ms/step - loss: 0.0011 - accuracy: 1.0000 - val_loss: 1.5227 - val_accuracy: 0.7597\n",
      "Epoch 143/200\n",
      "20/20 [==============================] - 0s 8ms/step - loss: 0.0011 - accuracy: 1.0000 - val_loss: 1.5265 - val_accuracy: 0.7597\n",
      "Epoch 144/200\n",
      "20/20 [==============================] - 0s 8ms/step - loss: 0.0010 - accuracy: 1.0000 - val_loss: 1.5304 - val_accuracy: 0.7597\n",
      "Epoch 145/200\n",
      "20/20 [==============================] - 0s 8ms/step - loss: 0.0010 - accuracy: 1.0000 - val_loss: 1.5335 - val_accuracy: 0.7597\n",
      "Epoch 146/200\n",
      "20/20 [==============================] - 0s 8ms/step - loss: 0.0010 - accuracy: 1.0000 - val_loss: 1.5366 - val_accuracy: 0.7597\n",
      "Epoch 147/200\n",
      "20/20 [==============================] - 0s 8ms/step - loss: 9.8948e-04 - accuracy: 1.0000 - val_loss: 1.5403 - val_accuracy: 0.7597\n",
      "Epoch 148/200\n",
      "20/20 [==============================] - 0s 8ms/step - loss: 9.7309e-04 - accuracy: 1.0000 - val_loss: 1.5438 - val_accuracy: 0.7597\n",
      "Epoch 149/200\n",
      "20/20 [==============================] - 0s 8ms/step - loss: 9.5853e-04 - accuracy: 1.0000 - val_loss: 1.5475 - val_accuracy: 0.7597\n",
      "Epoch 150/200\n",
      "20/20 [==============================] - 0s 8ms/step - loss: 9.4260e-04 - accuracy: 1.0000 - val_loss: 1.5511 - val_accuracy: 0.7597\n",
      "Epoch 151/200\n",
      "20/20 [==============================] - 0s 15ms/step - loss: 9.2833e-04 - accuracy: 1.0000 - val_loss: 1.5548 - val_accuracy: 0.7597\n",
      "Epoch 152/200\n",
      "20/20 [==============================] - 0s 14ms/step - loss: 9.1260e-04 - accuracy: 1.0000 - val_loss: 1.5587 - val_accuracy: 0.7597\n",
      "Epoch 153/200\n",
      "20/20 [==============================] - 0s 8ms/step - loss: 8.9558e-04 - accuracy: 1.0000 - val_loss: 1.5616 - val_accuracy: 0.7597\n",
      "Epoch 154/200\n",
      "20/20 [==============================] - 0s 15ms/step - loss: 8.7962e-04 - accuracy: 1.0000 - val_loss: 1.5642 - val_accuracy: 0.7597\n",
      "Epoch 155/200\n",
      "20/20 [==============================] - 0s 8ms/step - loss: 8.6537e-04 - accuracy: 1.0000 - val_loss: 1.5677 - val_accuracy: 0.7597\n",
      "Epoch 156/200\n",
      "20/20 [==============================] - 0s 7ms/step - loss: 8.4982e-04 - accuracy: 1.0000 - val_loss: 1.5707 - val_accuracy: 0.7597\n",
      "Epoch 157/200\n",
      "20/20 [==============================] - 0s 9ms/step - loss: 8.3612e-04 - accuracy: 1.0000 - val_loss: 1.5739 - val_accuracy: 0.7597\n",
      "Epoch 158/200\n",
      "20/20 [==============================] - 0s 14ms/step - loss: 8.2257e-04 - accuracy: 1.0000 - val_loss: 1.5772 - val_accuracy: 0.7597\n",
      "Epoch 159/200\n",
      "20/20 [==============================] - 0s 9ms/step - loss: 8.1024e-04 - accuracy: 1.0000 - val_loss: 1.5808 - val_accuracy: 0.7597\n",
      "Epoch 160/200\n",
      "20/20 [==============================] - 0s 9ms/step - loss: 7.9810e-04 - accuracy: 1.0000 - val_loss: 1.5846 - val_accuracy: 0.7597\n",
      "Epoch 161/200\n",
      "20/20 [==============================] - 0s 7ms/step - loss: 7.8612e-04 - accuracy: 1.0000 - val_loss: 1.5880 - val_accuracy: 0.7597\n",
      "Epoch 162/200\n",
      "20/20 [==============================] - 0s 8ms/step - loss: 7.7499e-04 - accuracy: 1.0000 - val_loss: 1.5908 - val_accuracy: 0.7597\n",
      "Epoch 163/200\n",
      "20/20 [==============================] - 0s 8ms/step - loss: 7.6195e-04 - accuracy: 1.0000 - val_loss: 1.5945 - val_accuracy: 0.7597\n",
      "Epoch 164/200\n",
      "20/20 [==============================] - 0s 7ms/step - loss: 7.5262e-04 - accuracy: 1.0000 - val_loss: 1.5979 - val_accuracy: 0.7597\n",
      "Epoch 165/200\n",
      "20/20 [==============================] - 0s 13ms/step - loss: 7.4058e-04 - accuracy: 1.0000 - val_loss: 1.6014 - val_accuracy: 0.7597\n",
      "Epoch 166/200\n",
      "20/20 [==============================] - 0s 8ms/step - loss: 7.2852e-04 - accuracy: 1.0000 - val_loss: 1.6044 - val_accuracy: 0.7597\n",
      "Epoch 167/200\n",
      "20/20 [==============================] - 0s 7ms/step - loss: 7.1857e-04 - accuracy: 1.0000 - val_loss: 1.6078 - val_accuracy: 0.7597\n",
      "Epoch 168/200\n",
      "20/20 [==============================] - 0s 8ms/step - loss: 7.0840e-04 - accuracy: 1.0000 - val_loss: 1.6117 - val_accuracy: 0.7597\n",
      "Epoch 169/200\n",
      "20/20 [==============================] - 0s 8ms/step - loss: 6.9863e-04 - accuracy: 1.0000 - val_loss: 1.6143 - val_accuracy: 0.7597\n",
      "Epoch 170/200\n",
      "20/20 [==============================] - 0s 8ms/step - loss: 6.8837e-04 - accuracy: 1.0000 - val_loss: 1.6173 - val_accuracy: 0.7597\n",
      "Epoch 171/200\n",
      "20/20 [==============================] - 0s 8ms/step - loss: 6.7825e-04 - accuracy: 1.0000 - val_loss: 1.6206 - val_accuracy: 0.7597\n",
      "Epoch 172/200\n",
      "20/20 [==============================] - 0s 8ms/step - loss: 6.6851e-04 - accuracy: 1.0000 - val_loss: 1.6234 - val_accuracy: 0.7597\n",
      "Epoch 173/200\n",
      "20/20 [==============================] - 0s 7ms/step - loss: 6.5884e-04 - accuracy: 1.0000 - val_loss: 1.6269 - val_accuracy: 0.7597\n",
      "Epoch 174/200\n",
      "20/20 [==============================] - 0s 7ms/step - loss: 6.5029e-04 - accuracy: 1.0000 - val_loss: 1.6296 - val_accuracy: 0.7597\n",
      "Epoch 175/200\n",
      "20/20 [==============================] - 0s 8ms/step - loss: 6.4213e-04 - accuracy: 1.0000 - val_loss: 1.6335 - val_accuracy: 0.7597\n",
      "Epoch 176/200\n",
      "20/20 [==============================] - 0s 8ms/step - loss: 6.3258e-04 - accuracy: 1.0000 - val_loss: 1.6362 - val_accuracy: 0.7532\n",
      "Epoch 177/200\n",
      "20/20 [==============================] - 0s 8ms/step - loss: 6.2445e-04 - accuracy: 1.0000 - val_loss: 1.6396 - val_accuracy: 0.7532\n",
      "Epoch 178/200\n",
      "20/20 [==============================] - 0s 8ms/step - loss: 6.1483e-04 - accuracy: 1.0000 - val_loss: 1.6425 - val_accuracy: 0.7532\n",
      "Epoch 179/200\n",
      "20/20 [==============================] - 0s 13ms/step - loss: 6.0596e-04 - accuracy: 1.0000 - val_loss: 1.6453 - val_accuracy: 0.7532\n",
      "Epoch 180/200\n",
      "20/20 [==============================] - 0s 8ms/step - loss: 5.9836e-04 - accuracy: 1.0000 - val_loss: 1.6487 - val_accuracy: 0.7532\n",
      "Epoch 181/200\n",
      "20/20 [==============================] - 0s 8ms/step - loss: 5.8956e-04 - accuracy: 1.0000 - val_loss: 1.6513 - val_accuracy: 0.7532\n",
      "Epoch 182/200\n",
      "20/20 [==============================] - 0s 9ms/step - loss: 5.8171e-04 - accuracy: 1.0000 - val_loss: 1.6544 - val_accuracy: 0.7532\n",
      "Epoch 183/200\n",
      "20/20 [==============================] - 0s 8ms/step - loss: 5.7405e-04 - accuracy: 1.0000 - val_loss: 1.6576 - val_accuracy: 0.7532\n",
      "Epoch 184/200\n",
      "20/20 [==============================] - 0s 8ms/step - loss: 5.6538e-04 - accuracy: 1.0000 - val_loss: 1.6604 - val_accuracy: 0.7532\n",
      "Epoch 185/200\n",
      "20/20 [==============================] - 0s 8ms/step - loss: 5.5793e-04 - accuracy: 1.0000 - val_loss: 1.6634 - val_accuracy: 0.7532\n",
      "Epoch 186/200\n",
      "20/20 [==============================] - 0s 8ms/step - loss: 5.5121e-04 - accuracy: 1.0000 - val_loss: 1.6668 - val_accuracy: 0.7532\n",
      "Epoch 187/200\n",
      "20/20 [==============================] - 0s 8ms/step - loss: 5.4363e-04 - accuracy: 1.0000 - val_loss: 1.6693 - val_accuracy: 0.7532\n",
      "Epoch 188/200\n",
      "20/20 [==============================] - 0s 7ms/step - loss: 5.3471e-04 - accuracy: 1.0000 - val_loss: 1.6724 - val_accuracy: 0.7532\n",
      "Epoch 189/200\n",
      "20/20 [==============================] - 0s 8ms/step - loss: 5.2709e-04 - accuracy: 1.0000 - val_loss: 1.6751 - val_accuracy: 0.7532\n",
      "Epoch 190/200\n",
      "20/20 [==============================] - 0s 8ms/step - loss: 5.2016e-04 - accuracy: 1.0000 - val_loss: 1.6778 - val_accuracy: 0.7532\n",
      "Epoch 191/200\n",
      "20/20 [==============================] - 0s 13ms/step - loss: 5.1271e-04 - accuracy: 1.0000 - val_loss: 1.6807 - val_accuracy: 0.7532\n",
      "Epoch 192/200\n",
      "20/20 [==============================] - 0s 8ms/step - loss: 5.0513e-04 - accuracy: 1.0000 - val_loss: 1.6839 - val_accuracy: 0.7532\n",
      "Epoch 193/200\n",
      "20/20 [==============================] - 0s 7ms/step - loss: 4.9891e-04 - accuracy: 1.0000 - val_loss: 1.6871 - val_accuracy: 0.7532\n",
      "Epoch 194/200\n",
      "20/20 [==============================] - 0s 8ms/step - loss: 4.9133e-04 - accuracy: 1.0000 - val_loss: 1.6896 - val_accuracy: 0.7532\n",
      "Epoch 195/200\n",
      "20/20 [==============================] - 0s 8ms/step - loss: 4.8530e-04 - accuracy: 1.0000 - val_loss: 1.6926 - val_accuracy: 0.7532\n",
      "Epoch 196/200\n",
      "20/20 [==============================] - 0s 7ms/step - loss: 4.7895e-04 - accuracy: 1.0000 - val_loss: 1.6953 - val_accuracy: 0.7532\n",
      "Epoch 197/200\n",
      "20/20 [==============================] - 0s 9ms/step - loss: 4.7282e-04 - accuracy: 1.0000 - val_loss: 1.6985 - val_accuracy: 0.7532\n",
      "Epoch 198/200\n",
      "20/20 [==============================] - 0s 8ms/step - loss: 4.6703e-04 - accuracy: 1.0000 - val_loss: 1.7014 - val_accuracy: 0.7532\n",
      "Epoch 199/200\n",
      "20/20 [==============================] - 0s 8ms/step - loss: 4.6073e-04 - accuracy: 1.0000 - val_loss: 1.7046 - val_accuracy: 0.7532\n",
      "Epoch 200/200\n",
      "20/20 [==============================] - 0s 7ms/step - loss: 4.5496e-04 - accuracy: 1.0000 - val_loss: 1.7072 - val_accuracy: 0.7532\n"
     ]
    },
    {
     "data": {
      "text/plain": [
       "<keras.src.callbacks.History at 0x2b946049a50>"
      ]
     },
     "execution_count": 56,
     "metadata": {},
     "output_type": "execute_result"
    }
   ],
   "source": [
    "model.fit(X_train, y_train, batch_size=32,\n",
    "          epochs=100, initial_epoch=6,\n",
    "          validation_data=(X_test, y_test))"
   ]
  },
  {
   "cell_type": "code",
   "execution_count": null,
   "metadata": {},
   "outputs": [],
   "source": []
  }
 ],
 "metadata": {
  "kernelspec": {
   "display_name": "timeseriesENV",
   "language": "python",
   "name": "python3"
  },
  "language_info": {
   "codemirror_mode": {
    "name": "ipython",
    "version": 3
   },
   "file_extension": ".py",
   "mimetype": "text/x-python",
   "name": "python",
   "nbconvert_exporter": "python",
   "pygments_lexer": "ipython3",
   "version": "3.10.6"
  }
 },
 "nbformat": 4,
 "nbformat_minor": 2
}
